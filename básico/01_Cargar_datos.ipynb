{
 "cells": [
  {
   "cell_type": "markdown",
   "id": "46c89f70-ecfd-44c7-b980-cd9e9594eacb",
   "metadata": {
    "tags": []
   },
   "source": [
    "<img align=\"center\" src=\"../extra/logos/logos.png\" width='1200px'>"
   ]
  },
  {
   "cell_type": "markdown",
   "id": "9ab88058-1fbf-4022-a203-f1e1e3c3c575",
   "metadata": {
    "tags": []
   },
   "source": [
    "# Carga de datos en el DataCube Chile &#127758;\n",
    "\n",
    "¡Sigamos con este tutorial! En [00_Acceso.ipynb](00_Acceso.ipynb) aprendimos a conectarnos a la instancia DataCubeChile, e importar repositorios. \n",
    "\n",
    "En este apartado, se verán las operaciones básicas que se pueden realizar con el DataCube:\n",
    "* Definir una área de estudio\n",
    "* Buscar productos y mediciones\n",
    "* Solicitar la información\n",
    "* Visualizar la información\n",
    "\n",
    "Aunque, hasta ahora no hemos explicado qué son los Jupyter Notebooks, así que partiremos por ello. Verás que son muy útiles...\n",
    "\n",
    "***\n",
    "\n",
    ">**Nota**: Este notebook contiene elementos extraídos desde [DataCube Australia](https://github.com/GeoscienceAustralia/dea-notebooks).\n",
    "\n",
    ">**Nota**: Si tiene problemas para desplegar este notebook, abra una terminal de Linux (File -> New -> Terminal), navegue hasta la carpeta donde está este notebook y escriba `jupyter trust 01_Carga_datos.ipynb`. Luego, vuelva a abrir el notebook.\n",
    "\n",
    "***"
   ]
  },
  {
   "cell_type": "markdown",
   "id": "ff5cb6e1-1a3d-47e0-beec-2d6239140a40",
   "metadata": {
    "tags": []
   },
   "source": [
    "# 1. Jupyter Notebook &#x1f4d3;\n",
    "\n",
    "Nacido del acrónimno **Ju**lia + **Pyt**hon + **R**, esta aplicación permite interactuar nativamente con estos tres lenguajes de programación. De momento sólo está instalado Python (**versión 3.10**), aunque se puede habilitar R también. La ventaja de Jupyter es que permite una interacción directa entre código, texto y resultados.\n",
    "\n",
    "## 1.1 ¿Cómo funciona?\n",
    "\n",
    "Los notebooks de Jupyter permiten que el código se separe en secciones que se pueden ejecutar de forma independiente entre sí. Estas secciones se denominan \"celdas\". \n",
    "\n",
    "Puedes viajar entre las celdas con las flechas arriba/abajo de tu teclado. \n",
    "\n",
    "Existen 3 tipos de celdas: \"Code\", \"Markdown\", \"Raw\". Puedes elejir el tipo de celda a la derecha del botón &#11208;&#11208;.\n",
    "\n",
    "El código Python se escribe en celdas individuales de tipo \"Code\".\n",
    "\n",
    "Al ejecutar una celda se ejecuta todo el contenido de esta. El resultado de la celda aparacererá directamente debajo de ella. Solo la última salida producida por la celda aparecerá como resultado, por lo que si desea ver el resultado de pasos intermedios, debe separar el código entre multiples celdas o utilizar el comando `print` en las partes de interés.\n",
    "\n",
    "- a. Para ejecutar una celda en particular, debe seleccionarla y presionar Shift-Enter en el teclado o seleccionar el botón &#11208; \"Run the selected cells and advance\" en la parte superior del notebook.\n",
    "- b. Para ejecutar todas las celdas en un notebook, navegue a la pestaña \"Run\" y luego seleccione \"Restart Kernel and Run All Cells...\". \n",
    "\n",
    "Mira, ¡abajo te mostramos donde tienes que hacer clic para ejecutar celdas!\n",
    "\n",
    "<img align=\"center\" src=\"../extra/capturas/intro1.png\" height='500px'>\n",
    "\n",
    "El símbolo `[ ]:`  ubicado a la izquierda de cada celda de código, describe el estado de la celda:\n",
    "\n",
    "* `[ ]:` significa que la celda aún no se ha ejecutado.\n",
    "* `[*]:` significa que la celda se está ejecutado.\n",
    "* `[1]:` significa que la celda ha terminado de ejecutarse. Este número va variando e indica el orden en que las celdas han sido ejecutadas\n",
    "\n",
    "> **Nota:** Para comprobar si una celda se está ejecutando actualmente, inspeccione el círculo pequeño en la parte superior a la derecha (donde dice Python 3 &#11096;).\n",
    "El círculo se volverá gris (\"Kernel ocupado\") cuando la celda se esté ejecutando y volverá a estar vacío (\"Kernel inactivo\") cuando se complete el proceso.\n",
    "\n",
    "***\n",
    "## 1.2 Tipos de celdas\n",
    "\n",
    "### 1.2.1 Celdas de código (Code)\n",
    "\n",
    "Todas las operaciones de código se realizan en celdas de código.\n",
    "Las celdas de código se pueden usar para editar y escribir código nuevo, y realizar cualquier tipo de tarea, como también ejecutar análisis. \n",
    "Estas celdas tienen la misma funcionalidad que la consola que provee iPython y algunos de sus comandos [\"mágicos\"](https://ipython.readthedocs.io/en/stable/interactive/magics.html) se pueden utilizar también.\n",
    "\n",
    "### 1.2.2 Celdas de escritura (Markdown)\n",
    "\n",
    "Las celdas de Markdown proporcionan el contexto al notebook y permiten que darle una orientación al usuario, ya que permiten describir de manera más extendida y detallada lo que sucede en el código.\n",
    "Para ver algunas de las opciones de formato para el texto en una celda de Markdown, navegue a la pestaña \"Ayuda\" de la barra de menú en la parte superior de JupyterLab y seleccione \"Markdown Reference\".\n",
    "Existe una amplia gama de opciones de formato de texto, incluidos títulos, puntos, cursiva, hipervínculos, creación de tablas e inclusión de imágenes/figuras. \n",
    "\n",
    "### 1.2.3 Celdas de escritura (Raw)\n",
    "\n",
    "Las celdas Raw permiten escribir texto que no será formateado, similar a escribir en un bloc de notas. \n",
    "\n",
    "***\n",
    "## 1.3 Ejecutar/Detener procesos\n",
    "\n",
    "Si por algún motivo se requiere detener la ejecución de una celda antes de que finalice (por ejemplo, si un proceso tarda demasiado en completarse o si el código debe modificarse antes de ejecutar la celda), se puede detener haciendo clic en el botón \"detener\" &#9632;  (\"Interrupt the kernel\"), en la parte superior del notebook.\n",
    "\n",
    "Para probar esto, ejecute la siguiente celda de código.\n",
    "Esto ejecutará un fragmento de código que tardará 20 segundos en completarse.\n",
    "Para interrumpir este código, presione la tecla &#9632; (botón \"Stop\")."
   ]
  },
  {
   "cell_type": "code",
   "execution_count": null,
   "id": "276c8cc7-5500-45f0-bc26-1347bc1cbaf2",
   "metadata": {
    "tags": []
   },
   "outputs": [],
   "source": [
    "import time\n",
    "print('Voy a dormir un rato...')\n",
    "time.sleep(20)\n",
    "print('¡Listo, como tuna!')"
   ]
  },
  {
   "cell_type": "markdown",
   "id": "200ead3c-b086-446d-bbc0-abf76d055b2f",
   "metadata": {
    "tags": []
   },
   "source": [
    "Si esto no funciona (si el notebook no responde), se puede reiniciar el notebook. Para hacer esto, navegue a la pestaña \"Kernel\" de la barra de menú, luego seleccione \"Restart Kernel\" o el botón &#x21bb; (\"Restart the kernel\").\n",
    "Reiniciar el notebook también sirve para verificar que el código funciona correctamente desde que se inicia por primera vez. Para ello, pulse el botón &#11208;&#11208;.\n",
    "\n",
    "***"
   ]
  },
  {
   "cell_type": "markdown",
   "id": "eb82b81e-1d7a-4a12-b73d-d8775544e7ec",
   "metadata": {
    "tags": []
   },
   "source": [
    "## 1.4 Guardar cambios\n",
    "\n",
    "Las modificaciones que se hagan sobre el notebook son guardadas automáticamente cada ciertos minutos. Para guardar los cambios en cualquier momento, haga clic en el icono &#128190; (\"save\"), en la parte superior izquierda del notebook.\n",
    "\n",
    "***"
   ]
  },
  {
   "cell_type": "markdown",
   "id": "a61e0824-f1cf-4da3-bae8-573a691da5cd",
   "metadata": {
    "tags": []
   },
   "source": [
    "# 2. Explorar productos y mediciones &#128752;\n",
    "\n",
    "Se puede tener una idea de los productos y la cobertura de las imágenes disponibles en el cubo en el [Explorador de imágenes](https://explorer.datacubechile.cl/).\n",
    "Dentro de la nomenclatura de DataCube, se habla de productos y mediciones:\n",
    "\n",
    "1. **Productos**: corresponden a los sensores. Por ejemplo, en el caso de Landsat-8, es una plataforma (satélite) que tiene dos sensores asociados, uno óptico (Operational Land Imager, OLI), que corresponde al producto `landsat8_c2l2_sr` y uno termal (Thermal Infrared Sensor, TIRS), que corresponde al producto `landsat8_c2l2_st`. Adicionalmente, hay un tercer producto para esta misma plataforma, que se llama `landsat8_geomedian_annual`. Todos estos productos son de la colección y nivel 2, pero podrían agregarse otros productos para la misma plataforma de otras colecciones y niveles.\n",
    "2. **Mediciones**: corresponden a las bandas que tiene cada producto. Cada banda abarca un rango específico del espectro electromagnético que es capturado por los distintos componentes del sensor y almacenado en matrices independientes. También pueden existir mediciones auxiliares, que indican calidad u otras características relevantes. Siguiendo con el ejemplo anterior, `landsat8_c2l2_sr` tiene un total de 10 mediciones, 3 de las cuales corresponden a bandas de calidad.\n",
    "\n",
    "***\n",
    "\n",
    "## 2.1 Cargar paquetes relevantes\n",
    "\n",
    "La celda a continuación carga los paquetes que permiten acceder al DataCube y sus funcionalidades."
   ]
  },
  {
   "cell_type": "code",
   "execution_count": null,
   "id": "6301662e-1a7e-42bf-9ddd-a73aa6b81fb1",
   "metadata": {},
   "outputs": [],
   "source": [
    "from dask.distributed import Client, LocalCluster\n",
    "cluster = LocalCluster()\n",
    "client = Client(cluster)"
   ]
  },
  {
   "cell_type": "code",
   "execution_count": null,
   "id": "86c740ab-870f-4ccc-85ca-ed68966f1f37",
   "metadata": {
    "tags": []
   },
   "outputs": [],
   "source": [
    "import datacube\n",
    "import xarray as xr\n",
    "import numpy as np\n",
    "import pandas as pd\n",
    "import matplotlib.pyplot as plt\n",
    "\n",
    "from odc.ui import DcViewer\n",
    "from datacube.utils import masking\n",
    "from datacube.utils.rio import configure_s3_access\n",
    "\n",
    "configure_s3_access(aws_unsigned=False, requester_pays=True, client=client)"
   ]
  },
  {
   "cell_type": "markdown",
   "id": "64aa55e8-1214-4590-a475-aab143ac9ca3",
   "metadata": {},
   "source": [
    "Partimos importando todas las librerías y funciones que vamos a necesitar.\n",
    "\n",
    "Importamos las librerías:\n",
    "- `datacube`: la librería principal de datacube.\n",
    "- `xarray`: para representar las imágenes,\n",
    "- `numpy`: la típica librería de cálculo científico.\n",
    "- `pandas`: para manejo y analisis de datos.\n",
    "- `matplotlib`: para plotear visualizaciones de datos e imágenes.\n",
    "- `odc`: un componente de la librería datacube que tiene funciones de procesamiento de imágenes.\n",
    "\n",
    "La última linea `configure_s3_access(aws_unsigned=False, requester_pays=True)` permite acceder a los buckets de S3 en donde están almacenados los datos del cátalogo de Open Data de AWS (Landsat y Sentinel-2).\n",
    "\n",
    "Al iniciar, es necesario generar una app del cubo con un nombre. Esto no afecta en nada el desempeño y solo cumple motivos de trazabilidad en caso de algún problema. El nombre puede ser de cualquier tipo, pero se recomienda que sea algo relacionado con la aplicación que se le dará:"
   ]
  },
  {
   "cell_type": "code",
   "execution_count": null,
   "id": "e90a0af4-b267-4fe4-8ea6-e74fe8b7a687",
   "metadata": {
    "tags": []
   },
   "outputs": [],
   "source": [
    "dc = datacube.Datacube(app='Basic_tutorial') "
   ]
  },
  {
   "cell_type": "markdown",
   "id": "ab27e997-31f2-4959-943d-ec848ea85c12",
   "metadata": {
    "tags": []
   },
   "source": [
    "***\n",
    "\n",
    "## 2.2 Explorar productos\n",
    "\n",
    "Una vez se tiene la app funcionando (en este caso `dc`), se pueden listar los productos disponibles.\n",
    "\n",
    "> **Nota:** Para explorar documentación sobre listar productos haga [click aquí](https://opendatacube.readthedocs.io/en/latest/api/indexed-data/generate/datacube.Datacube.list_products.html#datacube.Datacube.list_products)."
   ]
  },
  {
   "cell_type": "code",
   "execution_count": null,
   "id": "166b0660-ea0e-40aa-9c6d-b6eb7cb6f11f",
   "metadata": {
    "tags": []
   },
   "outputs": [],
   "source": [
    "dc.list_products()"
   ]
  },
  {
   "cell_type": "markdown",
   "id": "03bd3a81-d05c-4ced-b54c-b2005b85d79d",
   "metadata": {},
   "source": [
    "Actualmente está disponible la serie completa de Landsat (5, 7 y 8), Sentinel-2 y el DEM SRTM.\n",
    "\n",
    "***\n",
    "\n",
    "## 2.3 Explorar mediciones\n",
    "\n",
    "Cada producto contiene mediciones (`measurements`) a las cuáles es posible acceder. A continuación se muestra un listado de las mediciones disponibles para dos sensores (Landsat 8 y Sentinel-2)\n",
    "\n",
    "> **Nota:** Para explorar documentación sobre listar mediciones haga [click aquí](https://opendatacube.readthedocs.io/en/latest/api/indexed-data/generate/datacube.Datacube.list_measurements.html#datacube.Datacube.list_measurements)"
   ]
  },
  {
   "cell_type": "code",
   "execution_count": null,
   "id": "11a093a9-268f-45f6-9e5d-976da4c60677",
   "metadata": {
    "tags": []
   },
   "outputs": [],
   "source": [
    "products = ['landsat8_c2l2_sr', 's2_l2a']\n",
    "dc.list_measurements().loc[products]"
   ]
  },
  {
   "cell_type": "markdown",
   "id": "9ea5930e-0ae0-4086-a0d0-7aca7aff82ac",
   "metadata": {},
   "source": [
    "Cada una de estas filas se corresponde con una \"banda\" del sensor. Como se puede apreciar, no todas corresponden a mediciones directas realizadas por el sensor. En el caso de Landast y Sentinel, siempre están presentes bandas de calidad. También hay algunos sub-productos en algunos casos.\n",
    "\n",
    "Hay que prestar atención a las columnas `dtype`, `units` y `nodata`. En ellas se indican el tipo de dato (entero corto, largo, flotante, etc), las unidades, y el valor de datos NA, respectivamente. Hay que tenerlos presente al momento de trabajar con alguna de estas métricas. Por ejemplo, las bandas de reflectancia poseen tipo entero (uint16), pero la reflectancia posee valores en el rango `[0-1]`; es por esta razón que es necesario escalar la información (10.000 en este caso).\n",
    "\n",
    "***"
   ]
  },
  {
   "cell_type": "markdown",
   "id": "89ca15a5-e34a-463e-948e-17e64e358a05",
   "metadata": {
    "tags": []
   },
   "source": [
    "# 3. Definir solicitud &#x1f4dd;\n",
    "\n",
    "Para poder cargar las imágenes deseadas, es necesario definir algunos puntos primero:\n",
    "\n",
    "1. Definir producto (sensor)\n",
    "1. Definir mediciones requeridas (bandas)\n",
    "1. Definir ventana temporal de trabajo (rango)\n",
    "1. Definir ventana espacial de trabajo (extensión: latitud, longitud)\n",
    "1. Definir una proyección espacial de salida (códigos EPSG)\n",
    "1. Definir una resolución espacial de salida (grano)\n",
    "\n",
    "Los productos y mediciones ya fueron expuestos en las secciones 2.3 y 2.4. \n",
    "\n",
    "La ventana temporal de trabajo corresponde al rango en formato \"YYYY-MM-DD\" (Año-Mes-Día). Este rango puede ser mayor al rango de imágenes disponible para el producto y debe ser especificado de la siguiente manera `(\"2020-01-01\", \"2020-12-31\")`. Esto quiere decir, desde el 01 de enero del 2020 al 31 de diciembre del 2020.\n",
    "\n",
    "La ventana espacial de trabajo corresponde a la extensión geográfica cuyas coordenadas se proporcionan en grados decimales. Por ejemplo si quisiera capturar el área metropolitana de Santiago de Chile, debo proporcionar la latitud (eje y) como `(-34.0, -33.0)`, y la longitud (eje x) como `(-71.0, -70.0)`.\n",
    "\n",
    "La proyección espacial de salida se especifica siguiendo los códigos EPSG, para indicar que utilizaremos UTM en zona 19 Sur debemos escribir `\"EPSG:32719\"`. Puede explorar la siguiente página para más opciones [ESPG](https://epsg.io/)\n",
    "\n",
    "La resolución espacial de salida se puede solicitar con valores diferente a la resolución nativa. Para ello, basta con modificar la opción de resolución a la deseada. Por defecto, se utiliza el método de remuestreo \"nearest neighbour\", pero los siguientes están también disponibles (agregando por ejemplo, la opción `resampling= \"cubic\"`:\n",
    "```\n",
    "\"nearest\", \"cubic\", \"bilinear\", \"cubic_spline\", \"lanczos\", \n",
    "\"average\", \"mode\", \"gauss\", \"max\", \"min\", \"med\", \"q1\", \"q3\"\n",
    "```\n",
    ">**Nota**: Las unidades de la opción `resolution` corresponden a las unidades del crs específicado en `output_crs`. Hay que prestar atención a que normalmente el primer elemento es negativo, dada la forma en que se almacenan las coordenadas en las imágenes (el inicio está esquina superior izquierda) y la forma en que operan la mayoría de los crs (con un \"inicio\" en la esquina inferior izquierda).\n",
    "\n",
    "También es posible añadir la opción `group_by= \"solar_day\"` para que escenas de diferentes horas (diferentes 'tiles'), pero un mismo día queden en el cubo como si fuera una sola gran escena (si pertecene al mismo día).\n",
    "\n",
    "Siguiendo lo ya mencionado, podemos solicitar todas las mediciones (bandas) de landsat 8 para Santiago en el año 2020."
   ]
  },
  {
   "cell_type": "code",
   "execution_count": null,
   "id": "ba6250b6-8a51-4574-b596-e0ff67a9c4e2",
   "metadata": {
    "tags": []
   },
   "outputs": [],
   "source": [
    "query = {\n",
    "    \"product\": \"landsat8_c2l2_sr\",\n",
    "    \"y\": (-34.0, -33.0), \n",
    "    \"x\": (-71.0, -70.0),\n",
    "    \"time\": (\"2020-01-01\", \"2020-12-31\"),\n",
    "    \"output_crs\": \"EPSG:32719\",\n",
    "    \"resolution\": (-30, 30),\n",
    "    \"dask_chunks\": {\"time\": 1, 'x':2048, 'y':2048},\n",
    "    \"group_by\": \"solar_day\"\n",
    "}"
   ]
  },
  {
   "cell_type": "markdown",
   "id": "59833592-df7d-423a-9386-e344e838e42a",
   "metadata": {},
   "source": [
    "Desde el query anterior queda pendiente definir la utilización de \"dask_chunks\". Esto se realizará en notebooks más avanzados.\n",
    "\n",
    "***"
   ]
  },
  {
   "cell_type": "markdown",
   "id": "a5366a10-2670-4403-ace0-2904b2fa5203",
   "metadata": {},
   "source": [
    "# 4. Solicitar datos &#128389;\n",
    "\n",
    "Utilizaremos el query anterior para cargar el requerimiento al cubo de la siguiente forma:"
   ]
  },
  {
   "cell_type": "code",
   "execution_count": null,
   "id": "9d4cd622-bee4-4500-ad38-3c9cd2a77a91",
   "metadata": {
    "tags": []
   },
   "outputs": [],
   "source": [
    "ds = dc.load(**query)"
   ]
  },
  {
   "cell_type": "markdown",
   "id": "514a8f13-1bb1-44fc-aebf-8396323c462d",
   "metadata": {
    "tags": []
   },
   "source": [
    "***\n",
    "\n",
    "# 5. Explorar datos solicitados &#128270;"
   ]
  },
  {
   "cell_type": "markdown",
   "id": "6472e00b-05b6-48c3-897a-c7e8b606dd15",
   "metadata": {},
   "source": [
    "El objeto `ds` contiene los datos solicitados almacenado como `xarray.Dataset`.\n",
    "\n",
    "`OpenDataCube` funciona sobre la librería [`xarray`](https://xarray-contrib.github.io/xarray-tutorial/scipy-tutorial/00_overview.html), la cual permite trabajar en multiples dimensiones de manera eficiente. La estructura de datos es muy similar al formato [NetCDF](https://psl.noaa.gov/data/gridded/whatsnetCDF.html) y una de las principales ventajas, es que permite trabajar con la librería [`Dask`](https://dask.org/), la cual permite paralelizar cargas de trabajo."
   ]
  },
  {
   "cell_type": "code",
   "execution_count": null,
   "id": "ccf9b74d-3ac6-4018-a8ba-f08f4cd1290e",
   "metadata": {
    "tags": []
   },
   "outputs": [],
   "source": [
    "ds"
   ]
  },
  {
   "cell_type": "markdown",
   "id": "609587a3-c869-4036-b694-fe84fb61ff1c",
   "metadata": {
    "tags": []
   },
   "source": [
    "La ejecución de la celda anterior nos muestra el contenido del objeto `ds`:\n",
    "\n",
    "1. ***Dimensions***: es un listado simple, que identifica las dimensiones del arreglo. En este caso es tridimencinoal con (tiempo, latitud, longitud), pero cualquier otra combinación es posible (1, 2, 3, 4, ..., X dimensiones).\n",
    "1. ***Coordinates***: identifica el valor de cada una de las dimensiones, en cada uno de sus \"instantes\". En este caso `time` representa la fecha para cada tiempo, `x` e `y` son las coordenadas geográficas de cada pixel.\n",
    "1. ***Data variables***: son las mediciones, normalmente \"bandas\" del sensor, pero puede ser cualquier otro tipo. En este caso, por cada unidad `time`, existe una imagen completa con coordenadas `x`, `y` (un objeto `xarray.DataArray`).\n",
    "1. ***Attributes***: identifica el sistema de coordenadas de referencia de la información cargada.\n",
    "\n",
    "Se puede ver con mayor detalle alguna de las variables/mediciones. En el fondo esta una colección dentro de otra."
   ]
  },
  {
   "cell_type": "code",
   "execution_count": null,
   "id": "afd267c0-1577-4996-af51-2f40386558be",
   "metadata": {
    "tags": []
   },
   "outputs": [],
   "source": [
    "ds['red']"
   ]
  },
  {
   "cell_type": "markdown",
   "id": "33af57db-cf72-4145-92ef-59aeceadc219",
   "metadata": {
    "tags": []
   },
   "source": [
    "El objeto anterior corresponde a un subconjunto de `ds`, correspondiente a la banda roja almacenada como `xarray.DataArray`. \n",
    "\n",
    "Es importante resaltar algunos aspectos respecto a la salida anterior.\n",
    "\n",
    "1. **Bytes**: Tamaño total de la colección, y el tamaño de cada chunk.\n",
    "1. **Shape**: Dimensiones del arreglo. En este caso es (tiempo, y, x) para toda la colección solicitada y para cada chunk. En este último caso, un chunk sólo abarca un tiempo según lo definido en el query.\n",
    "1. **Data type**: tipo de datos (entero, flotante, etc) y estructura (numpy array, dask array, etc).\n",
    "\n",
    "Por lo demás, las coordenadas y atributos son similares al objeto anterior.\n",
    "\n",
    "Un punto importante sobre el funcionamiento del DataCube, es que `xarray` es *lazy*, lo que quiere decir que no hace todo los cálculos en el momento en que se escribe, si no que lo hace sólo cuando es necesario. Es importante tener esto presente, porque por cada acción que se le solicita al cubo, se van acumulando tareas y si se llega a un número demasiado alto, al momento de hacer un cálculo tomará demasiado tiempo y el sistema podría colapsar.\n",
    "\n",
    "En otros tutoriales ahondaremos más en Dask; es un tema importante, pero extenso.\n",
    "\n",
    "***"
   ]
  },
  {
   "cell_type": "markdown",
   "id": "3064c1c7-fbbb-4250-9777-5bd6d0e777f2",
   "metadata": {},
   "source": [
    "# 6 Visualización &#128506;\n",
    "\n",
    "La visualización de información es una etapa crucial en el manejo de información satelital. En este apartado se verá como desplegar la zona de estudio, mostrar una banda en particular y generar algunos compuestos.\n",
    "\n",
    "## 6.1 Área de estudio\n",
    "\n",
    "Dentro de las funciones utilitarias que hay, está la que se muestra a continuación, la cual permite revisar el área de estudio en un mapa interactivo con Google Maps.\n",
    "De esta forma, se puede revisar que la zona sea la apropiada para el fenómeno que se desea estudiar."
   ]
  },
  {
   "cell_type": "code",
   "execution_count": null,
   "id": "1831620f-ff8c-49e5-a083-972cdeb911e0",
   "metadata": {
    "tags": []
   },
   "outputs": [],
   "source": [
    "from dea_tools.plotting import display_map, rgb"
   ]
  },
  {
   "cell_type": "code",
   "execution_count": null,
   "id": "64590419-c473-4600-b1e3-97a85fa7431d",
   "metadata": {
    "tags": []
   },
   "outputs": [],
   "source": [
    "display_map(x = query['x'], y = query['y'])"
   ]
  },
  {
   "cell_type": "markdown",
   "id": "80e307b8-a4ff-4f17-9fd9-4f7694a9154d",
   "metadata": {
    "tags": []
   },
   "source": [
    "## 6.2 Bandas\n",
    "\n",
    "Para visualizar bandas individuales utilizaremos `matplotlib`, una librería clásica de Python que está completamente integrada con `xarray`. Esta librería puede ser llamada de manera tradicional o como un método dentro del arreglo.\n",
    "\n",
    "Como ya exploramos la banda roja del objeto `ds`, ahora exploraremos la primera imagen de esta banda utilizando el siguiente código:"
   ]
  },
  {
   "cell_type": "code",
   "execution_count": null,
   "id": "b9a7c57b-e54f-4ca7-854a-006d6fea012c",
   "metadata": {
    "tags": []
   },
   "outputs": [],
   "source": [
    "primera_roja = ds['red'].isel(time = 0)\n",
    "primera_roja"
   ]
  },
  {
   "cell_type": "markdown",
   "id": "01861865-d7b9-43cb-8d8c-19980982363a",
   "metadata": {},
   "source": [
    "Del resultado anterior destacamos:\n",
    "\n",
    "1. Como se seleccionó una unidad de tiempo en particular, dicha dimensión fue descartada del arreglo (ahora posee dimensiones `x`, `y` solamente. El tiempo (`time`), pasó a ser una etiqueta informativa solamente.\n",
    "2. Se utilizó `isel`, que realiza una selección por ubicación y no por el valor. En este caso `.isel(time=0)` selecciona la primera fecha disponible. `.isel=1` seleccionará la segunda fecha disponible y así hasta el largo de la dimensión. Para seleccionar por el valor y no la posición se utiliza `sel`, que en este caso sería `sel='2022-01-14'`.\n",
    "\n",
    ">**Nota**: Es importante notar que Python cuenta la posición en los arreglos de cualquier tipo, partiendo por 0. Así, para acceder al primer elemento de un vector (por ejemplo `mi_vector`) de largo 10, se utiliza `mi_vector[0]`; para acceder al último elemento, se puede utilizar `mi_vector[9]` o `mi_vector[-1]`. Si se utiliza `mi_vector[10]` arrojará un error porque no encuentra el elemento.\n",
    "\n",
    "Para graficar el objeto `primera_roja`, basta con usar el método `plot()` del objeto:"
   ]
  },
  {
   "cell_type": "code",
   "execution_count": null,
   "id": "3cd252b5-5693-4006-a2cf-7426e8b38020",
   "metadata": {
    "tags": []
   },
   "outputs": [],
   "source": [
    "primera_roja.plot()"
   ]
  },
  {
   "cell_type": "markdown",
   "id": "8853a386-b75c-4102-a70e-869bb5f91f7f",
   "metadata": {
    "tags": []
   },
   "source": [
    "Para visualizar más escenas en un mismo plot se puede utilizar el siguiente código:"
   ]
  },
  {
   "cell_type": "code",
   "execution_count": null,
   "id": "87c05c07-c761-4fd3-8ad5-b3959d4e956f",
   "metadata": {
    "tags": []
   },
   "outputs": [],
   "source": [
    "ds['red'].isel(time=range(3)).plot(col='time', figsize=(20, 5))"
   ]
  },
  {
   "cell_type": "markdown",
   "id": "616f47f4-d1d2-493d-86fa-23534fe64a3b",
   "metadata": {
    "tags": []
   },
   "source": [
    "Podemos continuar agregando argumentos y ajustando parámetros para mejorar la visualización, tal como el siguiente ejemplo:"
   ]
  },
  {
   "cell_type": "code",
   "execution_count": null,
   "id": "963225b1-efca-4fbb-a387-ed03b6b04f99",
   "metadata": {
    "tags": []
   },
   "outputs": [],
   "source": [
    "ds['red'].isel(time=range(3)).plot(col='time', robust=True, cmap='inferno', figsize=(20, 5))"
   ]
  },
  {
   "cell_type": "markdown",
   "id": "80db6640-e4f7-414b-9b29-eef49d241223",
   "metadata": {},
   "source": [
    "Para mayor información sobre este tipo de gráficos, revisar la [documentación de xarray](http://xarray.pydata.org/en/stable/user-guide/plotting.html#faceting)\n",
    "\n",
    "## 6.3 Falso color\n",
    "\n",
    "Visualizar la escena en colores, tal como lo harían nuestros ojos, es un poco más complicado.\n",
    "Para esto utilizamos la técnica de falso color, que permite combinar tres bandas para construir una imagen en colores RGB (Red - Green - Blue).\n",
    "\n",
    "Exploraremos tres formas:\n",
    "1. La función `rgb` es una función extra, parte del ecosistema de ODC, que permite visualizar fácilmente una imagen en colores RGB de un dataset."
   ]
  },
  {
   "cell_type": "code",
   "execution_count": null,
   "id": "4e96a737-540a-4cd2-9be6-f4b79f60e37c",
   "metadata": {
    "tags": []
   },
   "outputs": [],
   "source": [
    "rgb(ds, bands=[\"red\", \"green\", \"blue\"], index=1)"
   ]
  },
  {
   "cell_type": "markdown",
   "id": "3c9908f0-bab8-4dc0-ad7e-631e89cae487",
   "metadata": {
    "tags": []
   },
   "source": [
    "2. Utilizando `matplotlib`, es una forma más manual pero que permite mayor control."
   ]
  },
  {
   "cell_type": "code",
   "execution_count": null,
   "id": "9d0a0b61-aed5-461e-a2c0-d51ac887af13",
   "metadata": {
    "tags": []
   },
   "outputs": [],
   "source": [
    "ds[[\"red\", \"green\", \"blue\"]].isel(time=1).to_array().plot.imshow(vmin=7500, vmax=15000, robust=True, figsize=(5, 6))"
   ]
  },
  {
   "cell_type": "markdown",
   "id": "65109d71-fa46-44ae-ab9e-ffac449c3bb2",
   "metadata": {
    "tags": []
   },
   "source": [
    "3. Utilizando `holoviews`, una librería que permite una mayor dinamismo y velocidad al momento de visualizar una imagen. Es más compleja de utilizar, pero tiene varias ventajas para el usuario final."
   ]
  },
  {
   "cell_type": "code",
   "execution_count": null,
   "id": "56393434-686f-4586-8ca4-066291db4e3e",
   "metadata": {
    "tags": []
   },
   "outputs": [],
   "source": [
    "import holoviews as hv\n",
    "import hvplot.xarray\n",
    "from datashader import reductions"
   ]
  },
  {
   "cell_type": "markdown",
   "id": "8f744c13-66f7-445a-8e7b-5e0a6af56c59",
   "metadata": {},
   "source": [
    "Este código es para visualizar una sola banda:"
   ]
  },
  {
   "cell_type": "code",
   "execution_count": null,
   "id": "f39ffbf7-a92e-460c-b3a4-d75fe68c8ad4",
   "metadata": {
    "tags": []
   },
   "outputs": [],
   "source": [
    "ds['red'].hvplot.image(\n",
    "     x = 'x', y = 'y',                        # Dataset x,y dimension names \n",
    "     rasterize = True,                        # If False, data will not be reduced. This is slow to load but all data is loaded.\n",
    "     aggregator = reductions.mean(),          # Datashader calculates the mean value for reductions (also first, min, max, las, std, mode)\n",
    "     precompute = True,                       # Datashader precomputes what it can\n",
    "     data_aspect = 1\n",
    "    )"
   ]
  },
  {
   "cell_type": "markdown",
   "id": "b813a777-3ff1-4c94-ba6d-1488baa419b6",
   "metadata": {
    "tags": []
   },
   "source": [
    "Este código para visualizar un RGB:"
   ]
  },
  {
   "cell_type": "code",
   "execution_count": null,
   "id": "aa39b8be-cc4d-4403-8ae0-caa711f7cd58",
   "metadata": {
    "tags": []
   },
   "outputs": [],
   "source": [
    "ds[[\"red\", \"green\", \"blue\"]].to_array().hvplot.rgb(\n",
    "     x = 'x', y = 'y',                        # Dataset x,y dimension names \n",
    "     bands = 'variable', \n",
    "     rasterize = True,                        # If False, data will not be reduced. This is slow to load but all data is loaded.\n",
    "     aggregator = reductions.mean(),          # Datashader calculates the mean value for reductions (also first, min, max, las, std, mode)\n",
    "     precompute = True,                       # Datashader precomputes what it can\n",
    "     data_aspect = 1, \n",
    "    )"
   ]
  },
  {
   "cell_type": "markdown",
   "id": "70761701-ff51-48b9-8534-ba5687e0a11f",
   "metadata": {},
   "source": [
    "¿Por qué no funciona? Porque, en primer lugar, es necesario transformar la información a reflectancia... Lo veremos en el siguiente notebook!"
   ]
  },
  {
   "cell_type": "code",
   "execution_count": null,
   "id": "a15f4554-257e-406a-932f-261cbbff2afb",
   "metadata": {},
   "outputs": [],
   "source": [
    "client.close()\n",
    "\n",
    "cluster.close()"
   ]
  },
  {
   "cell_type": "markdown",
   "id": "8832b748-952d-4f7c-aed4-4edd4de44547",
   "metadata": {
    "tags": []
   },
   "source": [
    "***\n",
    "\n",
    "# *Siguientes pasos* &#128062;\n",
    "\n",
    "Para continuar con el tutorial pueden acceder a los notebooks del siguiente listado.\n",
    "\n",
    "1. [Acceso](00_Acceso.ipynb)\n",
    "2. **Cargar datos**\n",
    "3. [Limpieza](02_Limpieza.ipynb)\n",
    "4. [Análisis básico](03_Análisis_básico.ipynb)\n",
    "5. [Caso de estudio 1](04_Caso_de_estudio_1.ipynb)\n",
    "6. [Caso de estudio 2](05_Caso_de_estudio_2.ipynb)\n",
    "7. [Trabajo final](04_Actividad_final.ipynb)\n",
    "\n",
    "***"
   ]
  }
 ],
 "metadata": {
  "kernelspec": {
   "display_name": "Python 3 (ipykernel)",
   "language": "python",
   "name": "python3"
  },
  "language_info": {
   "codemirror_mode": {
    "name": "ipython",
    "version": 3
   },
   "file_extension": ".py",
   "mimetype": "text/x-python",
   "name": "python",
   "nbconvert_exporter": "python",
   "pygments_lexer": "ipython3",
   "version": "3.10.12"
  }
 },
 "nbformat": 4,
 "nbformat_minor": 5
}
