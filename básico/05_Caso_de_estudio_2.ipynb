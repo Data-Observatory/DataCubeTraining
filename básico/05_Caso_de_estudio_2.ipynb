{
 "cells": [
  {
   "cell_type": "markdown",
   "id": "e415306c-fd53-4fc5-b233-08e9fb1b7047",
   "metadata": {},
   "source": [
    "<img align=\"center\" src=\"../extra/logos/logos.png\" width='1200px'>"
   ]
  },
  {
   "cell_type": "markdown",
   "id": "d036140c-1fa1-45a7-bd67-aa57bb23ec48",
   "metadata": {},
   "source": [
    "# Caso de estudio 2\n",
    "\n",
    "Este caso de estudio es parte de un ensayo para el monitoreo de humedales por medio de imágenes satelitales Landsat en la región de Atacama, Chile.\n",
    "\n",
    "Nuestro objetivo es replicar este estudio realizando algunas ligeras modificaciones. [Aquí](https://cases.dataobservatory.net/datacube/monitoreo-humedales.html) se puede encontrar mayor información sobre el estudio.\n",
    "\n",
    "Las actividades claves son:\n",
    "* Definir área de estudio, temporalidad, sensores y bandas a utilizar\n",
    "* Limpiar los datos\n",
    "* Definir índices a utilizar\n",
    "* Realizar compuestos\n",
    "* Obtener estadísticas zonales\n",
    "* Visualizar resultados\n",
    "\n",
    "***"
   ]
  },
  {
   "cell_type": "code",
   "execution_count": null,
   "id": "7122027c-2a5f-4684-824b-2a8a8f635cf1",
   "metadata": {},
   "outputs": [],
   "source": [
    "import os\n",
    "\n",
    "os.environ[\"USE_PYGEOS\"] = \"0\"\n",
    "\n",
    "import datacube\n",
    "import xarray as xr\n",
    "import numpy as np\n",
    "import pandas as pd\n",
    "import matplotlib.pyplot as plt\n",
    "\n",
    "from odc.ui import DcViewer\n",
    "from datacube.utils import masking\n",
    "from datacube.utils.rio import configure_s3_access\n",
    "\n",
    "from dask.distributed import Client, LocalCluster\n",
    "cluster = LocalCluster()\n",
    "client = Client(cluster)\n",
    "\n",
    "configure_s3_access(aws_unsigned=False, requester_pays=True, client=client)\n",
    "\n",
    "from dea_tools.plotting import display_map, rgb"
   ]
  },
  {
   "cell_type": "code",
   "execution_count": null,
   "id": "072639aa-9334-47ba-9ab6-c420bf98358e",
   "metadata": {
    "tags": []
   },
   "outputs": [],
   "source": [
    "dc = datacube.Datacube(app='caso_humedal') "
   ]
  },
  {
   "cell_type": "markdown",
   "id": "4788774f-58fa-4560-9a6a-48ef6ab471d6",
   "metadata": {},
   "source": [
    "# Definir área de estudio, temporalidad, sensores y bandas a utilizar\n",
    "\n",
    "El área de estudio será definida momentaneamente como un rectángulo, luego lo acotaremos."
   ]
  },
  {
   "cell_type": "code",
   "execution_count": null,
   "id": "367c1f1c-680c-47bd-b460-e2f5522063f4",
   "metadata": {
    "tags": []
   },
   "outputs": [],
   "source": [
    "study_area_lat = (-27.446, -27.327) # (ymin, ymax)\n",
    "study_area_lon = (-69.067, -68.966) # (xmin, xmax)"
   ]
  },
  {
   "cell_type": "code",
   "execution_count": null,
   "id": "0d689b3d-ee07-49a4-86a9-83650aae0149",
   "metadata": {
    "tags": []
   },
   "outputs": [],
   "source": [
    "display_map(x=study_area_lon, y=study_area_lat)"
   ]
  },
  {
   "cell_type": "markdown",
   "id": "e56c1805-b4b4-4c39-a89b-a042646eda43",
   "metadata": {
    "tags": []
   },
   "source": [
    "Listando los productos terminados con 'c2l2_sr' podemos ver los productos de Landsat disponibles para reflectancia de la superficie."
   ]
  },
  {
   "cell_type": "code",
   "execution_count": null,
   "id": "971ffe23-9b85-4c27-9a5f-e03e8e512f02",
   "metadata": {
    "tags": []
   },
   "outputs": [],
   "source": [
    "products = [f['name'] for i, f in dc.list_products().iterrows() if f['name'].endswith('c2l2_sr')]\n",
    "products"
   ]
  },
  {
   "cell_type": "code",
   "execution_count": null,
   "id": "e2b51c95-006d-46c7-a996-09c7843ec5bc",
   "metadata": {
    "tags": []
   },
   "outputs": [],
   "source": [
    "dc.list_measurements().loc[products]"
   ]
  },
  {
   "cell_type": "markdown",
   "id": "0b04039f-48f6-4050-90a0-d8e872b72a94",
   "metadata": {
    "tags": []
   },
   "source": [
    "Ahora que se tiene mayor claridad, sobre los productos, podemos especificar las bandas de interes, y revisar sus fechas. Utilizando las bandas azul, verde, roja e infrarroja podemos armar los índices de vegetación más conocidos para explorar los humedales. También requerimos las bandas de calidad, para filtrar las nubes y otros artefactos.\n",
    "\n",
    "Aprovecharemos la mejor resolución espacial que nos entrega Landsat, que es de 30x30 metros, y utilizaremos el siguiente sistema de referencia de coordenadas: \"WGS84 UTM 19 Sur (EPSG: 32719)\"\n",
    "\n",
    "Primero, configuramos la siguiente consulta:"
   ]
  },
  {
   "cell_type": "code",
   "execution_count": null,
   "id": "3733b118-066a-4811-9b9e-fd58732203a5",
   "metadata": {
    "tags": []
   },
   "outputs": [],
   "source": [
    "set_measurements = [\n",
    "    \"blue\",\n",
    "    \"green\",\n",
    "    \"red\",\n",
    "    \"nir08\",\n",
    "    \"qa_pixel\",\n",
    "    \"qa_radsat\"\n",
    "]\n",
    "\n",
    "set_crs = 'EPSG:32719'\n",
    "\n",
    "set_resolution = (-30, 30)"
   ]
  },
  {
   "cell_type": "markdown",
   "id": "801363bf-d57a-419a-89d8-45aea59050ac",
   "metadata": {},
   "source": [
    "Luego, cargamos los datos para cada producto"
   ]
  },
  {
   "cell_type": "code",
   "execution_count": null,
   "id": "53400f1c-92e7-4e77-abae-497d0c4c78a4",
   "metadata": {
    "tags": []
   },
   "outputs": [],
   "source": [
    "images = {}\n",
    "for set_product in products:\n",
    "    images[set_product] = dc.load(\n",
    "        product=set_product,\n",
    "        x=study_area_lon,\n",
    "        y=study_area_lat,\n",
    "        # time=set_time,\n",
    "        measurements=set_measurements,\n",
    "        output_crs=set_crs,\n",
    "        resolution=set_resolution,\n",
    "        dask_chunks={\"time\": 1},\n",
    "        group_by=\"solar_day\",\n",
    "        skip_broken_datasets=True\n",
    "    )"
   ]
  },
  {
   "cell_type": "markdown",
   "id": "5b523779-015d-456a-b266-51f498ec0724",
   "metadata": {},
   "source": [
    "y consultamos el rango de fechas con imágenes disponibles"
   ]
  },
  {
   "cell_type": "code",
   "execution_count": null,
   "id": "97609777-eba2-4efb-98bb-f5a7602bc6fa",
   "metadata": {
    "tags": []
   },
   "outputs": [],
   "source": [
    "pd.DataFrame( {v: [min(images[v].time.values), max(images[v].time.values)] for v in images if images[v]} )"
   ]
  },
  {
   "cell_type": "markdown",
   "id": "1f80f30d-9377-460d-b83a-b940042e8b7c",
   "metadata": {},
   "source": [
    "Seleccionamos las imágenes landsat 5 y 7, debido a que poseen compatibilidad radiométrica."
   ]
  },
  {
   "cell_type": "code",
   "execution_count": null,
   "id": "326c9cdb-9594-4979-950e-a7f66bb72dac",
   "metadata": {
    "tags": []
   },
   "outputs": [],
   "source": [
    "desired_products = ['landsat5_c2l2_sr', 'landsat7_c2l2_sr']\n",
    "\n",
    "ds = xr.concat([images[i] for i in desired_products], dim='time')"
   ]
  },
  {
   "cell_type": "markdown",
   "id": "b2e79c62-81a9-47aa-a00a-4256e2a507ac",
   "metadata": {},
   "source": [
    "***\n",
    "\n",
    "# Limpiar los datos\n",
    "\n",
    "## Enmascarar valores no válidos y/o no requeridos\n"
   ]
  },
  {
   "cell_type": "code",
   "execution_count": null,
   "id": "cb699e9a-0b4e-45b1-906c-3ca8e0d573b4",
   "metadata": {
    "tags": []
   },
   "outputs": [],
   "source": [
    "bandas_reflectancia = [\"blue\", \"green\", \"red\", \"nir08\"]\n",
    "quality_band = 'qa_pixel'\n",
    "cloud_free_mask = masking.make_mask(ds.qa_pixel, cloud='not_high_confidence', cloud_shadow='not_high_confidence', snow='not_high_confidence', nodata=False)\n",
    "mask_sat = ds.qa_radsat == 0\n",
    "dsf = ds[bandas_reflectancia].where(cloud_free_mask & mask_sat) \n",
    "dsf.update(dsf.where((dsf >= 1) & (dsf <= 65455), np.nan))"
   ]
  },
  {
   "cell_type": "markdown",
   "id": "4ee480a2-f230-4bd7-9216-d38e9988157d",
   "metadata": {},
   "source": [
    "Se aprecia que la obtención de 864 mediciones combinadas entre landsat 5 y landsat 7.\n",
    "\n",
    "## Descartar escenas con insuficiente información"
   ]
  },
  {
   "cell_type": "code",
   "execution_count": null,
   "id": "83e4153f-4cb4-45d6-b3fb-f88683233e0e",
   "metadata": {
    "tags": []
   },
   "outputs": [],
   "source": [
    "valid_pixel_proportion = cloud_free_mask.sum(dim=(\"x\", \"y\"))/(cloud_free_mask.shape[1] * cloud_free_mask.shape[2])\n",
    "valid_threshold = 0.8\n",
    "observations_to_keep = (valid_pixel_proportion >= valid_threshold)"
   ]
  },
  {
   "cell_type": "code",
   "execution_count": null,
   "id": "a77e881c-e3e0-4cd1-9dc5-c4bf01c98679",
   "metadata": {
    "tags": []
   },
   "outputs": [],
   "source": [
    "ds_keep = dsf.sel(time=observations_to_keep)#.compute()"
   ]
  },
  {
   "cell_type": "code",
   "execution_count": null,
   "id": "01521bc8-6273-4163-8b8e-5c922b74952c",
   "metadata": {
    "tags": []
   },
   "outputs": [],
   "source": [
    "ds_keep"
   ]
  },
  {
   "cell_type": "markdown",
   "id": "28a8bdbb-2a54-4187-825d-a254af7bbd85",
   "metadata": {},
   "source": [
    "Se aprecia que la obtención de 536 mediciones combinadas entre landsat 5 y landsat 7 con al menos un 80% de píxeles válidos.\n",
    "\n",
    "## Reescalar valores digitales a reflectancia"
   ]
  },
  {
   "cell_type": "code",
   "execution_count": null,
   "id": "ab161ade-c552-4c08-8cca-671e09e7e6e5",
   "metadata": {},
   "outputs": [],
   "source": [
    "ds_keep.update(ds_keep * 0.0000275 + -0.2)\n",
    "ds_keep.update(ds_keep.where(ds_keep >= 0).where(ds_keep <= 1))\n",
    "dsf = ds_keep"
   ]
  },
  {
   "cell_type": "markdown",
   "id": "ebb4a605-6e11-40d8-8a87-a05d00e294f6",
   "metadata": {},
   "source": [
    "> **Nota importante**: cada banda del producto está en valores enteros (int16), para indicar la reflectancia. Se guardan de esta manera para disminuir el tamaño del archivo, pero antes de realizar cálculos, deben ser escalados de vuelta a valores decimales contenidos entre [0, 1]. Este factor de escalamiento es de 0.0000275 y un factor de adición de -0.2. Todo esto está especificado en la [documentación](https://d9-wret.s3.us-west-2.amazonaws.com/assets/palladium/production/s3fs-public/media/files/LSDS-1618_Landsat-4-7_C2-L2-ScienceProductGuide-v4.pdf).\n",
    "\n",
    "# Definir índices a utilizar\n",
    "\n",
    "Los índices de vegetación son muy utilizados en el monitreo del estado de la vegetación, entre otros fenómenos de interés. Uno de los más usados para ver el estado de vigor (y uno de las más antiguos), es el NDVI que utiliza las bandas rojo e infra-rojo cercano.\n",
    "\n",
    "Se usará este índice a modo de mostración, pero se podría utilizar cualquier otro."
   ]
  },
  {
   "cell_type": "code",
   "execution_count": null,
   "id": "5480d61a-cfbc-40ac-8baf-f0936f3cf01c",
   "metadata": {
    "tags": []
   },
   "outputs": [],
   "source": [
    "ndvi = (dsf['nir08'] - dsf['red']) / (dsf['nir08'] + dsf['red'])"
   ]
  },
  {
   "cell_type": "code",
   "execution_count": null,
   "id": "56be1589-8036-4e19-b567-f342dd62d6e0",
   "metadata": {
    "tags": []
   },
   "outputs": [],
   "source": [
    "plt.figure(figsize=(10, 10))\n",
    "ndvi.isel(time=0).plot(cmap=\"RdYlGn\", vmin=-.2, vmax=.8)\n",
    "plt.show()"
   ]
  },
  {
   "cell_type": "code",
   "execution_count": null,
   "id": "bbc3d44e-5936-4c0c-8442-b2d377bd72fd",
   "metadata": {
    "tags": []
   },
   "outputs": [],
   "source": [
    "dsf[[\"red\", \"green\", \"blue\"]].isel(time=0).to_array().plot.imshow(vmin=0,vmax=.3,figsize=(10,10))\n",
    "\n",
    "# Set the title and axis labels\n",
    "ax = plt.gca()\n",
    "ax.set_xlabel('Easting (m)', fontweight='bold')\n",
    "ax.set_ylabel('Northing (m)', fontweight='bold')\n",
    "\n",
    "# Display the plot\n",
    "plt.show()"
   ]
  },
  {
   "cell_type": "code",
   "execution_count": null,
   "id": "a22f0889-1668-4370-9d84-05558621a5cb",
   "metadata": {
    "tags": []
   },
   "outputs": [],
   "source": [
    "dsf = dsf.assign(ndvi=ndvi)\n",
    "dsf"
   ]
  },
  {
   "cell_type": "markdown",
   "id": "8d228dce-7e2a-49f8-b91c-9c0ece88f14e",
   "metadata": {
    "tags": []
   },
   "source": [
    "## Limitar análisis a áreas previamente definidas\n",
    "\n",
    "Utilizaremos un archivo vectorial, del Ministerio del Medio Ambiente, que delimita los humedales para el año 2015. Utilizaremos el siguiente [sitio](https://humedaleschile.mma.gob.cl/inventario-humadales/) para descargar los datos a través de las siguientes celdas:"
   ]
  },
  {
   "cell_type": "code",
   "execution_count": null,
   "id": "676d8b14-b82e-4f0a-92d0-c298423b697d",
   "metadata": {
    "tags": []
   },
   "outputs": [],
   "source": [
    "import urllib.request\n",
    "import os\n",
    "\n",
    "if not os.path.exists(\"humedales_vector.zip\"):\n",
    "    urllib.request.urlretrieve(\"https://humedaleschile.mma.gob.cl/wp-content/uploads/2017/10/inventario_humedales_publico.gdb.zip\", \"humedales_vector.zip\")"
   ]
  },
  {
   "cell_type": "code",
   "execution_count": null,
   "id": "acac9184-cf88-4f97-86c2-5f11f5fcffc7",
   "metadata": {
    "tags": []
   },
   "outputs": [],
   "source": [
    "import geopandas as gpd\n",
    "import rasterstats as rs\n",
    "import pyproj\n",
    "from shapely.geometry import Polygon"
   ]
  },
  {
   "cell_type": "code",
   "execution_count": null,
   "id": "2875893e-21b1-47c3-95b3-61043684f3a4",
   "metadata": {
    "tags": []
   },
   "outputs": [],
   "source": [
    "humedales = gpd.read_file('zip://humedales_vector.zip!Inventario_humedales_publico.gdb', layer='inventario_plataforma')"
   ]
  },
  {
   "cell_type": "code",
   "execution_count": null,
   "id": "ee56ed8b-5937-43dc-81ce-5ced8aefaa9d",
   "metadata": {
    "tags": []
   },
   "outputs": [],
   "source": [
    "y0, y1 = study_area_lat\n",
    "x1, x0 = study_area_lon\n",
    "polygon = Polygon([(x0, y0), (x0, y1), (x1, y1), (x1, y0), (x0, y0)])\n",
    "clipper = gpd.GeoDataFrame([1], geometry=[polygon], crs=pyproj.CRS(\"EPSG:4326\"))\n",
    "clipper = clipper.to_crs(humedales.crs)\n",
    "# clipper.plot()\n",
    "humedales_ = gpd.clip(humedales, clipper)\n",
    "humedales_ = humedales_.loc[humedales_.Clase != \"Rios\"]"
   ]
  },
  {
   "cell_type": "markdown",
   "id": "aad23bb2-5ec0-4495-8815-cd6e95c7090c",
   "metadata": {
    "tags": []
   },
   "source": [
    "Más información sobre [como armar geometrías y como cortar geometrías](https://geopandas.org/gallery/plot_clip.html). Un vistazo al archivo vectorial:"
   ]
  },
  {
   "cell_type": "code",
   "execution_count": null,
   "id": "3276bbaa-d52d-4362-8d1f-0b0bb279ea71",
   "metadata": {
    "tags": []
   },
   "outputs": [],
   "source": [
    "humedales_.plot()"
   ]
  },
  {
   "cell_type": "code",
   "execution_count": null,
   "id": "f5b37349-f736-4535-94f7-0597f0b39bb4",
   "metadata": {
    "tags": []
   },
   "outputs": [],
   "source": [
    "humedales_or = humedales_.copy()"
   ]
  },
  {
   "cell_type": "code",
   "execution_count": null,
   "id": "db243b20-3ebd-454b-805f-8e3bfd88d0c0",
   "metadata": {
    "tags": []
   },
   "outputs": [],
   "source": [
    "# humedales_['geometry'] = humedales_.geometry.buffer(distance = 100) #### Not working\n",
    "# humedales_ = humedales_.geometry[~(humedales_.geometry.is_empty | humedales_.geometry.isna())] #### Did not fix the problem\n",
    "for i in range(humedales_.shape[0]):\n",
    "    humedales_['geometry'].iloc[i] = humedales_.geometry.iloc[i].buffer(distance = 100)\n",
    "# El buffer en la totalidad o en un subconjunto daba error, pero 1 a 1 funcionaba bien, por esto se implementó el loop"
   ]
  },
  {
   "cell_type": "code",
   "execution_count": null,
   "id": "b3ac9359-b5f7-418f-ad85-bc83e3d487e3",
   "metadata": {
    "tags": []
   },
   "outputs": [],
   "source": [
    "humedales_.plot()"
   ]
  },
  {
   "cell_type": "markdown",
   "id": "8e32afae-3733-4b16-857f-4fe2947e3a27",
   "metadata": {
    "tags": []
   },
   "source": [
    "***\n",
    "# Realizar compuestos \n",
    "\n",
    "Agruparemos por tiempo calculando la mediana anual de los meses de diciembre, enero, febrero y marzo.\n",
    "\n",
    "Primero, armamos un vector con las fechas de interés que están en el cubo, y generamos un subconjunto.\n"
   ]
  },
  {
   "cell_type": "code",
   "execution_count": null,
   "id": "eb7c1b0b-b40b-48b4-91ca-1c2360304a76",
   "metadata": {
    "tags": []
   },
   "outputs": [],
   "source": [
    "summer_dates = dsf.time[dsf.time.dt.month.isin([12, 1, 2, 3])]\n",
    "ds_summer = dsf.sel(time=summer_dates)"
   ]
  },
  {
   "cell_type": "markdown",
   "id": "d92ba775-39df-4c70-8a59-32f55de14a5a",
   "metadata": {},
   "source": [
    "Es necesario generar una variable por temporada. Diciembre (12), pertenece al año anterior, por lo que no se puede utilizar el año directamente. \n",
    "\n",
    "Para solucionarlo, tomaremos la coordenada de base `time` y le añadimos 31 días (aquí nos interesa el año, no el mes, por lo tanto no hay problema al hacerlo de esta forma)."
   ]
  },
  {
   "cell_type": "code",
   "execution_count": null,
   "id": "dbcbb3a5-f73c-4cf6-9337-66db99784a27",
   "metadata": {
    "tags": []
   },
   "outputs": [],
   "source": [
    "ds_summer = ds_summer.assign_coords(season=(ds_summer.time + np.timedelta64(31, 'D')))\n",
    "ds_summer"
   ]
  },
  {
   "cell_type": "markdown",
   "id": "e8019e07-c786-4d86-a7c4-04bfb9caf11d",
   "metadata": {
    "tags": []
   },
   "source": [
    "La coordenada ha sido añadida satisfactoriamente, por lo que ahora se puede usar como variable de agrupamiento y calcular la mediana de la temporada (ignorando valores ausentes)"
   ]
  },
  {
   "cell_type": "code",
   "execution_count": null,
   "id": "6642f86b-19b6-4ec2-afd3-23ad8ed97502",
   "metadata": {
    "tags": []
   },
   "outputs": [],
   "source": [
    "# ds_summer = ds_summer.groupby('season.year').reduce(np.nanmean)  # más lento: favorecer las funciones de xarray\n",
    "ds_summer_ag = ds_summer.groupby('season.year').median(skipna=True).persist()\n",
    "# ds_summer = ds_summer.groupby('season.year').mean(skipna=True)\n",
    "ds_summer_ag"
   ]
  },
  {
   "cell_type": "markdown",
   "id": "5a3f5d71-2195-4f2b-9206-84be2ac4f636",
   "metadata": {
    "tags": []
   },
   "source": [
    "La serie temporal agregada está lista, podemos visualizarla para el 2014 (en color y el índice NDVI):"
   ]
  },
  {
   "cell_type": "code",
   "execution_count": null,
   "id": "a1551671-a1d4-4ddb-bfe0-78249443a355",
   "metadata": {
    "tags": []
   },
   "outputs": [],
   "source": [
    "fig = plt.figure(figsize=(20,10))\n",
    "ax1 = fig.add_subplot(121)\n",
    "\n",
    "ds_summer_ag[[\"red\", \"green\", \"blue\"]].sel(year=2014).to_array().plot.imshow(vmin=0,vmax=.3,ax=ax1) #figsize=(10,10)\n",
    "ax1.set_xlabel('Easting (m)', fontweight='bold')\n",
    "ax1.set_ylabel('Northing (m)', fontweight='bold')\n",
    "\n",
    "ax2 = fig.add_subplot(122)\n",
    "ds_summer_ag['ndvi'].sel(year=2014).plot.imshow(cmap=\"RdYlGn\", ax=ax2)"
   ]
  },
  {
   "cell_type": "markdown",
   "id": "e239fe76-da08-434b-90ef-74d04830ded3",
   "metadata": {},
   "source": [
    "Si enmascaramos la zona particular del estudio, utilizando el buffer de humedales, el resultado se ve más limpio:"
   ]
  },
  {
   "cell_type": "code",
   "execution_count": null,
   "id": "0434e4b7-921d-47af-94e8-b74ae26dea70",
   "metadata": {
    "tags": []
   },
   "outputs": [],
   "source": [
    "import rasterio as rio\n",
    "\n",
    "smask = rio.features.geometry_mask(humedales_.geometry, \n",
    "                                   out_shape=(len(ds.y), len(ds.x)),\n",
    "                                   transform=ds.geobox.transform,\n",
    "                                   invert=True)\n",
    "\n",
    "ds_summer_masked = ds_summer_ag.where(smask)\n",
    "\n",
    "\n",
    "fig = plt.figure(figsize=(20,10))\n",
    "ax1 = fig.add_subplot(121)\n",
    "\n",
    "ds_summer_masked[[\"red\", \"green\", \"blue\"]].sel(year=2014).to_array().plot.imshow(vmin=0,vmax=.3,ax=ax1) #figsize=(10,10)\n",
    "ax1.set_xlabel('Easting (m)', fontweight='bold')\n",
    "ax1.set_ylabel('Northing (m)', fontweight='bold')\n",
    "\n",
    "ax2 = fig.add_subplot(122)\n",
    "ds_summer_masked['ndvi'].sel(year=2014).plot.imshow(cmap=\"RdYlGn\", ax=ax2)"
   ]
  },
  {
   "cell_type": "markdown",
   "id": "747c7a92-7954-4db9-8f11-88e1c2bc46c4",
   "metadata": {},
   "source": [
    "Además, podemos sobreponer los contornos de los humedales delimitados:"
   ]
  },
  {
   "cell_type": "code",
   "execution_count": null,
   "id": "64df9d10-63ba-4fac-8bd7-42310b6b9b03",
   "metadata": {
    "tags": []
   },
   "outputs": [],
   "source": [
    "fig = plt.figure(figsize=(20,10))\n",
    "ax1 = fig.add_subplot(121)\n",
    "\n",
    "ds_summer_ag[[\"red\", \"green\", \"blue\"]].sel(year=2014).to_array().plot.imshow(vmin=0,vmax=.3,ax=ax1) #figsize=(10,10)\n",
    "humedales_or.plot(ax=ax1, facecolor='none', edgecolor='red')\n",
    "ax1.set_xlabel('Easting (m)', fontweight='bold')\n",
    "ax1.set_ylabel('Northing (m)', fontweight='bold')\n",
    "\n",
    "ax2 = fig.add_subplot(122)\n",
    "ds_summer_masked['ndvi'].sel(year=2014).plot.imshow(cmap=\"RdYlGn\", ax=ax2)\n",
    "humedales_or.plot(ax=ax2, facecolor='none', edgecolor='black')"
   ]
  },
  {
   "cell_type": "markdown",
   "id": "7c2441a2-1201-4a3a-8c6a-00aae865387c",
   "metadata": {},
   "source": [
    "Finalmente, la información puede ser exportada como netcdf, para ser utilizada en otras plataformas/programas"
   ]
  },
  {
   "cell_type": "code",
   "execution_count": null,
   "id": "235729c5-b220-4627-85bb-44fd722209fe",
   "metadata": {
    "tags": []
   },
   "outputs": [],
   "source": [
    "from datacube.drivers.netcdf import write_dataset_to_netcdf\n",
    "import warnings\n",
    "warnings.filterwarnings('ignore')\n",
    "\n",
    "if os.path.exists('humedales.nc'):\n",
    "    os.remove('humedales.nc')\n",
    "    \n",
    "write_dataset_to_netcdf(ds_summer_masked, 'humedales.nc')"
   ]
  },
  {
   "cell_type": "markdown",
   "id": "338a3306-61b2-4090-aa52-2897638c21d6",
   "metadata": {},
   "source": [
    "***\n",
    "\n",
    "# Obtener estadísticas zonales\n",
    "\n",
    "Extraemos las estadísticas para cada zona iterando por cada año. Debemos procurar que tanto el archivo vectorial como el xarray tengan el mismo CRS."
   ]
  },
  {
   "cell_type": "code",
   "execution_count": null,
   "id": "a796ccef-8d8d-4875-bc3e-e45397c173df",
   "metadata": {
    "tags": []
   },
   "outputs": [],
   "source": [
    "my_stats = []\n",
    "for i, date in enumerate(ds_summer_ag.year.values):\n",
    "    if i % 5 == 0:\n",
    "        print('{} - {}'.format(i, date))\n",
    "    temp = rs.zonal_stats(humedales_, \n",
    "                          ds_summer_ag.ndvi.isel(year=i).values, \n",
    "                          affine=ndvi.affine, \n",
    "                          stats=\"count min mean max median std\", \n",
    "                          nodata=np.nan) # especificar no data, solo para evitar advertencias. Los valores NA ya están como np.nan\n",
    "    temp_ = pd.merge(pd.DataFrame(humedales_.reset_index().drop(columns=\"geometry\")), \n",
    "                             pd.DataFrame(temp), \n",
    "                             left_index=True, \n",
    "                             right_index=True)\n",
    "    temp_['Año'] = date\n",
    "    my_stats.append(temp_)"
   ]
  },
  {
   "cell_type": "markdown",
   "id": "792dd040-4539-4125-b27a-a41f40c3899e",
   "metadata": {},
   "source": [
    "***\n",
    "\n",
    "#  Visualizar resultados\n",
    "\n",
    "Observemos la variación de la mediana de todos los humedales del área de estudio:"
   ]
  },
  {
   "cell_type": "code",
   "execution_count": null,
   "id": "dd7d421d-08e6-413a-8f3f-c76be5fc6317",
   "metadata": {
    "tags": []
   },
   "outputs": [],
   "source": [
    "serie_temporal = pd.concat(my_stats)\n",
    "pd.pivot(serie_temporal, index=\"Año\", columns='Id_humedal', values=\"median\").plot(figsize=(12,12))"
   ]
  },
  {
   "cell_type": "markdown",
   "id": "73651750-9f32-4b5b-a11f-5172b09aabc1",
   "metadata": {},
   "source": [
    "Esta es la ubicación de cada humedal:"
   ]
  },
  {
   "cell_type": "code",
   "execution_count": null,
   "id": "dbf7b2e1-56f2-401d-b365-06816b5e93f1",
   "metadata": {
    "tags": []
   },
   "outputs": [],
   "source": [
    "ax = humedales_or.plot(figsize=(15, 15))\n",
    "humedales_or.apply(lambda x: ax.annotate(text=x.Id_humedal, xy=x.geometry.centroid.coords[0], ha='center'),axis=1);"
   ]
  },
  {
   "cell_type": "markdown",
   "id": "59140e6c-40e3-42d3-9038-909524ad35c7",
   "metadata": {},
   "source": [
    "Los humedales de interés son:"
   ]
  },
  {
   "cell_type": "code",
   "execution_count": null,
   "id": "aee6ca3d-95fd-4f73-85e2-79fa3da30544",
   "metadata": {
    "tags": []
   },
   "outputs": [],
   "source": [
    "humedales_id = ['HU-OT-4023', # humedal objetivo\n",
    "               'HU-OT-4028', 'HU-OT-4029', 'HU-OT-4030', 'HU-OT-4031', 'HU-OT-4033', 'HU-OT-4040'] # humedales control"
   ]
  },
  {
   "cell_type": "markdown",
   "id": "a870bed7-8b16-4d51-914a-88137bfd99a8",
   "metadata": {},
   "source": [
    "Utilizando solo el humedal objetivo visualicemos sus estadísticas en el tiempo:"
   ]
  },
  {
   "cell_type": "code",
   "execution_count": null,
   "id": "28f8f95d-d6d4-4c62-b9fe-291256ddda1b",
   "metadata": {
    "tags": []
   },
   "outputs": [],
   "source": [
    "fig = plt.figure(figsize=(20,10))\n",
    "ax1 = fig.add_subplot(121)\n",
    "ax2 = fig.add_subplot(122)\n",
    "\n",
    "agg_ = serie_temporal.loc[serie_temporal.Id_humedal == humedales_id[0]].set_index('Año')[['min', 'mean', 'median', 'max']]\n",
    "\n",
    "agg_.plot(ax = ax1) #, subplots=True)\n",
    "agg_[['min', 'mean', 'median']].plot(ax = ax2) #, subplots=True)"
   ]
  },
  {
   "cell_type": "markdown",
   "id": "2fa369a7-7f23-47a3-b47b-400b279b6376",
   "metadata": {
    "tags": []
   },
   "source": [
    "Comparemos el humedal objetivo con los de control (en su media y viendo su tendencia general):"
   ]
  },
  {
   "cell_type": "code",
   "execution_count": null,
   "id": "af324dc3-c491-4d14-a22f-cc17db04ae38",
   "metadata": {
    "tags": []
   },
   "outputs": [],
   "source": [
    "compara = serie_temporal.loc[serie_temporal.Id_humedal.isin(humedales_id)][['Año', 'Id_humedal', 'mean']]\n",
    "pd.pivot(compara, index=\"Año\", columns='Id_humedal', values=\"mean\").plot(figsize=(12,12))"
   ]
  },
  {
   "cell_type": "code",
   "execution_count": null,
   "id": "c6dbf157-6a82-4eba-8775-aa90902b07e3",
   "metadata": {
    "tags": []
   },
   "outputs": [],
   "source": [
    "cmap = plt.cm.tab10\n",
    "colores = cmap(np.linspace(0, 1, len(humedales_id)))\n",
    "colores = {humedales_id[i]: colores[i] for i in range(len(humedales_id))}\n",
    "\n",
    "fig, ax = plt.subplots(figsize=(15, 15))\n",
    "\n",
    "for i in humedales_id:\n",
    "    temp = serie_temporal.loc[serie_temporal.Id_humedal == i]\n",
    "    x, y = temp[['Año', 'mean']].T.to_numpy()\n",
    "    plt.plot(x, y, '-o', color=colores[i])\n",
    "    z = np.polyfit(x, y, 1)\n",
    "    p = np.poly1d(z)\n",
    "    plt.plot(x, p(x), \"--\", color=colores[i])"
   ]
  },
  {
   "cell_type": "markdown",
   "id": "3ea43e9f-bb03-4a64-9d57-ff437c9ad374",
   "metadata": {},
   "source": [
    "Los resultados son bastante similares a los obtenidos por el Ministerio del Medio Ambiental, y se aprecia claramente que el humedal objetivo (HU-OT-4023, en azul), tiene un marcado descenso que no está presente en el resto de los humedales"
   ]
  },
  {
   "cell_type": "code",
   "execution_count": null,
   "id": "d2148472-50ad-42c6-873e-e7da286946e7",
   "metadata": {},
   "outputs": [],
   "source": [
    "client.close()\n",
    "\n",
    "cluster.close()"
   ]
  },
  {
   "cell_type": "markdown",
   "id": "7e069c20-14c6-44c6-8b65-502278ae6f43",
   "metadata": {},
   "source": [
    "***\n",
    "\n",
    "# *Siguientes pasos* &#128062;\n",
    "\n",
    "Para continuar con el tutorial pueden acceder a los notebooks del siguiente listado.\n",
    "\n",
    "1. [Acceso](00_Acceso.ipynb)\n",
    "2. [Cargar datos](01_Cargar_datos.ipynb)\n",
    "3. [Limpieza](02_Limpieza.ipynb)\n",
    "4. [Análisis básico](03_Análisis_básico.ipynb)\n",
    "5. [Caso de estudio 1](04_Caso_de_estudio_1.ipynb)\n",
    "6. **Caso de estudio 2**\n",
    "\n",
    "***"
   ]
  }
 ],
 "metadata": {
  "kernelspec": {
   "display_name": "Python 3 (ipykernel)",
   "language": "python",
   "name": "python3"
  },
  "language_info": {
   "codemirror_mode": {
    "name": "ipython",
    "version": 3
   },
   "file_extension": ".py",
   "mimetype": "text/x-python",
   "name": "python",
   "nbconvert_exporter": "python",
   "pygments_lexer": "ipython3",
   "version": "3.10.12"
  }
 },
 "nbformat": 4,
 "nbformat_minor": 5
}
