{
 "cells": [
  {
   "cell_type": "markdown",
   "metadata": {},
   "source": [
    "<img align=\"center\" src=\"../extra/logos/logos.png\" width='800px'>"
   ]
  },
  {
   "cell_type": "markdown",
   "metadata": {},
   "source": [
    "# 1. Introducción al DataCube Chile &#127758;\n",
    "\n",
    "Antes de comenzar con las actividades prácticas, algunas notas sobre el acceso y configuración del cubo de datos. \n",
    "\n",
    "Como fue mencionado en las charlas, el cubo está montado sobre la infraestructura de AWS, la cual permite\n",
    "\n",
    ">Nota: Parte de este notebook es una adaptación realizada las guías de [DataCube Australia](https://github.com/GeoscienceAustralia/dea-notebooks).\n",
    "\n",
    "# 2. Acceso\n",
    "\n",
    "Para acceder al cubo, se debe ingresar al [**sitio**](https://hub.stage.earth.dataobservatory.net/). Eso los llevará a la siguiente ventana:\n",
    "\n",
    "<img align=\"center\" src=\"../extra/capturas/login1.PNG\" width='400px'>\n",
    "\n",
    "Al acceder, aparecerá otra ventena en la cual deben ingresar las credenciales proporcionadas a cada uno (usuario, contraseña). Posteriormente, se debe elegir la versión de OpenDataCube sobre la cual operar el cubo (actualmente, sólo está la versión 1.8). Si aparece más de una opción, elegir *Current*\n",
    "\n",
    "<img align=\"center\" src=\"../extra/capturas/login2.PNG\" width='200px'> <img align=\"right\" src=\"../extra/capturas/server_options.PNG\" width='500px'>\n",
    "\n",
    "Una vez se ingresa, desplegará un jupyter notebook que permitirá, entre otras cosas, interactuar con la información dentro del cubo. Antes de seguir, un poco de contexto sobre Jupyter Notebook\n",
    "\n",
    "<img align=\"center\" src=\"../extra/capturas/primer_login.PNG\" width='500px'>"
   ]
  },
  {
   "cell_type": "markdown",
   "metadata": {},
   "source": [
    "# 3. Jupyter Notebook\n",
    "\n",
    "Nacido del acrónimno **Ju**lia + **Pyt**hon + **R**, esta aplicación permite interactuar nativamente con estos tres lenguajes de programación. En el cubo, de momento sólo está instalado Python (versión 3.6). La ventaja de Jupyter es que permite una interacción directa entre código, texto y resultados.\n",
    "\n",
    "## 3.1 ¿Cómo funciona?\n",
    "\n",
    "Los notebooks de Jupyter permiten que el código se separe en secciones que se pueden ejecutar de forma independiente entre sí. Estas secciones se denominan \"celdas\". \n",
    "\n",
    "El código Python se escribe en celdas individuales que se pueden ejecutar colocando el cursor en la celda y presionando Shift-Enter en el teclado o seleccionando el botón &#11208; \"Ejecutar las celdas seleccionadas y avanzar\" en la parte superior del notebook. Estas opciones se ejecutarán en una sola celda a la vez. \n",
    "\n",
    "Para ejecutar automáticamente todas las celdas en un notebook, navegue hasta la pestaña \"Ejecutar\" de la barra de menú en la parte superior de JupyterLab y seleccione \"Ejecutar todas las celdas\" (o la opción que mejor se adapte a sus necesidades). Cuando se ejecuta una celda, se ejecuta el contenido de la celda. Cualquier salida producida al ejecutar la celda aparecerá directamente debajo de ella. Sólo la última salida aparecerá como resultado, por lo que si desea ver el resultado de pasos intermedios, se debe separar en celdas o utilizar el comando `print` en las partes de interés.\n",
    "\n",
    "El símbolo `[ ]:`  la izquierda de cada celda de Código, describe el estado de la celda:\n",
    "\n",
    "* `[ ]:` significa que la celda aún no se ha ejecutado.\n",
    "* `[*]:` significa que la celda se está ejecutado.\n",
    "* `[1]:` significa que la celda ha terminado de ejecutarse. Este número va variando e indica el orden en que las celdas han sido ejecutadas\n",
    "\n",
    "> **Nota:** Para comprobar si una celda se está ejecutando actualmente, inspeccione el círculo pequeño en la parte superior a la derecha (donde dice Python 3 &#11096;).\n",
    "El círculo se volverá gris (\"Kernel ocupado\") cuando la celda se esté ejecutando y volverá a estar vacío (\"Kernel inactivo\") cuando se complete el proceso.\n",
    "\n",
    " \n",
    "## 3.2 Tipos de celdas\n",
    "\n",
    "### 3.2.1 Celdas de código\n",
    "\n",
    "Todas las operaciones de código se realizan en celdas de código.\n",
    "Las celdas de código se pueden usar para editar y escribir código nuevo y realizar cualquier tipo de tarea, como también ejecutar análisis. \n",
    "Estas celdas tienen la misma funcionalidad que la consola de que provee iPython.\n",
    "\n",
    "### 3.2.2 Celdas de escritura (markdown)\n",
    "\n",
    "Markdown cells provide the narrative to a notebook.\n",
    "They are used for text and are useful to describe the code operations in the following cells. \n",
    "To see some of the formatting options for text in a Markdown cell, navigate to the \"Help\" tab of the menu bar at the top of JupyterLab and select \"Markdown Reference\".\n",
    "Here you will see a wide range of text formatting options including headings, dot points, italics, hyperlinking and creating tables.\n",
    "\n",
    "Las celdas de Markdown proporcionan la narrativa a un cuaderno.\n",
    "Se utilizan para texto y son útiles para describir las operaciones de código en las siguientes celdas.\n",
    "Para ver algunas de las opciones de formato para el texto en una celda de Markdown, navegue a la pestaña \"Ayuda\" de la barra de menú en la parte superior de JupyterLab y seleccione \"Referencia de Markdown\".\n",
    "Aquí verá una amplia gama de opciones de formato de texto, incluidos títulos, puntos, cursiva, hipervínculos y creación de tablas. \n",
    "\n",
    "## 3.3 Ejecutar/Detener procesos\n",
    "\n",
    "Sometimes it can be useful to stop a cell execution before it finishes (e.g. if a process is taking too long to complete, or if the code needs to be modified before running the cell). \n",
    "To interrupt a cell execution, click the &#9632; \"stop\" button (\"Interrupt the kernel\") in the ribbon above the notebook. \n",
    "\n",
    "To test this, run the following code cell.\n",
    "This will run a piece of code that will take 10 seconds to complete.\n",
    "To interrupt this code, press the &#9632; \"stop\" button. \n",
    "The notebook should stop executing the cell."
   ]
  },
  {
   "cell_type": "markdown",
   "metadata": {},
   "source": [
    "# 4. Configurar Git\n",
    "\n",
    "https://github.com/Data-Observatory/DataCubeTrainingBasic.git\n",
    "\n",
    "https://github.com/CSIRO-Chile/datacube-notebooks-public"
   ]
  },
  {
   "cell_type": "markdown",
   "metadata": {},
   "source": [
    "# 5. En caso de...\n",
    "\n",
    "## Error “401: Unauthorized”\n",
    "\n",
    "Si experimenta este error, haga clic en 'Inicio' y luego en 'Cerrar sesión'. Refresque la página y vuelva a iniciar sesión normalmente. Este error se produce principalmente debido a que no se cerró la sesión adecuadamente al desconectarse.\n",
    "\n",
    "## Problemas con Carga de imágenes\n",
    "\n",
    "Errores in sentinel2/landsat, reportar por favor. These backend issues shouldn't be an issue for users, but the key to know is that if people are getting unexplained errors, then they should report it because these cases can exist and this is not a fully operational system, so these errors can creep in.\n",
    "\n",
    "# 6. Utilidades\n",
    "\n",
    "## 6.1 Explorador de productos\n",
    "\n",
    "[Explorador de imágenes](https://explorer.stage.earth.dataobservatory.net/)\n",
    "\n",
    "* [**Sign up to the DEA Sandbox**](https://docs.dea.ga.gov.au/setup/sandbox.html) to run this notebook interactively from a browser\n",
    "* **Compatibility**: Notebook currently compatible with both the `NCI` and `DEA Sandbox` environments\n",
    "* **Prerequisites**:  Users of this notebook should have a basic understanding of:\n",
    "    * How to run a [Jupyter notebook](01_Jupyter_notebooks.ipynb)"
   ]
  },
  {
   "cell_type": "code",
   "execution_count": null,
   "metadata": {},
   "outputs": [],
   "source": [
    "\n"
   ]
  }
 ],
 "metadata": {
  "kernelspec": {
   "display_name": "Python 3",
   "language": "python",
   "name": "python3"
  },
  "language_info": {
   "codemirror_mode": {
    "name": "ipython",
    "version": 3
   },
   "file_extension": ".py",
   "mimetype": "text/x-python",
   "name": "python",
   "nbconvert_exporter": "python",
   "pygments_lexer": "ipython3",
   "version": "3.8.5"
  }
 },
 "nbformat": 4,
 "nbformat_minor": 4
}
