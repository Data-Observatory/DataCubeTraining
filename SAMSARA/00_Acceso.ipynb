{
 "cells": [
  {
   "cell_type": "markdown",
   "id": "16b06301-ad66-4112-9890-6f9ee4b20c98",
   "metadata": {},
   "source": [
    "<img align=\"center\" src=\"../extra/logos/logos.png\" width='1200px'>"
   ]
  },
  {
   "cell_type": "markdown",
   "id": "50b59047-4bfb-490c-aa17-0e79457ca5a1",
   "metadata": {},
   "source": [
    "# Bienvenida\n",
    "\n",
    "¡Bienvenido al tutorial de DataCube Chile! En este tutorial vas a aprender a:\n",
    "    \n",
    "- Acceder y salir al entorno virtual de DataCubeChile;\n",
    "- Clonar repositorios dentro de DataCubeChile;\n",
    "- Extraer información del cubo, y procesar imágenes;\n",
    "- Usar xarray y las herramientas del DataCubeChile.\n",
    "\n",
    "\n",
    "**Consejo:** No te olvides de leer detalladamente todas las etapas, y tomar el tiempo necesario para cada paso. En particular para este Notebook de Acceso, que incorpora las partes de acceso e importación de repositorios. Verás que tiene pocos pasos, deberías terminarlo pronto si lees bien todo, y tener tiempo para experimentar las posibilidades que trae DataCubeChile. \n",
    "\n",
    "\n",
    "Por el momento, estás leyendo el tutorial desde una página estática de GitHub. El objetivo de este paso inicial es poder conectarte a DataCubeChile, y acceder a los Notebooks de este tutorial desde el DataCubeChile. \n",
    "\n",
    "De esta forma, podrás correr sin problema los scripts de este tutorial.\n",
    "\n",
    "\n",
    "***"
   ]
  },
  {
   "cell_type": "markdown",
   "id": "b90a98bb-5789-466e-b283-d9402c96cabc",
   "metadata": {
    "tags": []
   },
   "source": [
    "# DataCubeChile\n",
    "\n",
    "DataCubeChile viene con un **entorno virtual** que tiene todas las funcionalidades necesarias para acceder, procesar y visualizar las imágenes disponibles en el cubo.\n",
    "\n",
    "El usuario final ve un Jupyter-Notebook. Sin embargo, este Notebook está corriendo en la nube (en AWS), no en el computador del usuario. Se parece bastante a Google Colabs (¿te suena algo?). Cuando me conecto a DataCube, AWS me presta un servidor en la nube (una instancia), el cual viene configurado con todas las librerías necesarias. \n",
    "\n",
    "Hay que observar que las instancias tienen costo. Por esta razón, es importante cerrar bien todo cuando uno deja de usar DataCube. Por esto, partamos con el 1.\n",
    "\n",
    "Partamos con la configuración de la cuenta.\n",
    "\n",
    "***"
   ]
  },
  {
   "cell_type": "markdown",
   "id": "f430824f-cda2-41ac-a1a1-c9d753acd24a",
   "metadata": {
    "jp-MarkdownHeadingCollapsed": true,
    "tags": []
   },
   "source": [
    "# 1. Configuración de la cuenta\n",
    "\n",
    "Antes que todo, deberías haber recibido un correo con tu login al DataCube. Es un correo de Jonathan Hodge con tu usuario y clave. Se ve así:\n",
    "\n",
    "<img align=\"center\" src=\"../extra/capturas/01.png\" height='500px'>\n",
    "\n",
    "\n",
    "***Guárdalos***, los necesitarás pronto.\n",
    "\n",
    "Una vez que los tenga, puedes proseguir.\n",
    "\n",
    "***"
   ]
  },
  {
   "cell_type": "markdown",
   "id": "6baf0d94-a3d5-4bd0-810b-ca29c3172afa",
   "metadata": {},
   "source": [
    "# 2. Acceso al sistema\n",
    "\n",
    "Tal como está mencionado en el correo de Jonathan Hodge, entra a la página siguiente:\n",
    "\n",
    "[**https://hub.datacubechile.cl/**](https://hub.datacubechile.cl/)\n",
    "\n",
    "Te debería aparecer esta página:\n",
    "\n",
    "<img align=\"center\" src=\"../extra/capturas/02.png\" height='500px'>\n",
    "\n",
    "***"
   ]
  },
  {
   "cell_type": "markdown",
   "id": "9b666775-bb2c-435a-9b18-4495a0de1bf3",
   "metadata": {},
   "source": [
    "Luego, haz click en el botón Sign Up with **AWSCognito**. Ahora te aperece la página de login:\n",
    "\n",
    "<img align=\"center\" src=\"../extra/capturas/03.png\" height='500px'>\n",
    "\n",
    "***\n"
   ]
  },
  {
   "cell_type": "markdown",
   "id": "43b689a4-7c48-4a5e-80d7-3c9b1a9a1a64",
   "metadata": {},
   "source": [
    "\n",
    "Ahora rellena las entradas con el usuario y la clave que recibiste en el correo de Jonathan Hodge, y conéctate. Vas a llegar a esta página:\n",
    "    \n",
    "<img align=\"center\" src=\"../extra/capturas/04.png\" height='800px'>\n",
    "\n",
    "\n",
    "***"
   ]
  },
  {
   "cell_type": "markdown",
   "id": "4ea36e72-8bd5-4f74-95a4-5ff817e7b77e",
   "metadata": {},
   "source": [
    "Aprieta el botón **Start My Server**. Te aparece la página de configuración del entorno virtual. Escoge Jupyter Notebook y aprieta **Default Jupyter Environment**.\n",
    "\n",
    "Observa que varias opciones existen (R, GPU, etc...). Permiten lanzar las instancias con imágenes disitintas (es decir pre-configuraciones diferentes).\n",
    "\n",
    "<img align=\"center\" src=\"../extra/capturas/05.png\" height='400px'>\n",
    "\n",
    "***"
   ]
  },
  {
   "cell_type": "markdown",
   "id": "dae768ed-fb20-44a6-8870-4197a3dd0e12",
   "metadata": {},
   "source": [
    "Desliza hasta abajo y aprieta **Start**:\n",
    "\n",
    "<img align=\"center\" src=\"../extra/capturas/06.png\" height='500px'>\n",
    "\n",
    "***"
   ]
  },
  {
   "cell_type": "markdown",
   "id": "aa70e02f-aecd-4b1f-b335-6a7c09ddc932",
   "metadata": {},
   "source": [
    "¡Perfecto! Ahora se va a lanzar la instancia. Paciencia, se demora un par de minutos...\n",
    "\n",
    "<img align=\"center\" src=\"../extra/capturas/07.png\" height='500px'>\n",
    "\n",
    "***"
   ]
  },
  {
   "cell_type": "markdown",
   "id": "e64c2a1d-ae89-4dab-873c-62c74dbc3c85",
   "metadata": {},
   "source": [
    "Una vez que la instancia se haya lanzado, deberías llegar a esto:\n",
    "\n",
    "<img align=\"center\" src=\"../extra/capturas/08.png\" height='500px'>\n",
    "\n",
    "***"
   ]
  },
  {
   "cell_type": "markdown",
   "id": "a2ffb252-c6e9-4d42-bc45-eae9c4281c9e",
   "metadata": {},
   "source": [
    "Nota: Los archivos que se creen y guarden en la sesión quedan disponible permanentemente, por lo que cada vez que se reinicie la sesión, estarán accesibles.\n",
    "\n",
    "\n",
    "¡***Buen trabajo***, ahora puedes usar DataCubeChile! Respira hondo, descansa, y continúa el proceso! \n",
    "\n",
    "***"
   ]
  },
  {
   "cell_type": "markdown",
   "id": "c57674d5-6c20-4138-8446-3b3ba1ba1b12",
   "metadata": {},
   "source": [
    "# 3. Clonar repositorios\n",
    "\n",
    "Por el momento hemos leído este Jupyter Notebook desde nuestro navegador. Es estático, no podemos correrlo en DataCube. Por eso, ahora vamos a importar todos los tutoriales desde DataCube. Para esto, vamos a tener que clonar el repositorio en DataCubeChile. Es muy simple, primero copia esta url:\n",
    "\n",
    "`\n",
    "https://github.com/Data-Observatory/DataCubeTrainingBasic.git\n",
    "`\n",
    "¿Listo? \n",
    "\n",
    "***\n",
    "\n",
    "Ahora que te acostumbraste al tutorial, vamos a acelerar un poco. Haz lo siguiente (como en la imagen a continuación):\n",
    "\n",
    "1. Asegúrate que tu estás en tu home directory. Para hacer esto, apretar el icono de carpeta;\n",
    "2. Hacer clic en el icono GitHub;\n",
    "3. Pegar la url que acabas de copiar;\n",
    "4. Hacer clic en clone;\n",
    "\n",
    "Todos los pasos vienen a continuación!\n",
    "\n",
    "<img align=\"center\" src=\"../extra/capturas/c1.png\" height='800px'>\n",
    "\n",
    "\n",
    "***"
   ]
  },
  {
   "cell_type": "markdown",
   "id": "69434dd5-bf45-49e9-8938-362ac92d98c1",
   "metadata": {},
   "source": [
    "Ahora te debería aparecer la carpeta `DataCubeTrainingBasic`. Puedes hacer clic en la carpeta, y abrir los tutoriales desde DataCubeChile.\n",
    "\n",
    "Esta carpeta no es la única que necesitas. También, tienes que hacer un clone de esta carpeta también:\n",
    "\n",
    "`https://github.com/CSIRO-Chile/datacube-notebooks-public.git`\n",
    "\n",
    "\n",
    "Así que copia esta URL y repite los pasos de arriba para importar este repositorio. `datacube-notebooks-public` contiene otros notebooks y material auxiliar generado por CSIRO-Chile, y también algunas funciones que serán utilizadas para revisar la zona de estudio."
   ]
  },
  {
   "cell_type": "markdown",
   "id": "ed3e82e5-602e-4806-96b2-25cee37e77f4",
   "metadata": {},
   "source": [
    "Luego, aprieta el icono de GitHub, y copia el repositorio que quieres copiar. Finalmente, puedes repetir estos pasos con otros repositorios que consideres de interés."
   ]
  },
  {
   "cell_type": "markdown",
   "id": "58084a97-eca3-4fb4-b192-9e6d684ebdfb",
   "metadata": {},
   "source": [
    "## *Siguientes pasos*\n",
    "\n",
    "¡Felicitaciones, estamos listos para partir usando DataCubeChile. Si experimentaste problemas, a continuación vienen algunos comentarios (léelos por si acaso para tenerlos en mente):"
   ]
  },
  {
   "cell_type": "markdown",
   "id": "6fa211c8-2950-4c74-aaff-738933af852f",
   "metadata": {},
   "source": [
    "# 4. [Opcional] En caso de...\n",
    "\n",
    "## Error “401: Unauthorized”\n",
    "\n",
    "Si experimentas este error, haz clic en 'Inicio' y luego en 'Cerrar sesión'. Refresca la página y vuelva a iniciar sesión normalmente. Este error se produce principalmente debido a que no se cerró la sesión adecuadamente al desconectarse. Para cerrarla correctamente, al terminar de trabjar: File -> Hub Control Panel -> Stop My Server (esperar unos segundos) -> Logout.\n",
    "\n",
    "## Problemas con Carga de imágenes\n",
    "\n",
    "El DataCube aún está en desarrollo y aunque es poco probable que se produzcan errores en la carga de datos, cualquier problema por favor repórtalo, especialmente en la serie sentinel2/landsat que se carga desde los buckets públicos de AWS. En algunas ocasiones, basta con volver a correr la línea `configure_s3_access(aws_unsigned=False, requester_pays=True)`. En segunda instancia, recargar la página (F5)."
   ]
  },
  {
   "cell_type": "markdown",
   "id": "146a7bd1-daef-4c47-8188-d2ecbb71bb7b",
   "metadata": {},
   "source": [
    "# 5. Cerrar DataCubeChile\n",
    "\n",
    "Tal como te lo comentamos, es importante que cierres bien tu instancia cuando dejes de usar DataCubeChile, para evitar costos inútiles. Ahí te dejo los pasos para cerrar con toda seguridad tu instancia. No necesitas hacerlo ahora, ya que vamos a seguir usando DataCubeChile. Pero cuando termines de trabajar, acuérdate de que los pasos aparecen acá:\n",
    "\n",
    "<img align=\"center\" src=\"../extra/capturas/s1.png\" height='800px'>"
   ]
  },
  {
   "cell_type": "markdown",
   "id": "f3e835ad-6856-430a-8bf4-7dfc961e3e54",
   "metadata": {},
   "source": [
    "Ahora vamos a empezar a usar DataCubeChile desde la instancia. Nos vemos en la parte [01_Introducción.ipynb](01_Introducción.ipynb).\n",
    "\n",
    "Desde ahora seguiremos **leyendo los notebooks desde la instancia DataCubeChile!** ¿Se entiende? Así que abre la carpeta, nos vemos en 01_Introducción!"
   ]
  }
 ],
 "metadata": {
  "kernelspec": {
   "display_name": "Python 3 (ipykernel)",
   "language": "python",
   "name": "python3"
  },
  "language_info": {
   "codemirror_mode": {
    "name": "ipython",
    "version": 3
   },
   "file_extension": ".py",
   "mimetype": "text/x-python",
   "name": "python",
   "nbconvert_exporter": "python",
   "pygments_lexer": "ipython3",
   "version": "3.8.10"
  }
 },
 "nbformat": 4,
 "nbformat_minor": 5
}
