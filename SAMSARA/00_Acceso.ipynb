{
 "cells": [
  {
   "cell_type": "markdown",
   "id": "16b06301-ad66-4112-9890-6f9ee4b20c98",
   "metadata": {},
   "source": [
    "<img align=\"center\" src=\"../extra/logos/logos.png\" width='1200px'>"
   ]
  },
  {
   "cell_type": "markdown",
   "id": "50b59047-4bfb-490c-aa17-0e79457ca5a1",
   "metadata": {},
   "source": [
    "# Bienvenida\n",
    "\n",
    "¡Bienvenido al tutorial de DataCube Chile! En este tutorial vas a aprender a:\n",
    "    \n",
    "1. Acceder y salir de DataCubeChile\n",
    "2. Clonar repositorios dentro de DataCubeChile\n",
    "3. Extraer información del cubo, y procesar imágenes\n",
    "4. Usar xarray y las herramientas del DataCubeChile\n",
    "\n",
    "Consejo: No te olvides de leer detalladamente todas las etapas, y tomar el tiempo necesario para cada paso. En particular para este Notebook de Acceso, que incorpora las etapas 1. y 2. Verás que tiene pocos pasos, deberías terminarlo pronto si lees bien todo, y tener tiempo para experimentar las posibilidades que trae DataCubeChile. \n",
    "\n",
    "Por el momento, estás leyendo el tutorial desde una página estática de GitHub. El objetivo de este paso inicial es poder conectarte a DataCubeChile, y poder acceder a los Notebooks de este tutorial desde el DataCubeChile. De esta forma, podrás correr sin problema los scripts de este tutorial.]"
   ]
  },
  {
   "cell_type": "markdown",
   "id": "b90a98bb-5789-466e-b283-d9402c96cabc",
   "metadata": {
    "tags": []
   },
   "source": [
    "# DataCubeChile\n",
    "\n",
    "¿Qué es DataCubeChile? Es un entorno virtual que viene con todas las funcionalidades necesarias para acceder, procesar y visualizar las imágenes disponibles en el cubo.\n",
    "\n",
    "El usuario final ve un Jupyter-Notebook. Sin embargo, este Notebook está corriendo en la nube (en AWS), no en el computador del usuario. Se parece bastante a Google Colabs (¿te suena algo?). Cuando me conecto a DataCube, AWS me presta un servidor en la nube (una instancia), el cual viene configurado con todas las librerías necesarias. \n",
    "\n",
    "Hay que observar que las instancias tienen costo. Por esta razón, es importante cerrar bien todo cuando uno deja de usar DataCube. Por esto, partamos con el 1.\n",
    "\n",
    "\n",
    "Partamos con el 1. de la lista: Acceder a DataCubeChile (pero también salir!)"
   ]
  },
  {
   "cell_type": "markdown",
   "id": "f430824f-cda2-41ac-a1a1-c9d753acd24a",
   "metadata": {
    "jp-MarkdownHeadingCollapsed": true,
    "tags": []
   },
   "source": [
    "# Configuración de la cuenta\n",
    "\n",
    "Antes que todo, deberías haber recibido un correo con tu login al DataCube. Es un correo de Jonathan Hodge con tu usuario y clave. Se ve así:\n",
    "\n",
    "<img align=\"center\" src=\"../extra/capturas/01.png\" height='800px'>\n",
    "\n",
    "\n",
    "Guárdalos, los necesitarás pronto.\n",
    "\n",
    "Una vez que los tenga, puedes proseguir."
   ]
  },
  {
   "cell_type": "markdown",
   "id": "6baf0d94-a3d5-4bd0-810b-ca29c3172afa",
   "metadata": {},
   "source": [
    "# Acceso al sistema\n",
    "\n",
    "Tal como está mencionado en el correo de Jonathan Hodge, entra a la página siguiente:\n",
    "\n",
    "[**https://hub.datacubechile.cl/**](https://hub.datacubechile.cl/)\n",
    "\n",
    "Te debería aparecer esta página:\n",
    "\n",
    "<img align=\"center\" src=\"../extra/capturas/02.png\" height='800px'>"
   ]
  },
  {
   "cell_type": "markdown",
   "id": "9b666775-bb2c-435a-9b18-4495a0de1bf3",
   "metadata": {},
   "source": [
    "Haz click en el botón Sign Up with **AWSCognito**. Ahora te aperece la página de login:\n",
    "\n",
    "<img align=\"center\" src=\"../extra/capturas/03.png\" height='600px'>\n"
   ]
  },
  {
   "cell_type": "markdown",
   "id": "43b689a4-7c48-4a5e-80d7-3c9b1a9a1a64",
   "metadata": {},
   "source": [
    "Ahora rellena las entradas con el usuario y la clave que recibiste en el correo de Jonathan Hodge, y conéctate. Vas a llegar a esta página:\n",
    "    \n",
    "<img align=\"center\" src=\"../extra/capturas/04.png\" height='800px'>\n"
   ]
  },
  {
   "cell_type": "markdown",
   "id": "4ea36e72-8bd5-4f74-95a4-5ff817e7b77e",
   "metadata": {},
   "source": [
    "Aprieta el botón **Start My Server**. Te aparece la página de configuración del entorno virtual. Escoge Jupyter Notebook y aprieta **Default Jupyter Environment**.\n",
    "\n",
    "Observa que varias opciones existen (R, GPU, etc...). Permiten lanzar las instancias con imágenes disitintas (es decir pre-configuraciones diferentes).\n",
    "\n",
    "<img align=\"center\" src=\"../extra/capturas/05.png\" height='800px'>\n"
   ]
  },
  {
   "cell_type": "markdown",
   "id": "dae768ed-fb20-44a6-8870-4197a3dd0e12",
   "metadata": {},
   "source": [
    "Desliza hasta abajo y aprieta **Start**:\n",
    "\n",
    "<img align=\"center\" src=\"../extra/capturas/06.png\" height='800px'>"
   ]
  },
  {
   "cell_type": "markdown",
   "id": "aa70e02f-aecd-4b1f-b335-6a7c09ddc932",
   "metadata": {},
   "source": [
    "¡Perfecto! Ahora se va a lanzar la instancia. Paciencia, se demora un par de minutos...\n",
    "\n",
    "<img align=\"center\" src=\"../extra/capturas/07.png\" height='800px'>"
   ]
  },
  {
   "cell_type": "markdown",
   "id": "e64c2a1d-ae89-4dab-873c-62c74dbc3c85",
   "metadata": {},
   "source": [
    "Una vez que la instancia se haya lanzado, deberías llegar a esto:\n",
    "\n",
    "<img align=\"center\" src=\"../extra/capturas/08.png\" height='800px'>"
   ]
  },
  {
   "cell_type": "markdown",
   "id": "c57674d5-6c20-4138-8446-3b3ba1ba1b12",
   "metadata": {},
   "source": [
    "# Clonar repositorios\n",
    "\n",
    "¡Buen trabajo, ahora puedes usar DataCubeChile!\n",
    "\n",
    "Ahora, vamos a querer importar estos tutoriales, para poder correrlos directamente desde DataCubeChile. Para esto, vamos a tener que clonar el repositorio en DataCubeChile. Es muy simple, primero copia esta url:\n",
    "\n",
    "`\n",
    "https://github.com/Data-Observatory/DataCubeTrainingBasic.git\n",
    "`\n",
    "\n",
    "¿Listo? Ahora, asegúrate que tú estás en tu home directory. Para hacer eso, puedes apretar el icono de carpeta.\n"
   ]
  },
  {
   "cell_type": "markdown",
   "id": "ed3e82e5-602e-4806-96b2-25cee37e77f4",
   "metadata": {},
   "source": [
    "Luego, aprieta el icono de GitHub, y copia el repositorio que quieres copiar. Finalmente, repite el mismo proceso con estas urls:"
   ]
  },
  {
   "cell_type": "markdown",
   "id": "6fa211c8-2950-4c74-aaff-738933af852f",
   "metadata": {},
   "source": [
    "# Problemas de logueo"
   ]
  }
 ],
 "metadata": {
  "kernelspec": {
   "display_name": "Python 3 (ipykernel)",
   "language": "python",
   "name": "python3"
  },
  "language_info": {
   "codemirror_mode": {
    "name": "ipython",
    "version": 3
   },
   "file_extension": ".py",
   "mimetype": "text/x-python",
   "name": "python",
   "nbconvert_exporter": "python",
   "pygments_lexer": "ipython3",
   "version": "3.8.10"
  }
 },
 "nbformat": 4,
 "nbformat_minor": 5
}
