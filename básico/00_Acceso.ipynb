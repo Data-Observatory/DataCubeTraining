{
 "cells": [
  {
   "cell_type": "markdown",
   "id": "48a5ff75-9377-4a46-a9bf-d9f3cefce38c",
   "metadata": {
    "tags": []
   },
   "source": [
    "<img align=\"center\" src=\"../extra/logos/logos.png\" width='1200px'>"
   ]
  },
  {
   "cell_type": "markdown",
   "id": "c7a9d69a-af16-4bdf-b191-8c8557498969",
   "metadata": {
    "tags": []
   },
   "source": [
    "# Bienvenida &#x1F44B;\n",
    "\n",
    "¡Bienvenido al tutorial básico de DataCube Chile! En este tutorial vas a aprender a:\n",
    "    \n",
    "- Acceder y salir del entorno virtual de DataCubeChile;\n",
    "- Clonar repositorios dentro de DataCubeChile;\n",
    "- Extraer información de DataCubeChile, y procesar imágenes;\n",
    "- Usar xarray y las herramientas del DataCubeChile.\n",
    "\n",
    "Este tutorial puede leerse tanto desde una página estática de GitHub, como desde la página del DataCubeChile. Recomendamos hacerlo desde la página de DataCubeChile, pues podrás correr sin problema los scripts de este tutorial.\n",
    "\n",
    ">**Consejo:** No olvides leer detalladamente todas las etapas, y dedicar el tiempo necesario en cada paso. Esto es particularmente importante en este Notebook, ya que incorpora las secciones de acceso e importación de repositorios. Notarás que son pocos pasos y debiese ser rápido de terminar, en cuyo caso aprovecha el tiempo para experimentar las posibilidades que trae DataCubeChile. \n",
    "\n",
    "***"
   ]
  },
  {
   "cell_type": "markdown",
   "id": "de8d573a-a819-4c86-be2c-64559a3ded27",
   "metadata": {
    "tags": []
   },
   "source": [
    "# DataCubeChile &#127758;\n",
    "\n",
    "DataCubeChile es una plataforma colaborativa que busca revolucionar el uso de datos de Observación de la Tierra y el Mar en Chile, para entregar valor a los sectores de investigación, industria y gobierno.\n",
    "\n",
    "El cubo de datos de DataCubeChile está montado sobre la infraestructura de Amazon Web Services (AWS), la cual permite una alta flexibilidad y disponibilidad en la nube.\n",
    "\n",
    "DataCubeChile viene con un **entorno virtual** que tiene todas las funcionalidades necesarias para acceder, procesar y visualizar las imágenes disponibles en el cubo.\n",
    "\n",
    "El usuario visualiza un Jupyter-Notebook, el que está corriendo en la nube (en AWS) y no en el computador del usuario. Se parece bastante a Google Colabs (¿te suena algo?). Al conectarnos a DataCube, AWS nos presta un servidor en la nube (una instancia), el cual viene configurado con todas las librerías necesarias.\n",
    "\n",
    "Los archivos que se creen y guarden en la sesión, quedan disponible permanentemente, por lo que cada vez que se reinicie la sesión, estos estarán accesibles. Sin embargo, las instancias tienen costo. Por esta razón, es importante cerrar bien todo cuando uno deja de usar DataCube.\n",
    "\n",
    ">**Nota:** Parte de este notebook es una adaptación realizada las guías de [DataCube Australia](https://github.com/GeoscienceAustralia/dea-notebooks).\n",
    "\n",
    "***"
   ]
  },
  {
   "cell_type": "markdown",
   "id": "57d72987-f36c-474a-8c8a-2337e14e22d5",
   "metadata": {
    "tags": []
   },
   "source": [
    "# 1. Configuración de la cuenta &#x1F527;\n",
    "\n",
    "Antes que todo, deberías haber recibido un correo con tu login al DataCube. Es un correo de Jonathan Hodge con tu usuario y clave. Se ve así:\n",
    "\n",
    "<img align=\"center\" src=\"../extra/capturas/01.png\" height='500px'>\n",
    "\n",
    "\n",
    "***Guárdalos***, los necesitarás pronto.\n",
    "\n",
    "Una vez que los tenga, puedes proseguir.\n",
    "\n",
    "***"
   ]
  },
  {
   "cell_type": "markdown",
   "id": "85f50f83-b227-4e7b-a87a-8cf688fca44b",
   "metadata": {
    "tags": []
   },
   "source": [
    "# 2. Acceso al sistema \t&#x1F511;\n",
    "\n",
    "Para acceder al cubo, tal como se menciona en el correo de Jonathan Hodge, se requiere acceder al siguiente enlace: [**https://hub.datacubechile.cl/**](https://hub.datacubechile.cl/)\n",
    "\n",
    "Debiese aparecer la siguiente página:\n",
    "\n",
    "<img align=\"center\" src=\"../extra/capturas/02.png\" height='500px'>\n",
    "\n",
    "***"
   ]
  },
  {
   "cell_type": "markdown",
   "id": "efda9a47-14d4-4d3c-9396-e81f3adb2f19",
   "metadata": {},
   "source": [
    "Luego, haga click en el botón \"Sign Up with **AWSCognito**\" para acceder a la página de login. \n",
    "\n",
    "Ingrese las credenciales proporcionadas por correo (usuario, contraseña), y haga click en \"Sign in\".\n",
    "\n",
    "<img align=\"center\" src=\"../extra/capturas/03.png\" height='500px'>\n",
    "\n",
    "***"
   ]
  },
  {
   "cell_type": "markdown",
   "id": "36cbf43b-ab60-496a-830c-314162d93501",
   "metadata": {},
   "source": [
    "Aparecerá la página de configuración del entorno virtual \"**Server Options**\" con 3 categorías \"**Resource Usage Allocation**\", \"**Resource request**\" y \"**Jupyter profile**\".\n",
    "\n",
    "<img align=\"center\" src=\"../extra/capturas/Server1_2023-05-23.png\" height='500px'>\n",
    "<img align=\"center\" src=\"../extra/capturas/Server2_2023-05-23.png\" height='500px'>\n",
    "\n",
    "* En \"**Resource Usage Allocation**\" escojer \"**DO - Data Observatory projects**\".\n",
    "* En \"**Resource request**\" escojer \"**DEFAULT**\" que consiste en la asignación de 8 CPU (cores), 32 GB de memoria RAM, sin GPU.\n",
    "* En \"**Jupyter profile**\" escojer \"**Default Jupyter Python enviroment (master.lastest)**\".\n",
    "* Finalmente, deslizar hasta abajo y presionar **Start**.\n",
    "\n",
    "Observe que existen varias opciones (R, GPU, etc...). Estas opciones permiten lanzar instancias con imágenes distintas (es decir pre-configuraciones diferentes).\n",
    "\n",
    "\n",
    "\n",
    "***"
   ]
  },
  {
   "cell_type": "markdown",
   "id": "49ce78b4-a84d-46d5-8702-f2794b29a72c",
   "metadata": {},
   "source": [
    "¡Perfecto! Ahora se va a lanzar la instancia. Paciencia, se demora un par de minutos... &#x1F91E;\n",
    "\n",
    "<img align=\"center\" src=\"../extra/capturas/07.png\" height='500px'>\n",
    "\n",
    "***"
   ]
  },
  {
   "cell_type": "markdown",
   "id": "5cd5756c-629d-4354-8cae-d443c355ed77",
   "metadata": {
    "tags": []
   },
   "source": [
    "Una vez que la instancia se haya lanzado, deberías llegar a esto:\n",
    "\n",
    "<img align=\"center\" src=\"../extra/capturas/primer_login.PNG\" width='800px'>\n",
    "<!--- <img align=\"center\" src=\"../extra/capturas/08.png\" height='500px'> --->\n",
    "\n",
    "***"
   ]
  },
  {
   "cell_type": "markdown",
   "id": "ced600ef-37c5-4d85-b442-c4ed32149b20",
   "metadata": {
    "tags": []
   },
   "source": [
    "\n",
    "\n",
    "¡***Buen trabajo***, ahora puedes usar DataCubeChile! Respira hondo y descansa, que ya continúa el proceso\n",
    "\n",
    "***"
   ]
  },
  {
   "cell_type": "markdown",
   "id": "1d5d05e1-c140-4a4c-a878-2f9c3ed8bc52",
   "metadata": {
    "tags": []
   },
   "source": [
    "# 3. Clonar repositorios &#x1F4DA;\n",
    "\n",
    "Al leer este Notebook desde nuestro navegador, al ser estático, no podemos correr los códigos en DataCube. Por eso, el siguiente paso consiste en importar los tutoriales desde un repositorio hacia DataCube. Para esto, vamos clonar el repositorio en DataCubeChile. Es muy simple, primero copia esta url:\n",
    "\n",
    "`\n",
    "https://github.com/Data-Observatory/DataCubeTrainingBasic.git\n",
    "`\n",
    "\n",
    "¿Listo? \n",
    "\n",
    "***\n",
    "Los siguientes pasos son:\n",
    "1. Asegúrate que estás en tu \"home directory\". Para hacer esto, debes apretar el icono de carpeta;\n",
    "2. Haz clic en el icono GitHub;\n",
    "3. Pega la URL que acabas de copiar;\n",
    "4. Haz clic en \"clone\";\n",
    "\n",
    "Estos pasos están representados visualmente a continuación!\n",
    "\n",
    "<img align=\"center\" src=\"../extra/capturas/c1_2023_05_23.png\" width='500px'>\n",
    "\n",
    "\n",
    "***"
   ]
  },
  {
   "cell_type": "markdown",
   "id": "70e6dc8d-a670-4526-b850-9143eb3ba45b",
   "metadata": {},
   "source": [
    "Ahora debiese aparecer la carpeta `DataCubeTrainingBasic` en tu \"home directory\". Puedes hacer clic en la carpeta, y abrir los tutoriales desde DataCubeChile.\n",
    "\n",
    "Esta carpeta no es la única que necesitas. También, debes hacer \"clone\" de la siguiente carpeta:\n",
    "\n",
    "`https://github.com/CSIRO-Chile/datacube-notebooks-public.git`\n",
    "\n",
    "Copia la URL (hay que asegurarse que la dirección termine en `.git`) y repite los pasos anteriores para importar este repositorio. `datacube-notebooks-public` contiene otros notebooks y material auxiliar generado por CSIRO-Chile, y también algunas funciones que serán utilizadas para revisar la zona de estudio.\n",
    "\n",
    "Este procedimiento puede ser repetido por cada repositorio que desee clonar. Una vez clonado, al estar en la carpeta de un repositorio se desplegarán todas las funcionalidades de Git. Si bien estas escapan al objetivo de este tutorial, se puede obtener más información [aquí](https://product.hubspot.com/blog/git-and-github-tutorial-for-beginners).\n",
    "\n",
    "> **Otros repositorios de interés:** \n",
    "\n",
    ">> `https://github.com/GeoscienceAustralia/dea-notebooks.git`\n",
    "\n",
    ">> `https://github.com/digitalearthafrica/deafrica-sandbox-notebooks.git`\n",
    "\n",
    ">**Nota**: Si se van a realizar ediciones, es recomendable copiar el notebook en otra ubicación y realizar los cambios. De esa forma, si se actualiza el código en la fuente (por ejemplo, este mismo notebook se corrije y actualiza en el repositorio), no se generan conflictos entre los cambios que se están generando y los de la fuente.\n",
    "\n",
    "***"
   ]
  },
  {
   "cell_type": "markdown",
   "id": "cddc44d5-b30e-4658-aeeb-29a05f9e9aaa",
   "metadata": {},
   "source": [
    "# 4. Cerrar DataCubeChile &#x1F512;\n",
    "\n",
    "Como dijimos con anterioridad, es importante que cierres bien tu instancia cuando dejes de usar DataCubeChile, para evitar costos inútiles. Aquí están detallados los pasos para cerrar con seguridad tu instancia cuando termines de trabajar, acuérdate de que los pasos aparecen acá:\n",
    "\n",
    "<img align=\"center\" src=\"../extra/capturas/s1.png\" height='800px'>\n",
    "\n",
    "***"
   ]
  },
  {
   "cell_type": "markdown",
   "id": "e68da446-7417-43e4-afe6-17ea48fa0ea3",
   "metadata": {},
   "source": [
    "# *Siguientes pasos* &#128062;\n",
    "\n",
    "Para continuar con el tutorial pueden acceder a los notebooks del siguiente listado.\n",
    "\n",
    "1. **Acceso**\n",
    "2. [Cargar datos](01_Cargar_datos.ipynb)\n",
    "3. [Limpieza](02_Limpieza.ipynb)\n",
    "4. [Análisis básico](03_Análisis_básico.ipynb)\n",
    "5. [Caso de estudio 1](04_Caso_de_estudio_1.ipynb)\n",
    "6. [Caso de estudio 2](05_Caso_de_estudio_2.ipynb)\n",
    "7. [Trabajo final](04_Actividad_final.ipynb)\n",
    "\n",
    "***"
   ]
  },
  {
   "cell_type": "code",
   "execution_count": null,
   "id": "53533a40-963f-4bce-9e81-3ebef965f25d",
   "metadata": {},
   "outputs": [],
   "source": []
  }
 ],
 "metadata": {
  "kernelspec": {
   "display_name": "Python 3 (ipykernel)",
   "language": "python",
   "name": "python3"
  },
  "language_info": {
   "codemirror_mode": {
    "name": "ipython",
    "version": 3
   },
   "file_extension": ".py",
   "mimetype": "text/x-python",
   "name": "python",
   "nbconvert_exporter": "python",
   "pygments_lexer": "ipython3",
   "version": "3.10.6"
  }
 },
 "nbformat": 4,
 "nbformat_minor": 5
}
