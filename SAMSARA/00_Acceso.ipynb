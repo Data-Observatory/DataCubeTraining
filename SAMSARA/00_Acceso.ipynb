{
 "cells": [
  {
   "cell_type": "markdown",
   "id": "16b06301-ad66-4112-9890-6f9ee4b20c98",
   "metadata": {},
   "source": [
    "<img align=\"center\" src=\"../extra/logos/logos.png\" width='1200px'>"
   ]
  },
  {
   "cell_type": "markdown",
   "id": "f430824f-cda2-41ac-a1a1-c9d753acd24a",
   "metadata": {},
   "source": [
    "# Configuración de la cuenta"
   ]
  },
  {
   "cell_type": "markdown",
   "id": "6baf0d94-a3d5-4bd0-810b-ca29c3172afa",
   "metadata": {},
   "source": [
    "# Acceso al sistema\n",
    "\n",
    "1. Pantalla bienvenida\n",
    "1. Tipos de nodos (se pueden habilitar más de los actualmente disponibles)\n",
    "1. Tipos de imágenes para desplegar (python, python + R, ML)\n",
    "1. Funcionamiento general del sistema"
   ]
  },
  {
   "cell_type": "markdown",
   "id": "c57674d5-6c20-4138-8446-3b3ba1ba1b12",
   "metadata": {},
   "source": [
    "# Clonar repositorios\n",
    "\n",
    "1. Como clonar usando el panel lateral\n",
    "1. Que repositorios clonar"
   ]
  },
  {
   "cell_type": "markdown",
   "id": "6fa211c8-2950-4c74-aaff-738933af852f",
   "metadata": {},
   "source": [
    "# Problemas de logueo"
   ]
  }
 ],
 "metadata": {
  "kernelspec": {
   "display_name": "Python 3 (ipykernel)",
   "language": "python",
   "name": "python3"
  },
  "language_info": {
   "codemirror_mode": {
    "name": "ipython",
    "version": 3
   },
   "file_extension": ".py",
   "mimetype": "text/x-python",
   "name": "python",
   "nbconvert_exporter": "python",
   "pygments_lexer": "ipython3",
   "version": "3.8.10"
  }
 },
 "nbformat": 4,
 "nbformat_minor": 5
}
