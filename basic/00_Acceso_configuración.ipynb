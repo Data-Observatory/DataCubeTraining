{
 "cells": [
  {
   "cell_type": "markdown",
   "metadata": {},
   "source": [
    "<img align=\"center\" src=\"../extra/logos/logos.png\" width=\"800\" />"
   ]
  },
  {
   "cell_type": "markdown",
   "metadata": {},
   "source": [
    "# 1. Introducción al DataCube Chile &#127758;\n",
    "\n",
    "Antes de comenzar con las actividades prácticas, algunas notas sobre el acceso y configuración del cubo de datos. \n",
    "\n",
    "Como fue mencionado en las charlas, el cubo está montado sobre la infraestructura de AWS, la cual permite ......\n",
    "\n",
    "Los archivos que se creen y guarden en la sesión, quedan disponible permanentemente, por lo que cada vez que se reinicie la sesión, estarán accesibles.\n",
    "\n",
    ">Nota: Parte de este notebook es una adaptación realizada las guías de [DataCube Australia](https://github.com/GeoscienceAustralia/dea-notebooks).\n",
    "\n",
    "# 2. Acceso\n",
    "\n",
    "Para acceder al cubo, se debe ingresar al [**sitio**](https://hub.stage.earth.dataobservatory.net/). Eso los llevará a la siguiente ventana:\n",
    "\n",
    "<img align=\"center\" src=\"../extra/capturas/login1.PNG\" width='400px'>\n",
    "\n",
    "Al acceder, aparecerá otra ventena en la cual deben ingresar las credenciales proporcionadas a cada uno (usuario, contraseña). Posteriormente, se debe elegir la versión de OpenDataCube sobre la cual operar el cubo (actualmente, sólo está la versión 1.8). Si aparece más de una opción, elegir *Current*\n",
    "\n",
    "<img align=\"center\" src=\"../extra/capturas/login2.PNG\" width='200px'> <img align=\"right\" src=\"../extra/capturas/server_options.PNG\" width='500px'>\n",
    "\n",
    "Una vez se ingresa, desplegará un jupyter notebook que permitirá, entre otras cosas, interactuar con la información dentro del cubo. Antes de seguir, un poco de contexto sobre Jupyter Notebook\n",
    "\n",
    "<img align=\"center\" src=\"../extra/capturas/primer_login.PNG\" width='500px'>"
   ]
  },
  {
   "cell_type": "markdown",
   "metadata": {},
   "source": [
    "# 3. Jupyter Notebook\n",
    "\n",
    "Nacido del acrónimno **Ju**lia + **Pyt**hon + **R**, esta aplicación permite interactuar nativamente con estos tres lenguajes de programación. En el cubo, de momento sólo está instalado Python (versión 3.6). La ventaja de Jupyter es que permite una interacción directa entre código, texto y resultados.\n",
    "\n",
    "## 3.1 ¿Cómo funciona?\n",
    "\n",
    "Los notebooks de Jupyter permiten que el código se separe en secciones que se pueden ejecutar de forma independiente entre sí. Estas secciones se denominan \"celdas\". \n",
    "\n",
    "El código Python se escribe en celdas individuales que se pueden ejecutar colocando el cursor en la celda y presionando Shift-Enter en el teclado o seleccionando el botón &#11208; \"Ejecutar las celdas seleccionadas y avanzar\" en la parte superior del notebook. Estas opciones se ejecutarán en una sola celda a la vez. \n",
    "\n",
    "Para ejecutar automáticamente todas las celdas en un notebook, navegue hasta la pestaña \"Ejecutar\" de la barra de menú en la parte superior de JupyterLab y seleccione \"Ejecutar todas las celdas\" (o la opción que mejor se adapte a sus necesidades). Cuando se ejecuta una celda, se ejecuta el contenido de la celda. Cualquier salida producida al ejecutar la celda aparecerá directamente debajo de ella. Sólo la última salida aparecerá como resultado, por lo que si desea ver el resultado de pasos intermedios, se debe separar en celdas o utilizar el comando `print` en las partes de interés.\n",
    "\n",
    "El símbolo `[ ]:`  la izquierda de cada celda de Código, describe el estado de la celda:\n",
    "\n",
    "* `[ ]:` significa que la celda aún no se ha ejecutado.\n",
    "* `[*]:` significa que la celda se está ejecutado.\n",
    "* `[1]:` significa que la celda ha terminado de ejecutarse. Este número va variando e indica el orden en que las celdas han sido ejecutadas\n",
    "\n",
    "> **Nota:** Para comprobar si una celda se está ejecutando actualmente, inspeccione el círculo pequeño en la parte superior a la derecha (donde dice Python 3 &#11096;).\n",
    "El círculo se volverá gris (\"Kernel ocupado\") cuando la celda se esté ejecutando y volverá a estar vacío (\"Kernel inactivo\") cuando se complete el proceso.\n",
    "\n",
    " \n",
    "## 3.2 Tipos de celdas\n",
    "\n",
    "### 3.2.1 Celdas de código\n",
    "\n",
    "Todas las operaciones de código se realizan en celdas de código.\n",
    "Las celdas de código se pueden usar para editar y escribir código nuevo y realizar cualquier tipo de tarea, como también ejecutar análisis. \n",
    "Estas celdas tienen la misma funcionalidad que la consola de que provee iPython y algunos de sus comandos [\"mágicos\"](https://ipython.readthedocs.io/en/stable/interactive/magics.html) se pueden utilizar también.\n",
    "\n",
    "### 3.2.2 Celdas de escritura (markdown)\n",
    "\n",
    "Las celdas de Markdown proporcionan el contexto al notebook y permiten que darle una orientación al usuario, ya que permiten describir de manera más extendida y detallada lo que sucede en el código.\n",
    "Para ver algunas de las opciones de formato para el texto en una celda de Markdown, navegue a la pestaña \"Ayuda\" de la barra de menú en la parte superior de JupyterLab y seleccione \"Markdown Reference\".\n",
    "Existe una amplia gama de opciones de formato de texto, incluidos títulos, puntos, cursiva, hipervínculos, creación de tablas e inclusión de imágenes/figuras. \n",
    "\n",
    "## 3.3 Ejecutar/Detener procesos\n",
    "\n",
    "Si por algún motivo se requiere detener la ejecución de una celda antes de que finalice (por ejemplo, si un proceso tarda demasiado en completarse o si el código debe modificarse antes de ejecutar la celda), se puede hacer haciendo clic en el &#9632; Botón \"detener\" (\"Interrupt the kernel\"), en la parte superior del notebook. \n",
    "\n",
    "Para probar esto, ejecute la siguiente celda de código.\n",
    "Esto ejecutará un fragmento de código que tardará 20 segundos en completarse.\n",
    "Para interrumpir este código, presione la tecla &#9632; (botón \"Stop\")."
   ]
  },
  {
   "cell_type": "code",
   "execution_count": 7,
   "metadata": {},
   "outputs": [
    {
     "name": "stdout",
     "output_type": "stream",
     "text": [
      "Voy a dormir un rato...\n",
      "¡Listo, como tuna!\n"
     ]
    }
   ],
   "source": [
    "import time\n",
    "print('Voy a dormir un rato...')\n",
    "time.sleep(20)\n",
    "print('¡Listo, como tuna!')"
   ]
  },
  {
   "cell_type": "markdown",
   "metadata": {},
   "source": [
    "Si esto no funciona (si el notebook no responde), se puede reiniciar el notebook. Para hacer esto, navegue a la pestaña \"Kernel\" de la barra de menú, luego seleccione \"Restart Kernel\" o el botón &#x21bb; (\"Restart the kernel\").\n",
    "Reiniciar el notebook también sirve para verificar que el código funciona correctamente desde que se inicia por primera vez. Para ello, pulse el botón &#11208;&#11208;."
   ]
  },
  {
   "cell_type": "markdown",
   "metadata": {},
   "source": [
    "## 3.4 Guardar cambios/exportar trabajo\n",
    "\n",
    "Las modificaciones que se hagan sobre el notebook son guardadas automáticamente cada ciertos minutos. Para guardar los cambios en cualquier momento, haga clic en el icono &#128190; (\"save\"), en la parte superior izquierda del notebook."
   ]
  },
  {
   "cell_type": "markdown",
   "metadata": {},
   "source": [
    "# 4. Configurar Git\n",
    "\n",
    "<img align=\"left\" src=\"../extra/capturas/git.PNG\" width='300px'>\n",
    "\n",
    "Jupyter notebook permite cargar repositorios Git directamente en la sesión, por medio de una interfaz gráfico. Esto facilita compartir código (descargar, actualizar y/o cargar). En la imagen de la izquierda se puede ver como se ve la ventana de Git (disponible en el panel izquierda del notebook).\n",
    "\n",
    "En este caso, es necesario cargar dos repositorios:\n",
    "\n",
    "1. https://github.com/Data-Observatory/DataCubeTrainingBasic.git: Este repositorio contiene el material del curso (incluido este notebook), el cuál será utilizado durante estos días.\n",
    "2. https://github.com/CSIRO-Chile/datacube-notebooks-public.git: Contiene otros notebooks y material auxiliar generado por CSIRO-Chile, y también algunas funciones que serán utilizadas para revisar la zona de estudio.\n",
    "\n",
    "Para agregarlos, hay que copiar la ruta de enlace y hacer clic en el botón \"Clone a Repository\". Al hacerlo, se desplegará una ventana pidiendo una dirección web, la cual debe ser completada con la dirección del repositorio. Hay que repetir el procedimiento para el otro repositorio también."
   ]
  },
  {
   "cell_type": "markdown",
   "metadata": {},
   "source": [
    "# 5. En caso de...\n",
    "\n",
    "## Error “401: Unauthorized”\n",
    "\n",
    "Si experimenta este error, haga clic en 'Inicio' y luego en 'Cerrar sesión'. Refresque la página y vuelva a iniciar sesión normalmente. Este error se produce principalmente debido a que no se cerró la sesión adecuadamente al desconectarse.\n",
    "\n",
    "## Problemas con Carga de imágenes\n",
    "\n",
    "El DataCube aún está en desarrollo y aunque es poco probable que se produzcan errores en la carga de datos, cualquier problema por favor reportarlo, especialmente en la serie sentinel2/landsat que se carga desde los buckets públicos de AWS."
   ]
  },
  {
   "cell_type": "markdown",
   "metadata": {},
   "source": [
    "## *Siguientes pasos*\n",
    "\n",
    "Para continuar el entrenamiento, un listado con los notebooks de esta sesión\n",
    "\n",
    "1. **Acceso y configuración**\n",
    "2. [Cargar datos](01_Carga_datos.ipynb)\n",
    "3. [Análisis básico](02_Análisis_básico.ipynb)\n",
    "4. [Estudio de caso](03_Estudio_caso.ipynb)\n",
    "5. [Trabajo final](04_Actividad_final.ipynb)"
   ]
  }
 ],
 "metadata": {
  "kernelspec": {
   "display_name": "Python 3",
   "language": "python",
   "name": "python3"
  },
  "language_info": {
   "codemirror_mode": {
    "name": "ipython",
    "version": 3
   },
   "file_extension": ".py",
   "mimetype": "text/x-python",
   "name": "python",
   "nbconvert_exporter": "python",
   "pygments_lexer": "ipython3",
   "version": "3.8.5"
  }
 },
 "nbformat": 4,
 "nbformat_minor": 4
}
