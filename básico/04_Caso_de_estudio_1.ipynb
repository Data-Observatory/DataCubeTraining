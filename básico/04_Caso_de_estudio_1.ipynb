{
 "cells": [
  {
   "cell_type": "markdown",
   "id": "16b06301-ad66-4112-9890-6f9ee4b20c98",
   "metadata": {},
   "source": [
    "<img align=\"center\" src=\"../extra/logos/logos.png\" width='1200px'>"
   ]
  },
  {
   "cell_type": "markdown",
   "id": "75fd7690-8e30-4ac7-a866-3336508c48d1",
   "metadata": {},
   "source": [
    "# Caso de estudio 1: Cambio de uso\n",
    "\n",
    "Este caso de estudio es una adaptación del caso original desarrollado por Digital Earth Australia, que puede ser encontrado [aquí](https://github.com/csiro-easi/eocsi-hackathon-2022/blob/main/case-studies/Change_detection.ipynb).\n",
    "\n",
    "El objetivo es detectar cambio de uso de suelo vinculado a la vegetación, ya sea un aumento o una disminución de la vegetación en el espacio, entre los años 2014 y 2022.\n",
    "\n",
    "Las actividades claves son:\n",
    "* Definir área de estudio, temporalidad, sensores y bandas a utilizar\n",
    "* Limpiar los datos\n",
    "* Calcular índices\n",
    "* Realizar prueba de hipótesis\n",
    "* Visualizar resultados\n",
    "\n",
    "***"
   ]
  },
  {
   "cell_type": "code",
   "execution_count": null,
   "id": "3a913d06-b84a-499b-8614-f87833fd402f",
   "metadata": {
    "tags": []
   },
   "outputs": [],
   "source": [
    "import os\n",
    "\n",
    "os.environ[\"USE_PYGEOS\"] = \"0\"\n",
    "\n",
    "import datacube\n",
    "import xarray as xr\n",
    "import numpy as np\n",
    "import pandas as pd\n",
    "import matplotlib.pyplot as plt\n",
    "\n",
    "from odc.ui import DcViewer\n",
    "from datacube.utils import masking\n",
    "from datacube.utils.rio import configure_s3_access\n",
    "\n",
    "from dask.distributed import Client, LocalCluster\n",
    "cluster = LocalCluster()\n",
    "client = Client(cluster)\n",
    "\n",
    "configure_s3_access(aws_unsigned=False, requester_pays=True, client=client)\n",
    "\n",
    "from dea_tools.plotting import display_map, rgb"
   ]
  },
  {
   "cell_type": "code",
   "execution_count": null,
   "id": "48678efe-863b-44d0-b86c-80fdeedb4c23",
   "metadata": {
    "tags": []
   },
   "outputs": [],
   "source": [
    "dc = datacube.Datacube(app='caso_1') # https://opendatacube.readthedocs.io/en/latest/api/core-classes/datacube.html"
   ]
  },
  {
   "cell_type": "markdown",
   "id": "7b35093a-6e4c-4d8a-a75d-53101324bd40",
   "metadata": {},
   "source": [
    "# Definir área de estudio, temporalidad, sensores y bandas a utilizar\n",
    "\n",
    "Nos centraremos en un sector de la cordillera de la costa de la región de los Ríos, colindando con la región de la Araucanía (-39.41, -72.96).\n",
    "Debido a que nos enfocaremos en la vegetación, las bandas de interes serán roja e infrarroja para el cálculo de NDVI. También requerimos las bandas de calidad, para filtrar las nubes y otros artefactos.\n",
    "\n",
    "Aprovecharemos la mejor resolución espacial que nos entrega Landsat, que es de 30x30 metros, y utilizaremos el siguiente sistema de referencia de coordenadas: \"WGS84 UTM 19 Sur (EPSG: 32719)\""
   ]
  },
  {
   "cell_type": "code",
   "execution_count": null,
   "id": "f23d633c-96c4-45ca-ab34-4fa79608a313",
   "metadata": {
    "tags": []
   },
   "outputs": [],
   "source": [
    "buffer = .1\n",
    "\n",
    "query = {\n",
    "    \"product\": \"landsat8_c2l2_sr\",\n",
    "    \"measurements\" : [\"red\", \"nir08\", \"qa_pixel\"],\n",
    "    \"x\": -72.9575 + np.array([buffer, -buffer]),\n",
    "    \"y\": -39.4054 + np.array([buffer, -buffer]),\n",
    "    \"time\": (\"2014-01-01\", \"2022-12-31\"),\n",
    "    \"output_crs\": \"EPSG:32719\",\n",
    "    \"resolution\": (-30, 30),\n",
    "    \"dask_chunks\": {\"time\": 1, 'x':2048, 'y':2048},\n",
    "    \"group_by\": \"solar_day\"\n",
    "}"
   ]
  },
  {
   "cell_type": "code",
   "execution_count": null,
   "id": "a06bb9f7-5931-4473-ad70-77ed24fdb08f",
   "metadata": {
    "tags": []
   },
   "outputs": [],
   "source": [
    "display_map(x=query['x'], y=query['y'])"
   ]
  },
  {
   "cell_type": "code",
   "execution_count": null,
   "id": "d733d478-6e53-41bf-8997-6658b460c277",
   "metadata": {
    "tags": []
   },
   "outputs": [],
   "source": [
    "ds = dc.load(**query)"
   ]
  },
  {
   "cell_type": "markdown",
   "id": "49882cbc-f765-4f52-a4c1-3ef6efaec599",
   "metadata": {},
   "source": [
    "***\n",
    "\n",
    "# Limpiar los datos\n",
    "\n",
    "Eliminaremos pixeles con nodata, nieve, nubes, cirrus, y sombras producidas por nubes desde la banda de calidad."
   ]
  },
  {
   "cell_type": "code",
   "execution_count": null,
   "id": "f1a6ad8f-34b2-4bac-b5a8-3d6ecaa664cf",
   "metadata": {
    "tags": []
   },
   "outputs": [],
   "source": [
    "masking.describe_variable_flags(ds.qa_pixel)"
   ]
  },
  {
   "cell_type": "code",
   "execution_count": null,
   "id": "326712d5-bdd8-480a-aea0-676abc550bff",
   "metadata": {
    "tags": []
   },
   "outputs": [],
   "source": [
    "quality_band = 'qa_pixel'\n",
    "cloud_free_mask = (\n",
    "    masking.make_mask(ds[quality_band], snow='high_confidence') + \n",
    "    masking.make_mask(ds[quality_band], cloud=\"high_confidence\") +\n",
    "    masking.make_mask(ds[quality_band], cirrus=\"high_confidence\") +\n",
    "    masking.make_mask(ds[quality_band], cloud_shadow=\"high_confidence\") +\n",
    "    masking.make_mask(ds[quality_band], nodata=True)\n",
    ")"
   ]
  },
  {
   "cell_type": "code",
   "execution_count": null,
   "id": "16314f16-2fbf-4354-a8cb-194fd2f4a958",
   "metadata": {
    "tags": []
   },
   "outputs": [],
   "source": [
    "dsf = xr.where(cloud_free_mask, np.nan, ds)"
   ]
  },
  {
   "cell_type": "code",
   "execution_count": null,
   "id": "e726c550-717d-48d2-8631-475dec552132",
   "metadata": {
    "tags": []
   },
   "outputs": [],
   "source": [
    "fig, ax = plt.subplots(1, 1)\n",
    "dsf.red.isel(time=1).plot()\n",
    "ax.set_facecolor(\"black\")"
   ]
  },
  {
   "cell_type": "code",
   "execution_count": null,
   "id": "8ae3eef5-3f0f-4383-b270-f1a2b3b8963e",
   "metadata": {
    "tags": []
   },
   "outputs": [],
   "source": [
    "dsf.update(dsf * 0.0000275 + -0.2)"
   ]
  },
  {
   "cell_type": "code",
   "execution_count": null,
   "id": "1dee2b20-4519-466b-aa53-921441def09c",
   "metadata": {
    "tags": []
   },
   "outputs": [],
   "source": [
    "fig, ax = plt.subplots(1, 1)\n",
    "dsf.red.isel(time=1).plot(robust=True)\n",
    "ax.set_facecolor(\"black\")"
   ]
  },
  {
   "cell_type": "markdown",
   "id": "ebf65666-1ee4-43eb-9525-884c5f84f6aa",
   "metadata": {},
   "source": [
    "***\n",
    "# Calcular índices\n",
    "\n",
    "Calculamos el NDVI siguiendo la siguiente celda:"
   ]
  },
  {
   "cell_type": "code",
   "execution_count": null,
   "id": "aacd1dfd-e5ec-497e-ba51-f1f8963fd9a6",
   "metadata": {
    "tags": []
   },
   "outputs": [],
   "source": [
    "ndvi = (dsf['nir08'] - dsf['red']) / (dsf['nir08'] + dsf['red'])\n",
    "ndvi"
   ]
  },
  {
   "cell_type": "code",
   "execution_count": null,
   "id": "f7d520bd-60a5-48f0-a47a-9004a81e3ded",
   "metadata": {
    "tags": []
   },
   "outputs": [],
   "source": [
    "fig, ax = plt.subplots(1, 1)\n",
    "ndvi.isel(time=1).plot(robust=True)\n",
    "ax.set_facecolor(\"black\")"
   ]
  },
  {
   "cell_type": "markdown",
   "id": "de216eb7-fb7e-48ac-80a3-3bbe4e87a042",
   "metadata": {},
   "source": [
    "# Realizar prueba de hipótesis\n",
    "\n",
    "La idea es revisar si es que hay cambios significativos en el NDVI de la zona de estudio. Es un ejercicio simplificado, pero perfectamente aplicable. Podríamos contruir una hipótesis de la forma:\n",
    "\n",
    "$$\n",
    "\\begin{aligned}\n",
    "\\text{hipótesis nula } (H_0) &: \\text{no hubieron cambios,} \\\\\n",
    "\\text{hipótesis alternativa } (H_1) &: \\text{hubieron algunos cambios.}\n",
    "\\end{aligned}\n",
    "$$\n",
    "\n",
    "## Selección de muestras\n",
    "Solo requerimos datos para el año 2014 y 2022, por lo los filtraremos para realizar la prueba de hipótesis:"
   ]
  },
  {
   "cell_type": "code",
   "execution_count": null,
   "id": "c9b93ed6-54d2-41be-a9e5-40394a5954d1",
   "metadata": {
    "tags": []
   },
   "outputs": [],
   "source": [
    "t0_date = np.datetime64('2014-12-31')\n",
    "t1_date = np.datetime64('2022-12-31')\n",
    "t0 = ndvi.time.dt.year == t0_date.astype(object).year\n",
    "t1 = ndvi.time.dt.year == t1_date.astype(object).year\n",
    "\n",
    "t0_sample = ndvi.sel(time = t0)\n",
    "t1_sample = ndvi.sel(time = t1)"
   ]
  },
  {
   "cell_type": "code",
   "execution_count": null,
   "id": "23b6b762-64b7-41c7-a5e4-325628924f45",
   "metadata": {
    "tags": []
   },
   "outputs": [],
   "source": [
    "print(f\"Observaciones de base: {len(t0_sample.time)}\")\n",
    "print(f\"Observaciones posteriores: {len(t1_sample.time)}\")"
   ]
  },
  {
   "cell_type": "code",
   "execution_count": null,
   "id": "cbb07e4e-a141-4272-b0fc-5d86c1b3a2fa",
   "metadata": {
    "tags": []
   },
   "outputs": [],
   "source": [
    "sample_lat_coords = ndvi.coords['y']\n",
    "sample_lon_coords = ndvi.coords['x']"
   ]
  },
  {
   "cell_type": "markdown",
   "id": "b55a9cdf-8162-4793-9b15-8878b82253a3",
   "metadata": {},
   "source": [
    "## Prueba estadística para verificar el cambio\n",
    "\n",
    "Para buscar evidencia de que el NDVI promedio ha cambiado entre las dos muestras (ya sea positiva o negativamente), usamos la *prueba t* de Welch. Esto se usa para probar la hipótesis de que dos poblaciones tienen promedios iguales. En este caso, las poblaciones son el área de interés antes y después de las fechas de referencia, y el promedio que se prueba es el NDVI en ambos rangos. Se usa la *prueba t* de Welch (a diferencia de la prueba t de Student) porque las dos muestras en el estudio pueden no tener necesariamente varianzas iguales.\n",
    "\n",
    "La prueba se ejecuta utilizando la biblioteca de estadísticas del paquete Scipy, que proporciona la función `ttest_ind` para ejecutar pruebas t. Establecer `equal_var=False` significa que la función ejecutará la *prueba t* de Welch. La función devuelve el *estadístico t* y el valor p para cada píxel después de probar la diferencia en el NDVI promedio. Estos se almacenan como `t_stat` y `p_val` dentro del conjunto de datos `t_test` para su uso en la siguiente sección"
   ]
  },
  {
   "cell_type": "code",
   "execution_count": null,
   "id": "6f2eb254-dbe0-42bf-8a37-a16300d286ec",
   "metadata": {
    "tags": []
   },
   "outputs": [],
   "source": [
    "from scipy import stats\n",
    "\n",
    "tstat, p_tstat = stats.ttest_ind(\n",
    "    t1_sample.values,\n",
    "    t0_sample.values,\n",
    "    equal_var=False,\n",
    "    nan_policy='omit',\n",
    ")"
   ]
  },
  {
   "cell_type": "code",
   "execution_count": null,
   "id": "881bf9bc-b227-40b1-b0a7-93dbb897ab05",
   "metadata": {
    "tags": []
   },
   "outputs": [],
   "source": [
    "# Convert results to an xarray for further analysis\n",
    "t_test = xr.Dataset(\n",
    "    {\n",
    "        't_stat': (['y', 'x'], tstat),\n",
    "        'p_val': (['y', 'x'], p_tstat)\n",
    "    },\n",
    "    coords={\n",
    "        'x': (['x'], sample_lon_coords.values),\n",
    "        'y': (['y'], sample_lat_coords.values)\n",
    "    }, \n",
    "    attrs={\n",
    "        'crs': 'EPSG:32719',\n",
    "    })\n",
    "\n",
    "t_test"
   ]
  },
  {
   "cell_type": "markdown",
   "id": "164ca6cb-940f-458f-95a5-a71e952a97f9",
   "metadata": {},
   "source": [
    "# Visualizar resultados\n",
    "\n",
    "De la prueba, nos interesan dos condiciones: si el cambio es significativo (rechazo de la hipótesis nula) y si el cambio fue positivo (forestación) o negativo (deforestación).\n",
    "\n",
    "La hipótesis nula se puede rechazar si el *valor-p* (`p_val`) es menor que el nivel de significación elegido, que se establece como `sig_level = 0.05` (que es lo habitual) para este análisis. Si se rechaza la hipótesis nula, el píxel se clasificará como que ha sufrido un cambio significativo (si `p_val < 0.05`).\n",
    "\n",
    "La dirección del cambio se puede deducir de la diferencia en el NDVI promedio de cada muestra, que se calcula como:\n",
    "\n",
    "$$\n",
    "\\text{diferencia en la media} = \\text{promedio(t0)} - \\text{promedio(t1)}\n",
    "$$\n",
    "\n",
    "Esto significa que:\n",
    "\n",
    "* si el NDVI promedio para un píxel determinado es más **alto** en `t1` en comparación con `t0`, entonces `diff_mean` para ese píxel será **positivo**.\n",
    "* si el NDVI promedio para un píxel dado es más **bajo** en `t1` en comparación con `t0`, entonces `diff_mean` para ese píxel será **negativo**.\n",
    "\n",
    "Al ejecutar las siguientes celdas, **el cambio positivo se muestra en verde (forestación) y el cambio negativo en rojo (deforestación).**"
   ]
  },
  {
   "cell_type": "code",
   "execution_count": null,
   "id": "ce08da75-5321-4267-b1eb-351086f74d84",
   "metadata": {
    "tags": []
   },
   "outputs": [],
   "source": [
    "# Set the significance level\n",
    "sig_level = 0.05\n",
    "\n",
    "# Plot any difference in the mean\n",
    "diff_mean = t1_sample.mean(dim=['time']) - t0_sample.mean(dim=['time'])\n",
    "\n",
    "fig, ax = plt.subplots(1, 1, figsize=(7, 5))\n",
    "diff_mean.plot(cmap='RdYlGn', robust=True)\n",
    "ax.set_title('Any difference in the mean')\n",
    "plt.show()\n",
    "\n",
    "# Plot any difference in the mean classified as significant\n",
    "sig_diff_mean = t1_sample.mean(dim=['time']).where(t_test.p_val < sig_level) - t0_sample.mean(dim=['time']).where(t_test.p_val < sig_level)\n",
    "\n",
    "fig, ax = plt.subplots(1, 1, figsize=(7, 5))\n",
    "sig_diff_mean.plot(cmap='RdYlGn', robust=True)\n",
    "ax.set_title('Statistically significant difference in the mean')\n",
    "ax.set_facecolor(\"white\")\n",
    "plt.show()"
   ]
  },
  {
   "cell_type": "code",
   "execution_count": null,
   "id": "d4adfe88-4f8f-4b02-b6ab-92ca72154b35",
   "metadata": {},
   "outputs": [],
   "source": [
    "client.close()\n",
    "\n",
    "cluster.close()"
   ]
  },
  {
   "cell_type": "markdown",
   "id": "69679421-f56e-4dfe-b0c2-cfc69f7aea1c",
   "metadata": {},
   "source": [
    "***\n",
    "\n",
    "# *Siguientes pasos* &#128062;\n",
    "\n",
    "Para continuar con el tutorial pueden acceder a los notebooks del siguiente listado.\n",
    "\n",
    "1. [Acceso](00_Acceso.ipynb)\n",
    "2. [Cargar datos](01_Cargar_datos.ipynb)\n",
    "3. [Limpieza](02_Limpieza.ipynb)\n",
    "4. [Análisis básico](03_Análisis_básico.ipynb)\n",
    "5. **Caso de estudio 1**\n",
    "6. [Caso de estudio 2](05_Caso_de_estudio_2.ipynb)\n",
    "\n",
    "***"
   ]
  }
 ],
 "metadata": {
  "kernelspec": {
   "display_name": "Python 3 (ipykernel)",
   "language": "python",
   "name": "python3"
  },
  "language_info": {
   "codemirror_mode": {
    "name": "ipython",
    "version": 3
   },
   "file_extension": ".py",
   "mimetype": "text/x-python",
   "name": "python",
   "nbconvert_exporter": "python",
   "pygments_lexer": "ipython3",
   "version": "3.10.12"
  }
 },
 "nbformat": 4,
 "nbformat_minor": 5
}
