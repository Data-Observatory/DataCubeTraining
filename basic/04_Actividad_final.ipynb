{
 "cells": [
  {
   "cell_type": "markdown",
   "metadata": {},
   "source": [
    "<img align=\"center\" src=\"../extra/logos/logos.png\" width='800px'>"
   ]
  },
  {
   "cell_type": "markdown",
   "metadata": {},
   "source": [
    "# Actividad final\n",
    "\n",
    "El curso termina con la aplicación de un flujo de trabajo en una zona de interés- Para ello, contarán con el tiempo restante del tercer día y 3 días adicionales. Posteriormente, la cuenta será deshabilitada.\n",
    "\n",
    "El jupyter notebook con el resultado final deberá ser entregado vía correo electrónico a alvaro.paredes@dataobservatory.net (con el asunto: datacube training proyecto final).\n",
    "\n",
    "\n",
    "## Requisitos mínimos\n",
    "\n",
    "1. Selección de productos y visualización zona de estudio\n",
    "1. Generación de Visualizaciones:\n",
    "    1. Gráfico en 2D (líneas, scatter, barras, etc)\n",
    "    1. Visualización raster (matplotlib por ejemplo)\n",
    "1. Incluir un paso para resumir información\n",
    "1. Exportar información"
   ]
  }
 ],
 "metadata": {
  "kernelspec": {
   "display_name": "Python 3",
   "language": "python",
   "name": "python3"
  },
  "language_info": {
   "codemirror_mode": {
    "name": "ipython",
    "version": 3
   },
   "file_extension": ".py",
   "mimetype": "text/x-python",
   "name": "python",
   "nbconvert_exporter": "python",
   "pygments_lexer": "ipython3",
   "version": "3.8.5"
  }
 },
 "nbformat": 4,
 "nbformat_minor": 4
}
