{
 "cells": [
  {
   "cell_type": "markdown",
   "id": "16b06301-ad66-4112-9890-6f9ee4b20c98",
   "metadata": {},
   "source": [
    "<img align=\"center\" src=\"../extra/logos/logos.png\" width='1200px'>"
   ]
  },
  {
   "cell_type": "markdown",
   "id": "2c4a7d4c-b134-470c-a3f8-e4c2ca4b2ed7",
   "metadata": {},
   "source": [
    "# 3. Jupyter Notebook\n",
    "\n",
    "Nacido del acrónimno **Ju**lia + **Pyt**hon + **R**, esta aplicación permite interactuar nativamente con estos tres lenguajes de programación. En el cubo, de momento sólo está instalado Python (versión 3.6). La ventaja de Jupyter es que permite una interacción directa entre código, texto y resultados.\n",
    "\n",
    "## 3.1 ¿Cómo funciona?\n",
    "\n",
    "Los notebooks de Jupyter permiten que el código se separe en secciones que se pueden ejecutar de forma independiente entre sí. Estas secciones se denominan \"celdas\". \n",
    "\n",
    "El código Python se escribe en celdas individuales que se pueden ejecutar colocando el cursor en la celda y presionando Shift-Enter en el teclado o seleccionando el botón &#11208; \"Ejecutar las celdas seleccionadas y avanzar\" en la parte superior del notebook. Estas opciones se ejecutarán en una sola celda a la vez. \n",
    "\n",
    "Para ejecutar automáticamente todas las celdas en un notebook, navegue hasta la pestaña \"Ejecutar\" de la barra de menú en la parte superior de JupyterLab y seleccione \"Ejecutar todas las celdas\" (o la opción que mejor se adapte a sus necesidades). Cuando se ejecuta una celda, se ejecuta el contenido de la celda. Cualquier salida producida al ejecutar la celda aparecerá directamente debajo de ella. Sólo la última salida aparecerá como resultado, por lo que si desea ver el resultado de pasos intermedios, se debe separar en celdas o utilizar el comando `print` en las partes de interés.\n",
    "\n",
    "El símbolo `[ ]:`  la izquierda de cada celda de Código, describe el estado de la celda:\n",
    "\n",
    "* `[ ]:` significa que la celda aún no se ha ejecutado.\n",
    "* `[*]:` significa que la celda se está ejecutado.\n",
    "* `[1]:` significa que la celda ha terminado de ejecutarse. Este número va variando e indica el orden en que las celdas han sido ejecutadas\n",
    "\n",
    "> **Nota:** Para comprobar si una celda se está ejecutando actualmente, inspeccione el círculo pequeño en la parte superior a la derecha (donde dice Python 3 &#11096;).\n",
    "El círculo se volverá gris (\"Kernel ocupado\") cuando la celda se esté ejecutando y volverá a estar vacío (\"Kernel inactivo\") cuando se complete el proceso.\n",
    "\n",
    " \n",
    "## 3.2 Tipos de celdas\n",
    "\n",
    "### 3.2.1 Celdas de código\n",
    "\n",
    "Todas las operaciones de código se realizan en celdas de código.\n",
    "Las celdas de código se pueden usar para editar y escribir código nuevo y realizar cualquier tipo de tarea, como también ejecutar análisis. \n",
    "Estas celdas tienen la misma funcionalidad que la consola de que provee iPython y algunos de sus comandos [\"mágicos\"](https://ipython.readthedocs.io/en/stable/interactive/magics.html) se pueden utilizar también.\n",
    "\n",
    "### 3.2.2 Celdas de escritura (markdown)\n",
    "\n",
    "Las celdas de Markdown proporcionan el contexto al notebook y permiten que darle una orientación al usuario, ya que permiten describir de manera más extendida y detallada lo que sucede en el código.\n",
    "Para ver algunas de las opciones de formato para el texto en una celda de Markdown, navegue a la pestaña \"Ayuda\" de la barra de menú en la parte superior de JupyterLab y seleccione \"Markdown Reference\".\n",
    "Existe una amplia gama de opciones de formato de texto, incluidos títulos, puntos, cursiva, hipervínculos, creación de tablas e inclusión de imágenes/figuras. \n",
    "\n",
    "## 3.3 Ejecutar/Detener procesos\n",
    "\n",
    "Si por algún motivo se requiere detener la ejecución de una celda antes de que finalice (por ejemplo, si un proceso tarda demasiado en completarse o si el código debe modificarse antes de ejecutar la celda), se puede hacer haciendo clic en el &#9632; Botón \"detener\" (\"Interrupt the kernel\"), en la parte superior del notebook. \n",
    "\n",
    "Para probar esto, ejecute la siguiente celda de código.\n",
    "Esto ejecutará un fragmento de código que tardará 20 segundos en completarse.\n",
    "Para interrumpir este código, presione la tecla &#9632; (botón \"Stop\")."
   ]
  },
  {
   "cell_type": "code",
   "execution_count": 2,
   "id": "0c3964d8-6465-493e-9584-560d77e787a1",
   "metadata": {},
   "outputs": [
    {
     "name": "stdout",
     "output_type": "stream",
     "text": [
      "Voy a dormir un rato...\n",
      "¡Listo, como tuna!\n"
     ]
    }
   ],
   "source": [
    "import time\n",
    "print('Voy a dormir un rato...')\n",
    "time.sleep(20)\n",
    "print('¡Listo, como tuna!')"
   ]
  },
  {
   "cell_type": "markdown",
   "id": "8b1b3f7b-3c1c-4930-ae1c-5ae382dc3c56",
   "metadata": {},
   "source": [
    "Si esto no funciona (si el notebook no responde), se puede reiniciar el notebook. Para hacer esto, navegue a la pestaña \"Kernel\" de la barra de menú, luego seleccione \"Restart Kernel\" o el botón &#x21bb; (\"Restart the kernel\").\n",
    "Reiniciar el notebook también sirve para verificar que el código funciona correctamente desde que se inicia por primera vez. Para ello, pulse el botón &#11208;&#11208;."
   ]
  },
  {
   "cell_type": "markdown",
   "id": "6baf0d94-a3d5-4bd0-810b-ca29c3172afa",
   "metadata": {},
   "source": [
    "# Carga de datos\n",
    "\n",
    "1. Descripción de productos\n",
    "1. Descripción de mediciones\n",
    "1. Ventana espacial\n",
    "1. Ventana temporal\n",
    "1. Proyección y resolución de salida\n",
    "\n",
    "## Explorador\n",
    "\n",
    "Explorador permite ...... [link](https://explorer.datacubechile.cl)\n",
    "\n",
    "## DataCube"
   ]
  },
  {
   "cell_type": "markdown",
   "id": "c57674d5-6c20-4138-8446-3b3ba1ba1b12",
   "metadata": {},
   "source": [
    "# Explorando resultado: Xarray\n",
    "\n",
    "1. Dimensiones\n",
    "1. Coordenadas\n",
    "1. Variables\n",
    "1. Atributos"
   ]
  },
  {
   "cell_type": "markdown",
   "id": "8fcc9f5e-230e-4823-bbef-5a7d0a64af85",
   "metadata": {},
   "source": [
    "# Visualizaciones"
   ]
  },
  {
   "cell_type": "markdown",
   "id": "14cd287c-4009-4959-8fa3-21389240ab24",
   "metadata": {},
   "source": [
    "# Depurar información: enmascarar valores no válidos"
   ]
  },
  {
   "cell_type": "markdown",
   "id": "d68f135d-9e52-42a9-a01c-8096872224a2",
   "metadata": {},
   "source": [
    "# Índices espectrales"
   ]
  },
  {
   "cell_type": "markdown",
   "id": "77d39083-8d0e-4717-bd1d-ff575db70f01",
   "metadata": {},
   "source": [
    "# Compuestos"
   ]
  },
  {
   "cell_type": "markdown",
   "id": "19bb76a0-b46c-4400-a405-b10c2b53a15e",
   "metadata": {},
   "source": [
    "# Exportar información"
   ]
  }
 ],
 "metadata": {
  "kernelspec": {
   "display_name": "Python 3 (ipykernel)",
   "language": "python",
   "name": "python3"
  },
  "language_info": {
   "codemirror_mode": {
    "name": "ipython",
    "version": 3
   },
   "file_extension": ".py",
   "mimetype": "text/x-python",
   "name": "python",
   "nbconvert_exporter": "python",
   "pygments_lexer": "ipython3",
   "version": "3.8.10"
  }
 },
 "nbformat": 4,
 "nbformat_minor": 5
}
