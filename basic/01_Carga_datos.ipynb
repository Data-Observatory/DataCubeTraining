{
 "cells": [
  {
   "cell_type": "markdown",
   "metadata": {},
   "source": [
    "<img align=\"center\" src=\"../extra/logos/logos.png\" width='800px'>"
   ]
  },
  {
   "cell_type": "markdown",
   "metadata": {},
   "source": [
    "# Operaciones con el DataCube\n",
    "\n",
    "En ese apartado, se verán las operaciones básicas que se pueden realizar con el DataCube:\n",
    "1. Definir una área de estudio\n",
    "1. Buscar productos y mediciones\n",
    "1. Solicitar la información\n",
    "1. Visualizar la información\n",
    "\n",
    "Se puede tener una idea de los productos y la cobertura de las imágenes disponibles en el cubo en el [Explorador de imágenes](https://explorer.stage.earth.dataobservatory.net/).\n",
    "\n",
    "\n",
    ">Nota: Parte de este notebook es una adaptación realizada las guías de [DataCube Australia](https://github.com/GeoscienceAustralia/dea-notebooks)."
   ]
  },
  {
   "cell_type": "markdown",
   "metadata": {},
   "source": [
    "## 1. Products / Measurements\n",
    "\n",
    "En primera instancia, es necesario definir qué son cada uno:\n",
    "1. Products: hace referencia al sensor que obtiene la información/imagen (Landsat 5, Sentinel-2, etc).\n",
    "1. Measurements: varían de producto en producto y hacen referencia a las bandas/mediciones disponibles para cada sensor. En algunos casos, también incluye las bandas de calidad y otros sub-productos útiles.\n",
    "\n",
    "Primero, es necesario cargar los paquetes que permiten acceder al DataCube y sus funcionalidades:"
   ]
  },
  {
   "cell_type": "code",
   "execution_count": null,
   "metadata": {},
   "outputs": [],
   "source": [
    "import datacube\n",
    "import pandas as pd\n",
    "from odc.ui import DcViewer"
   ]
  },
  {
   "cell_type": "markdown",
   "metadata": {},
   "source": [
    "Es necesario generar una app del cubo con un nombre. Esto no afecta en nada el desemepño y es solamente por motivos de trazabilidad en caso de algún problema. El nombre puede ser de cualquier tipo, pero se recomienda que sea algo relacionado con la aplicación que se le dará."
   ]
  },
  {
   "cell_type": "code",
   "execution_count": null,
   "metadata": {},
   "outputs": [],
   "source": [
    "dc = datacube.Datacube(app='01_operaciones')"
   ]
  },
  {
   "cell_type": "markdown",
   "metadata": {},
   "source": [
    "Una vez se tiene la app funcionando (en este caso `dc`), se pueden listar los productos disponibles."
   ]
  },
  {
   "cell_type": "code",
   "execution_count": null,
   "metadata": {},
   "outputs": [],
   "source": [
    "dc.list_products()"
   ]
  },
  {
   "cell_type": "markdown",
   "metadata": {},
   "source": [
    "Cada producto, contiene mediciones (`measurements`) las cuáles es posible acceder"
   ]
  },
  {
   "cell_type": "markdown",
   "metadata": {},
   "source": [
    "## 2. Cargar información\n",
    "\n",
    "## 3. Gráficos\n",
    "\n",
    "## 4. Exportar información\n",
    "\n",
    "# Mini - Tarea\n",
    "\n",
    "Repita este notebook, pero utilice una zona/sensor diferente al de los ejemplos (no utilice una zona muy extensa o una ventana temporal demasiado amplia)."
   ]
  }
 ],
 "metadata": {
  "kernelspec": {
   "display_name": "Python 3",
   "language": "python",
   "name": "python3"
  },
  "language_info": {
   "codemirror_mode": {
    "name": "ipython",
    "version": 3
   },
   "file_extension": ".py",
   "mimetype": "text/x-python",
   "name": "python",
   "nbconvert_exporter": "python",
   "pygments_lexer": "ipython3",
   "version": "3.8.5"
  }
 },
 "nbformat": 4,
 "nbformat_minor": 4
}
