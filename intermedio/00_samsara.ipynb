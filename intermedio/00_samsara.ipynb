{
 "cells": [
  {
   "cell_type": "markdown",
   "id": "e374f568-d4a2-49c2-9c11-881c1d04f1f5",
   "metadata": {
    "tags": []
   },
   "source": [
    "<img align=\"center\" src=\"../extra/logos/logos.png\" width='1200px'>"
   ]
  },
  {
   "cell_type": "markdown",
   "id": "856c5a1d-4c68-43e9-9961-0cc6e474ffd2",
   "metadata": {
    "tags": []
   },
   "source": [
    "# Uso intermedio de Data Cube para proyecciones de fiscalización en otros contextos\n",
    "***\n",
    "## Tutorial de uso paquete samsara en Data Cube Chile\n",
    "\n",
    "Bienvenidos a este tutorial para el uso de la [librería samsara](https://github.com/Data-Observatory/lib-samsara/tree/main) en Data Cube Chile.\n",
    "\n",
    "En esta sesión revisaremos cómo el proyecto SAMSARA logra la detección de cambios negativos en matorrales y bosques en un sector de la región Metropolitana.\n",
    "\n",
    "Primero, debemos cerciorarnos de que tenemos replicado (clonando) el repositorio de entrenamiento básico: https://github.com/Data-Observatory/DataCubeTraining. Es primordial que este repositorio esté ya en la sesión de cada uno. Si no está, se puede descargar ejecutando lo siguiente en la consola `git clone https://github.com/Data-Observatory/DataCubeTraining.git`\n",
    "\n",
    "Segundo, descargamos la librería a nuestro local. Procurar hacer esto estando dentro de la carpeta `DataCubeTraining\n",
    "/intermedio` con el siguiente código (¡esto solo debe ejecutarse una vez!):"
   ]
  },
  {
   "cell_type": "code",
   "execution_count": 1,
   "id": "09d5182a-826e-4ea6-aa54-16025f3c1082",
   "metadata": {
    "tags": []
   },
   "outputs": [
    {
     "name": "stdout",
     "output_type": "stream",
     "text": [
      "fatal: destination path 'lib-samsara' already exists and is not an empty directory.\n"
     ]
    }
   ],
   "source": [
    "!git clone https://github.com/Data-Observatory/lib-samsara.git"
   ]
  },
  {
   "cell_type": "markdown",
   "id": "e10ac80b-c569-44db-ad59-b1f73f0877e2",
   "metadata": {
    "tags": []
   },
   "source": [
    "Y luego, para utilizar las funciones de la librería, ejecutaremos la siguiente celda."
   ]
  },
  {
   "cell_type": "code",
   "execution_count": 2,
   "id": "987bb1f6-0b4a-4544-882f-dd9c3e18705f",
   "metadata": {
    "tags": []
   },
   "outputs": [],
   "source": [
    "import sys\n",
    "sys.path.append('lib-samsara/src')"
   ]
  },
  {
   "cell_type": "markdown",
   "id": "ea1b053d-6fa9-4329-9744-65c8efe866c8",
   "metadata": {},
   "source": [
    "***\n",
    "## Librerías requeridas\n",
    "En primer lugar utilizaremos las siguientes librerías"
   ]
  },
  {
   "cell_type": "code",
   "execution_count": 3,
   "id": "c60148cf-6a2f-4fdd-b30e-72871261e58f",
   "metadata": {
    "tags": []
   },
   "outputs": [],
   "source": [
    "import xarray as xr\n",
    "import rioxarray\n",
    "import rasterio as rio\n",
    "from rasterio.enums import Resampling\n",
    "from dea_tools.classification import predict_xr\n",
    "import datacube\n",
    "from datacube.utils import masking\n",
    "import dask.array as da\n",
    "import numpy as np\n",
    "import math\n",
    "import os\n",
    "os.environ['USE_PYGEOS'] = '0'\n",
    "import geopandas as gpd\n",
    "from scipy.ndimage import convolve\n",
    "import joblib\n",
    "import matplotlib.pyplot as plt\n",
    "from pathlib import Path\n",
    "\n",
    "from dea_tools.plotting import display_map\n",
    "from datacube.utils.rio import configure_s3_access\n",
    "from dask.distributed import Client, LocalCluster\n",
    "from dask_gateway import Gateway"
   ]
  },
  {
   "cell_type": "markdown",
   "id": "02b2ece3-3455-4a71-a660-6d8625b46860",
   "metadata": {},
   "source": [
    "***\n",
    "## Configuración inicial\n",
    "Luego, configuraremos el acceso a imágenes de Data Cube Chile en Amazon Web Services."
   ]
  },
  {
   "cell_type": "code",
   "execution_count": 4,
   "id": "9f1d3e39-80ad-440d-84df-b7778b5f4421",
   "metadata": {
    "tags": []
   },
   "outputs": [
    {
     "data": {
      "text/html": [
       "<div>\n",
       "    <div style=\"width: 24px; height: 24px; background-color: #e1e1e1; border: 3px solid #9D9D9D; border-radius: 5px; position: absolute;\"> </div>\n",
       "    <div style=\"margin-left: 48px;\">\n",
       "        <h3 style=\"margin-bottom: 0px;\">Client</h3>\n",
       "        <p style=\"color: #9D9D9D; margin-bottom: 0px;\">Client-68e0ad27-ae53-11ee-8618-ba3ef9f291fb</p>\n",
       "        <table style=\"width: 100%; text-align: left;\">\n",
       "\n",
       "        <tr>\n",
       "        \n",
       "            <td style=\"text-align: left;\"><strong>Connection method:</strong> Cluster object</td>\n",
       "            <td style=\"text-align: left;\"><strong>Cluster type:</strong> distributed.LocalCluster</td>\n",
       "        \n",
       "        </tr>\n",
       "\n",
       "        \n",
       "            <tr>\n",
       "                <td style=\"text-align: left;\">\n",
       "                    <strong>Dashboard: </strong> <a href=\"http://127.0.0.1:8787/status\" target=\"_blank\">http://127.0.0.1:8787/status</a>\n",
       "                </td>\n",
       "                <td style=\"text-align: left;\"></td>\n",
       "            </tr>\n",
       "        \n",
       "\n",
       "        </table>\n",
       "\n",
       "        \n",
       "            <button style=\"margin-bottom: 12px;\" data-commandlinker-command=\"dask:populate-and-launch-layout\" data-commandlinker-args='{\"url\": \"http://127.0.0.1:8787/status\" }'>\n",
       "                Launch dashboard in JupyterLab\n",
       "            </button>\n",
       "        \n",
       "\n",
       "        \n",
       "            <details>\n",
       "            <summary style=\"margin-bottom: 20px;\"><h3 style=\"display: inline;\">Cluster Info</h3></summary>\n",
       "            <div class=\"jp-RenderedHTMLCommon jp-RenderedHTML jp-mod-trusted jp-OutputArea-output\">\n",
       "    <div style=\"width: 24px; height: 24px; background-color: #e1e1e1; border: 3px solid #9D9D9D; border-radius: 5px; position: absolute;\">\n",
       "    </div>\n",
       "    <div style=\"margin-left: 48px;\">\n",
       "        <h3 style=\"margin-bottom: 0px; margin-top: 0px;\">LocalCluster</h3>\n",
       "        <p style=\"color: #9D9D9D; margin-bottom: 0px;\">5380f5c6</p>\n",
       "        <table style=\"width: 100%; text-align: left;\">\n",
       "            <tr>\n",
       "                <td style=\"text-align: left;\">\n",
       "                    <strong>Dashboard:</strong> <a href=\"http://127.0.0.1:8787/status\" target=\"_blank\">http://127.0.0.1:8787/status</a>\n",
       "                </td>\n",
       "                <td style=\"text-align: left;\">\n",
       "                    <strong>Workers:</strong> 4\n",
       "                </td>\n",
       "            </tr>\n",
       "            <tr>\n",
       "                <td style=\"text-align: left;\">\n",
       "                    <strong>Total threads:</strong> 8\n",
       "                </td>\n",
       "                <td style=\"text-align: left;\">\n",
       "                    <strong>Total memory:</strong> 29.00 GiB\n",
       "                </td>\n",
       "            </tr>\n",
       "            \n",
       "            <tr>\n",
       "    <td style=\"text-align: left;\"><strong>Status:</strong> running</td>\n",
       "    <td style=\"text-align: left;\"><strong>Using processes:</strong> True</td>\n",
       "</tr>\n",
       "\n",
       "            \n",
       "        </table>\n",
       "\n",
       "        <details>\n",
       "            <summary style=\"margin-bottom: 20px;\">\n",
       "                <h3 style=\"display: inline;\">Scheduler Info</h3>\n",
       "            </summary>\n",
       "\n",
       "            <div style=\"\">\n",
       "    <div>\n",
       "        <div style=\"width: 24px; height: 24px; background-color: #FFF7E5; border: 3px solid #FF6132; border-radius: 5px; position: absolute;\"> </div>\n",
       "        <div style=\"margin-left: 48px;\">\n",
       "            <h3 style=\"margin-bottom: 0px;\">Scheduler</h3>\n",
       "            <p style=\"color: #9D9D9D; margin-bottom: 0px;\">Scheduler-c325a49d-b9a9-4a18-9e0d-597041a30c5e</p>\n",
       "            <table style=\"width: 100%; text-align: left;\">\n",
       "                <tr>\n",
       "                    <td style=\"text-align: left;\">\n",
       "                        <strong>Comm:</strong> tcp://127.0.0.1:34449\n",
       "                    </td>\n",
       "                    <td style=\"text-align: left;\">\n",
       "                        <strong>Workers:</strong> 4\n",
       "                    </td>\n",
       "                </tr>\n",
       "                <tr>\n",
       "                    <td style=\"text-align: left;\">\n",
       "                        <strong>Dashboard:</strong> <a href=\"http://127.0.0.1:8787/status\" target=\"_blank\">http://127.0.0.1:8787/status</a>\n",
       "                    </td>\n",
       "                    <td style=\"text-align: left;\">\n",
       "                        <strong>Total threads:</strong> 8\n",
       "                    </td>\n",
       "                </tr>\n",
       "                <tr>\n",
       "                    <td style=\"text-align: left;\">\n",
       "                        <strong>Started:</strong> Just now\n",
       "                    </td>\n",
       "                    <td style=\"text-align: left;\">\n",
       "                        <strong>Total memory:</strong> 29.00 GiB\n",
       "                    </td>\n",
       "                </tr>\n",
       "            </table>\n",
       "        </div>\n",
       "    </div>\n",
       "\n",
       "    <details style=\"margin-left: 48px;\">\n",
       "        <summary style=\"margin-bottom: 20px;\">\n",
       "            <h3 style=\"display: inline;\">Workers</h3>\n",
       "        </summary>\n",
       "\n",
       "        \n",
       "        <div style=\"margin-bottom: 20px;\">\n",
       "            <div style=\"width: 24px; height: 24px; background-color: #DBF5FF; border: 3px solid #4CC9FF; border-radius: 5px; position: absolute;\"> </div>\n",
       "            <div style=\"margin-left: 48px;\">\n",
       "            <details>\n",
       "                <summary>\n",
       "                    <h4 style=\"margin-bottom: 0px; display: inline;\">Worker: 0</h4>\n",
       "                </summary>\n",
       "                <table style=\"width: 100%; text-align: left;\">\n",
       "                    <tr>\n",
       "                        <td style=\"text-align: left;\">\n",
       "                            <strong>Comm: </strong> tcp://127.0.0.1:42553\n",
       "                        </td>\n",
       "                        <td style=\"text-align: left;\">\n",
       "                            <strong>Total threads: </strong> 2\n",
       "                        </td>\n",
       "                    </tr>\n",
       "                    <tr>\n",
       "                        <td style=\"text-align: left;\">\n",
       "                            <strong>Dashboard: </strong> <a href=\"http://127.0.0.1:37421/status\" target=\"_blank\">http://127.0.0.1:37421/status</a>\n",
       "                        </td>\n",
       "                        <td style=\"text-align: left;\">\n",
       "                            <strong>Memory: </strong> 7.25 GiB\n",
       "                        </td>\n",
       "                    </tr>\n",
       "                    <tr>\n",
       "                        <td style=\"text-align: left;\">\n",
       "                            <strong>Nanny: </strong> tcp://127.0.0.1:38579\n",
       "                        </td>\n",
       "                        <td style=\"text-align: left;\"></td>\n",
       "                    </tr>\n",
       "                    <tr>\n",
       "                        <td colspan=\"2\" style=\"text-align: left;\">\n",
       "                            <strong>Local directory: </strong> /tmp/dask-scratch-space/worker-i3i277wy\n",
       "                        </td>\n",
       "                    </tr>\n",
       "\n",
       "                    \n",
       "\n",
       "                    \n",
       "\n",
       "                </table>\n",
       "            </details>\n",
       "            </div>\n",
       "        </div>\n",
       "        \n",
       "        <div style=\"margin-bottom: 20px;\">\n",
       "            <div style=\"width: 24px; height: 24px; background-color: #DBF5FF; border: 3px solid #4CC9FF; border-radius: 5px; position: absolute;\"> </div>\n",
       "            <div style=\"margin-left: 48px;\">\n",
       "            <details>\n",
       "                <summary>\n",
       "                    <h4 style=\"margin-bottom: 0px; display: inline;\">Worker: 1</h4>\n",
       "                </summary>\n",
       "                <table style=\"width: 100%; text-align: left;\">\n",
       "                    <tr>\n",
       "                        <td style=\"text-align: left;\">\n",
       "                            <strong>Comm: </strong> tcp://127.0.0.1:44295\n",
       "                        </td>\n",
       "                        <td style=\"text-align: left;\">\n",
       "                            <strong>Total threads: </strong> 2\n",
       "                        </td>\n",
       "                    </tr>\n",
       "                    <tr>\n",
       "                        <td style=\"text-align: left;\">\n",
       "                            <strong>Dashboard: </strong> <a href=\"http://127.0.0.1:45857/status\" target=\"_blank\">http://127.0.0.1:45857/status</a>\n",
       "                        </td>\n",
       "                        <td style=\"text-align: left;\">\n",
       "                            <strong>Memory: </strong> 7.25 GiB\n",
       "                        </td>\n",
       "                    </tr>\n",
       "                    <tr>\n",
       "                        <td style=\"text-align: left;\">\n",
       "                            <strong>Nanny: </strong> tcp://127.0.0.1:45589\n",
       "                        </td>\n",
       "                        <td style=\"text-align: left;\"></td>\n",
       "                    </tr>\n",
       "                    <tr>\n",
       "                        <td colspan=\"2\" style=\"text-align: left;\">\n",
       "                            <strong>Local directory: </strong> /tmp/dask-scratch-space/worker-9xoatbf3\n",
       "                        </td>\n",
       "                    </tr>\n",
       "\n",
       "                    \n",
       "\n",
       "                    \n",
       "\n",
       "                </table>\n",
       "            </details>\n",
       "            </div>\n",
       "        </div>\n",
       "        \n",
       "        <div style=\"margin-bottom: 20px;\">\n",
       "            <div style=\"width: 24px; height: 24px; background-color: #DBF5FF; border: 3px solid #4CC9FF; border-radius: 5px; position: absolute;\"> </div>\n",
       "            <div style=\"margin-left: 48px;\">\n",
       "            <details>\n",
       "                <summary>\n",
       "                    <h4 style=\"margin-bottom: 0px; display: inline;\">Worker: 2</h4>\n",
       "                </summary>\n",
       "                <table style=\"width: 100%; text-align: left;\">\n",
       "                    <tr>\n",
       "                        <td style=\"text-align: left;\">\n",
       "                            <strong>Comm: </strong> tcp://127.0.0.1:36621\n",
       "                        </td>\n",
       "                        <td style=\"text-align: left;\">\n",
       "                            <strong>Total threads: </strong> 2\n",
       "                        </td>\n",
       "                    </tr>\n",
       "                    <tr>\n",
       "                        <td style=\"text-align: left;\">\n",
       "                            <strong>Dashboard: </strong> <a href=\"http://127.0.0.1:42541/status\" target=\"_blank\">http://127.0.0.1:42541/status</a>\n",
       "                        </td>\n",
       "                        <td style=\"text-align: left;\">\n",
       "                            <strong>Memory: </strong> 7.25 GiB\n",
       "                        </td>\n",
       "                    </tr>\n",
       "                    <tr>\n",
       "                        <td style=\"text-align: left;\">\n",
       "                            <strong>Nanny: </strong> tcp://127.0.0.1:39843\n",
       "                        </td>\n",
       "                        <td style=\"text-align: left;\"></td>\n",
       "                    </tr>\n",
       "                    <tr>\n",
       "                        <td colspan=\"2\" style=\"text-align: left;\">\n",
       "                            <strong>Local directory: </strong> /tmp/dask-scratch-space/worker-x0659d07\n",
       "                        </td>\n",
       "                    </tr>\n",
       "\n",
       "                    \n",
       "\n",
       "                    \n",
       "\n",
       "                </table>\n",
       "            </details>\n",
       "            </div>\n",
       "        </div>\n",
       "        \n",
       "        <div style=\"margin-bottom: 20px;\">\n",
       "            <div style=\"width: 24px; height: 24px; background-color: #DBF5FF; border: 3px solid #4CC9FF; border-radius: 5px; position: absolute;\"> </div>\n",
       "            <div style=\"margin-left: 48px;\">\n",
       "            <details>\n",
       "                <summary>\n",
       "                    <h4 style=\"margin-bottom: 0px; display: inline;\">Worker: 3</h4>\n",
       "                </summary>\n",
       "                <table style=\"width: 100%; text-align: left;\">\n",
       "                    <tr>\n",
       "                        <td style=\"text-align: left;\">\n",
       "                            <strong>Comm: </strong> tcp://127.0.0.1:37501\n",
       "                        </td>\n",
       "                        <td style=\"text-align: left;\">\n",
       "                            <strong>Total threads: </strong> 2\n",
       "                        </td>\n",
       "                    </tr>\n",
       "                    <tr>\n",
       "                        <td style=\"text-align: left;\">\n",
       "                            <strong>Dashboard: </strong> <a href=\"http://127.0.0.1:44539/status\" target=\"_blank\">http://127.0.0.1:44539/status</a>\n",
       "                        </td>\n",
       "                        <td style=\"text-align: left;\">\n",
       "                            <strong>Memory: </strong> 7.25 GiB\n",
       "                        </td>\n",
       "                    </tr>\n",
       "                    <tr>\n",
       "                        <td style=\"text-align: left;\">\n",
       "                            <strong>Nanny: </strong> tcp://127.0.0.1:34533\n",
       "                        </td>\n",
       "                        <td style=\"text-align: left;\"></td>\n",
       "                    </tr>\n",
       "                    <tr>\n",
       "                        <td colspan=\"2\" style=\"text-align: left;\">\n",
       "                            <strong>Local directory: </strong> /tmp/dask-scratch-space/worker-0s3bdex8\n",
       "                        </td>\n",
       "                    </tr>\n",
       "\n",
       "                    \n",
       "\n",
       "                    \n",
       "\n",
       "                </table>\n",
       "            </details>\n",
       "            </div>\n",
       "        </div>\n",
       "        \n",
       "\n",
       "    </details>\n",
       "</div>\n",
       "\n",
       "        </details>\n",
       "    </div>\n",
       "</div>\n",
       "            </details>\n",
       "        \n",
       "\n",
       "    </div>\n",
       "</div>"
      ],
      "text/plain": [
       "<Client: 'tcp://127.0.0.1:34449' processes=4 threads=8, memory=29.00 GiB>"
      ]
     },
     "execution_count": 4,
     "metadata": {},
     "output_type": "execute_result"
    }
   ],
   "source": [
    "cluster = LocalCluster()\n",
    "client = Client(cluster)\n",
    "configure_s3_access(aws_unsigned=False, requester_pays=True, client = client)\n",
    "\n",
    "client"
   ]
  },
  {
   "cell_type": "markdown",
   "id": "718ea741-92eb-46dc-b669-208b9bcf3aab",
   "metadata": {},
   "source": [
    "> **Nota:** ¿Quieres ver un dashboard donde se muestre el progreso realizado?: ingresa al siguiente enlace `https://hub.datacubechile.cl/user/USUARIO/proxy/8787/status` reemplazando `USUARIO` por tu nombre de usuario.\n",
    "Posiblemente debas reemplazar el puerto `8787` por algúno que entregue el cliente donde dice `dashboard`, después del `:` y antes del `/status`"
   ]
  },
  {
   "cell_type": "markdown",
   "id": "361667a8-e1ff-400e-a7a2-937fc0b26ca0",
   "metadata": {
    "tags": []
   },
   "source": [
    "***\n",
    "## Área de interés\n",
    "Ahora, definiremos la extensión del área de estudio.\n",
    "\n",
    "En el transcurso del notebook veremos que hay distintos radios asociado a los vecindarios o kernels. \n",
    "Estos están definidos en la siguiente celda con el objetivo de aplicar un buffer al área de interés.\n",
    "De esta manera, utilizaremos Data Cube Chile para obtener las imágenes una zona, que contiene la totalidad de pixeles requeridos en los procesos de filtro o convolución."
   ]
  },
  {
   "cell_type": "code",
   "execution_count": 5,
   "id": "d690d55c-630b-4f99-8584-23be52283429",
   "metadata": {
    "tags": []
   },
   "outputs": [
    {
     "name": "stdout",
     "output_type": "stream",
     "text": [
      "55\n"
     ]
    }
   ],
   "source": [
    "neighbor_radius = 50\n",
    "smooth_radius = 15\n",
    "glcm_radius = 7\n",
    "max_radius = np.max(np.array([neighbor_radius, smooth_radius, glcm_radius])) + 5\n",
    "print(max_radius)"
   ]
  },
  {
   "cell_type": "code",
   "execution_count": 6,
   "id": "15a2ab6e-dbd8-4295-9824-186f17342e20",
   "metadata": {
    "tags": []
   },
   "outputs": [],
   "source": [
    "poly = gpd.read_file(\"denuncias.gpkg\").to_crs(epsg = \"32719\")\n",
    "poly = poly[poly.id == 431] # Solo Poligono de Peñalolen\n",
    "buf_poly = poly.buffer(distance = 30*max_radius) # 5 pixeles de 30x30 resolucion."
   ]
  },
  {
   "cell_type": "code",
   "execution_count": 7,
   "id": "f6d98f87-098f-46e7-9649-becc0e700503",
   "metadata": {
    "tags": []
   },
   "outputs": [
    {
     "name": "stdout",
     "output_type": "stream",
     "text": [
      "356744.0 6291078.8 360563.9 6295050.4\n"
     ]
    }
   ],
   "source": [
    "xmin, ymin, xmax, ymax = buf_poly.total_bounds.round(1)\n",
    "print(xmin, ymin, xmax, ymax)"
   ]
  },
  {
   "cell_type": "code",
   "execution_count": 8,
   "id": "8cb88c9a-3ab6-4b1a-a219-71c334e29968",
   "metadata": {
    "tags": []
   },
   "outputs": [
    {
     "data": {
      "text/html": [
       "<div style=\"width:100%;\"><div style=\"position:relative;width:100%;height:0;padding-bottom:60%;\"><span style=\"color:#565656\">Make this Notebook Trusted to load map: File -> Trust Notebook</span><iframe srcdoc=\"&lt;!DOCTYPE html&gt;\n",
       "&lt;html&gt;\n",
       "&lt;head&gt;\n",
       "    \n",
       "    &lt;meta http-equiv=&quot;content-type&quot; content=&quot;text/html; charset=UTF-8&quot; /&gt;\n",
       "    \n",
       "        &lt;script&gt;\n",
       "            L_NO_TOUCH = false;\n",
       "            L_DISABLE_3D = false;\n",
       "        &lt;/script&gt;\n",
       "    \n",
       "    &lt;style&gt;html, body {width: 100%;height: 100%;margin: 0;padding: 0;}&lt;/style&gt;\n",
       "    &lt;style&gt;#map {position:absolute;top:0;bottom:0;right:0;left:0;}&lt;/style&gt;\n",
       "    &lt;script src=&quot;https://cdn.jsdelivr.net/npm/leaflet@1.9.3/dist/leaflet.js&quot;&gt;&lt;/script&gt;\n",
       "    &lt;script src=&quot;https://code.jquery.com/jquery-1.12.4.min.js&quot;&gt;&lt;/script&gt;\n",
       "    &lt;script src=&quot;https://cdn.jsdelivr.net/npm/bootstrap@5.2.2/dist/js/bootstrap.bundle.min.js&quot;&gt;&lt;/script&gt;\n",
       "    &lt;script src=&quot;https://cdnjs.cloudflare.com/ajax/libs/Leaflet.awesome-markers/2.0.2/leaflet.awesome-markers.js&quot;&gt;&lt;/script&gt;\n",
       "    &lt;link rel=&quot;stylesheet&quot; href=&quot;https://cdn.jsdelivr.net/npm/leaflet@1.9.3/dist/leaflet.css&quot;/&gt;\n",
       "    &lt;link rel=&quot;stylesheet&quot; href=&quot;https://cdn.jsdelivr.net/npm/bootstrap@5.2.2/dist/css/bootstrap.min.css&quot;/&gt;\n",
       "    &lt;link rel=&quot;stylesheet&quot; href=&quot;https://netdna.bootstrapcdn.com/bootstrap/3.0.0/css/bootstrap.min.css&quot;/&gt;\n",
       "    &lt;link rel=&quot;stylesheet&quot; href=&quot;https://cdn.jsdelivr.net/npm/@fortawesome/fontawesome-free@6.2.0/css/all.min.css&quot;/&gt;\n",
       "    &lt;link rel=&quot;stylesheet&quot; href=&quot;https://cdnjs.cloudflare.com/ajax/libs/Leaflet.awesome-markers/2.0.2/leaflet.awesome-markers.css&quot;/&gt;\n",
       "    &lt;link rel=&quot;stylesheet&quot; href=&quot;https://cdn.jsdelivr.net/gh/python-visualization/folium/folium/templates/leaflet.awesome.rotate.min.css&quot;/&gt;\n",
       "    \n",
       "            &lt;meta name=&quot;viewport&quot; content=&quot;width=device-width,\n",
       "                initial-scale=1.0, maximum-scale=1.0, user-scalable=no&quot; /&gt;\n",
       "            &lt;style&gt;\n",
       "                #map_36ce8224454dc702a6622f90c3352577 {\n",
       "                    position: relative;\n",
       "                    width: 100.0%;\n",
       "                    height: 100.0%;\n",
       "                    left: 0.0%;\n",
       "                    top: 0.0%;\n",
       "                }\n",
       "                .leaflet-container { font-size: 1rem; }\n",
       "            &lt;/style&gt;\n",
       "        \n",
       "&lt;/head&gt;\n",
       "&lt;body&gt;\n",
       "    \n",
       "    \n",
       "            &lt;div class=&quot;folium-map&quot; id=&quot;map_36ce8224454dc702a6622f90c3352577&quot; &gt;&lt;/div&gt;\n",
       "        \n",
       "&lt;/body&gt;\n",
       "&lt;script&gt;\n",
       "    \n",
       "    \n",
       "            var map_36ce8224454dc702a6622f90c3352577 = L.map(\n",
       "                &quot;map_36ce8224454dc702a6622f90c3352577&quot;,\n",
       "                {\n",
       "                    center: [-33.49260191174738, -70.52154802563291],\n",
       "                    crs: L.CRS.EPSG3857,\n",
       "                    zoom: 14,\n",
       "                    zoomControl: true,\n",
       "                    preferCanvas: false,\n",
       "                }\n",
       "            );\n",
       "\n",
       "            \n",
       "\n",
       "        \n",
       "    \n",
       "            var tile_layer_e448bfc83714c398d9665c2528ef9cee = L.tileLayer(\n",
       "                &quot;http://mt1.google.com/vt/lyrs=y\\u0026z={z}\\u0026x={x}\\u0026y={y}&quot;,\n",
       "                {&quot;attribution&quot;: &quot;Google&quot;, &quot;detectRetina&quot;: false, &quot;maxNativeZoom&quot;: 18, &quot;maxZoom&quot;: 18, &quot;minZoom&quot;: 0, &quot;noWrap&quot;: false, &quot;opacity&quot;: 1, &quot;subdomains&quot;: &quot;abc&quot;, &quot;tms&quot;: false}\n",
       "            ).addTo(map_36ce8224454dc702a6622f90c3352577);\n",
       "        \n",
       "    \n",
       "            var poly_line_ea7b129385604a879c4682434c46e303 = L.polyline(\n",
       "                [[-33.51052909812226, -70.54208995878555], [-33.51052909812226, -70.50100609248028], [-33.4746747253725, -70.50100609248028], [-33.4746747253725, -70.54208995878555], [-33.51052909812226, -70.54208995878555]],\n",
       "                {&quot;bubblingMouseEvents&quot;: true, &quot;color&quot;: &quot;red&quot;, &quot;dashArray&quot;: null, &quot;dashOffset&quot;: null, &quot;fill&quot;: false, &quot;fillColor&quot;: &quot;red&quot;, &quot;fillOpacity&quot;: 0.2, &quot;fillRule&quot;: &quot;evenodd&quot;, &quot;lineCap&quot;: &quot;round&quot;, &quot;lineJoin&quot;: &quot;round&quot;, &quot;noClip&quot;: false, &quot;opacity&quot;: 0.8, &quot;smoothFactor&quot;: 1.0, &quot;stroke&quot;: true, &quot;weight&quot;: 3}\n",
       "            ).addTo(map_36ce8224454dc702a6622f90c3352577);\n",
       "        \n",
       "    \n",
       "                var lat_lng_popup_85421f0b9d06024345542f471b475823 = L.popup();\n",
       "                function latLngPop(e) {\n",
       "                    lat_lng_popup_85421f0b9d06024345542f471b475823\n",
       "                        .setLatLng(e.latlng)\n",
       "                        .setContent(&quot;Latitude: &quot; + e.latlng.lat.toFixed(4) +\n",
       "                                    &quot;&lt;br&gt;Longitude: &quot; + e.latlng.lng.toFixed(4))\n",
       "                        .openOn(map_36ce8224454dc702a6622f90c3352577);\n",
       "                    }\n",
       "                map_36ce8224454dc702a6622f90c3352577.on(&#x27;click&#x27;, latLngPop);\n",
       "            \n",
       "&lt;/script&gt;\n",
       "&lt;/html&gt;\" style=\"position:absolute;width:100%;height:100%;left:0;top:0;border:none !important;\" allowfullscreen webkitallowfullscreen mozallowfullscreen></iframe></div></div>"
      ],
      "text/plain": [
       "<folium.folium.Map at 0x7f9e48368fd0>"
      ]
     },
     "execution_count": 8,
     "metadata": {},
     "output_type": "execute_result"
    }
   ],
   "source": [
    "x0, y0, x1, y1 = buf_poly.to_crs(epsg = \"4326\").total_bounds\n",
    "display_map((x0, x1), (y0, y1))"
   ]
  },
  {
   "cell_type": "markdown",
   "id": "74f56093-2823-41e0-bab8-ee6946ba9052",
   "metadata": {},
   "source": [
    "***\n",
    "## Serie de tiempo de NDVI\n",
    "Utilizando la extensión del polígono obtenemos la serie de tiempo de las bandas `red`, `nir08` y `qa_pixel`, en los productos Landsat 5, 7, 8 y 9."
   ]
  },
  {
   "cell_type": "code",
   "execution_count": 9,
   "id": "180273b8-1c14-472a-aac9-5d08c5a99335",
   "metadata": {
    "tags": []
   },
   "outputs": [],
   "source": [
    "dc = datacube.Datacube(app=\"areas\")\n",
    "query = {\"product\": ['landsat5_c2l2_sr', 'landsat7_c2l2_sr', \"landsat8_c2l2_sr\", 'landsat9_c2l2_sr'],\n",
    "         \"measurements\": ['red', 'nir08', 'qa_pixel'],\n",
    "         \"x\": (xmin, xmax),\n",
    "         \"y\": (ymin, ymax),\n",
    "         \"time\": (\"2010-01-01\", \"2024-01-07\"),\n",
    "         \"output_crs\": 'EPSG:32719',\n",
    "         \"crs\": 'EPSG:32719',\n",
    "         \"resolution\": (-30,30),\n",
    "         \"group_by\": 'solar_day',\n",
    "         \"dask_chunks\": {\"x\": 2048, \"y\": 2048},\n",
    "         \"skip_broken_datasets\": True}\n",
    "ds = dc.load(**query)\n",
    "\n",
    "# Hacerlo antes de computar evita un costoso rechunk después\n",
    "ds = ds.chunk({'x':50, 'y':50, 'time':len(ds.time.values)})"
   ]
  },
  {
   "cell_type": "markdown",
   "id": "56ee890a-4b85-49dd-882e-6f521ae144af",
   "metadata": {
    "tags": []
   },
   "source": [
    "<br />\n",
    "\n",
    "Definimos la siguiente siguiente función `mask_and_compute` para filtrar nubes, escalar valores a reflectancia, y obtención de NDVI."
   ]
  },
  {
   "cell_type": "code",
   "execution_count": 10,
   "id": "f89a4320-ad73-4618-bf38-507036b435ea",
   "metadata": {
    "tags": []
   },
   "outputs": [],
   "source": [
    "def mask_and_compute(ds):\n",
    "    reflectance_bands = [\"red\", \"nir08\"]\n",
    "    quality_band = 'qa_pixel'\n",
    "    good_pixel_flags = {\n",
    "        \"snow\": \"not_high_confidence\",\n",
    "        \"cloud\": \"not_high_confidence\",\n",
    "        #\"cirrus\": \"not_high_confidence\",\n",
    "        \"cloud_shadow\": \"not_high_confidence\",\n",
    "        \"nodata\": False\n",
    "    }\n",
    "\n",
    "    cloud_free_mask = masking.make_mask(ds[quality_band], **good_pixel_flags)\n",
    "    masked = ds[reflectance_bands].where(cloud_free_mask)\n",
    "    masked.update(masked*0.0000275 + -0.2)\n",
    "    ndvi = (masked.nir08 - masked.red) / (masked.nir08  + masked.red )\n",
    "    ndvi = ndvi.where((ndvi > -1) & (ndvi < 1))\n",
    "    ndvi.attrs = ds.attrs\n",
    "\n",
    "    return ndvi"
   ]
  },
  {
   "cell_type": "code",
   "execution_count": 11,
   "id": "6f132de5-0e69-43ae-b7b7-8862e07c0cf6",
   "metadata": {
    "tags": []
   },
   "outputs": [],
   "source": [
    "ndvi = mask_and_compute(ds.rio.clip(buf_poly.geometry.values, buf_poly.crs)).persist()"
   ]
  },
  {
   "cell_type": "markdown",
   "id": "9c2bfc30-bdc6-492b-942c-4537dce5bbd2",
   "metadata": {},
   "source": [
    "<br />\n",
    "\n",
    "Observamos que el `ndvi` tiene 3 dimensiones, `time` con más de 560 valores `y` con 132 valores, y` x` con 128 valores."
   ]
  },
  {
   "cell_type": "code",
   "execution_count": 12,
   "id": "b68ce47d-02f0-449f-ba16-e4b81f36e48b",
   "metadata": {
    "tags": []
   },
   "outputs": [
    {
     "data": {
      "text/html": [
       "<div><svg style=\"position: absolute; width: 0; height: 0; overflow: hidden\">\n",
       "<defs>\n",
       "<symbol id=\"icon-database\" viewBox=\"0 0 32 32\">\n",
       "<path d=\"M16 0c-8.837 0-16 2.239-16 5v4c0 2.761 7.163 5 16 5s16-2.239 16-5v-4c0-2.761-7.163-5-16-5z\"></path>\n",
       "<path d=\"M16 17c-8.837 0-16-2.239-16-5v6c0 2.761 7.163 5 16 5s16-2.239 16-5v-6c0 2.761-7.163 5-16 5z\"></path>\n",
       "<path d=\"M16 26c-8.837 0-16-2.239-16-5v6c0 2.761 7.163 5 16 5s16-2.239 16-5v-6c0 2.761-7.163 5-16 5z\"></path>\n",
       "</symbol>\n",
       "<symbol id=\"icon-file-text2\" viewBox=\"0 0 32 32\">\n",
       "<path d=\"M28.681 7.159c-0.694-0.947-1.662-2.053-2.724-3.116s-2.169-2.030-3.116-2.724c-1.612-1.182-2.393-1.319-2.841-1.319h-15.5c-1.378 0-2.5 1.121-2.5 2.5v27c0 1.378 1.122 2.5 2.5 2.5h23c1.378 0 2.5-1.122 2.5-2.5v-19.5c0-0.448-0.137-1.23-1.319-2.841zM24.543 5.457c0.959 0.959 1.712 1.825 2.268 2.543h-4.811v-4.811c0.718 0.556 1.584 1.309 2.543 2.268zM28 29.5c0 0.271-0.229 0.5-0.5 0.5h-23c-0.271 0-0.5-0.229-0.5-0.5v-27c0-0.271 0.229-0.5 0.5-0.5 0 0 15.499-0 15.5 0v7c0 0.552 0.448 1 1 1h7v19.5z\"></path>\n",
       "<path d=\"M23 26h-14c-0.552 0-1-0.448-1-1s0.448-1 1-1h14c0.552 0 1 0.448 1 1s-0.448 1-1 1z\"></path>\n",
       "<path d=\"M23 22h-14c-0.552 0-1-0.448-1-1s0.448-1 1-1h14c0.552 0 1 0.448 1 1s-0.448 1-1 1z\"></path>\n",
       "<path d=\"M23 18h-14c-0.552 0-1-0.448-1-1s0.448-1 1-1h14c0.552 0 1 0.448 1 1s-0.448 1-1 1z\"></path>\n",
       "</symbol>\n",
       "</defs>\n",
       "</svg>\n",
       "<style>/* CSS stylesheet for displaying xarray objects in jupyterlab.\n",
       " *\n",
       " */\n",
       "\n",
       ":root {\n",
       "  --xr-font-color0: var(--jp-content-font-color0, rgba(0, 0, 0, 1));\n",
       "  --xr-font-color2: var(--jp-content-font-color2, rgba(0, 0, 0, 0.54));\n",
       "  --xr-font-color3: var(--jp-content-font-color3, rgba(0, 0, 0, 0.38));\n",
       "  --xr-border-color: var(--jp-border-color2, #e0e0e0);\n",
       "  --xr-disabled-color: var(--jp-layout-color3, #bdbdbd);\n",
       "  --xr-background-color: var(--jp-layout-color0, white);\n",
       "  --xr-background-color-row-even: var(--jp-layout-color1, white);\n",
       "  --xr-background-color-row-odd: var(--jp-layout-color2, #eeeeee);\n",
       "}\n",
       "\n",
       "html[theme=dark],\n",
       "body[data-theme=dark],\n",
       "body.vscode-dark {\n",
       "  --xr-font-color0: rgba(255, 255, 255, 1);\n",
       "  --xr-font-color2: rgba(255, 255, 255, 0.54);\n",
       "  --xr-font-color3: rgba(255, 255, 255, 0.38);\n",
       "  --xr-border-color: #1F1F1F;\n",
       "  --xr-disabled-color: #515151;\n",
       "  --xr-background-color: #111111;\n",
       "  --xr-background-color-row-even: #111111;\n",
       "  --xr-background-color-row-odd: #313131;\n",
       "}\n",
       "\n",
       ".xr-wrap {\n",
       "  display: block !important;\n",
       "  min-width: 300px;\n",
       "  max-width: 700px;\n",
       "}\n",
       "\n",
       ".xr-text-repr-fallback {\n",
       "  /* fallback to plain text repr when CSS is not injected (untrusted notebook) */\n",
       "  display: none;\n",
       "}\n",
       "\n",
       ".xr-header {\n",
       "  padding-top: 6px;\n",
       "  padding-bottom: 6px;\n",
       "  margin-bottom: 4px;\n",
       "  border-bottom: solid 1px var(--xr-border-color);\n",
       "}\n",
       "\n",
       ".xr-header > div,\n",
       ".xr-header > ul {\n",
       "  display: inline;\n",
       "  margin-top: 0;\n",
       "  margin-bottom: 0;\n",
       "}\n",
       "\n",
       ".xr-obj-type,\n",
       ".xr-array-name {\n",
       "  margin-left: 2px;\n",
       "  margin-right: 10px;\n",
       "}\n",
       "\n",
       ".xr-obj-type {\n",
       "  color: var(--xr-font-color2);\n",
       "}\n",
       "\n",
       ".xr-sections {\n",
       "  padding-left: 0 !important;\n",
       "  display: grid;\n",
       "  grid-template-columns: 150px auto auto 1fr 20px 20px;\n",
       "}\n",
       "\n",
       ".xr-section-item {\n",
       "  display: contents;\n",
       "}\n",
       "\n",
       ".xr-section-item input {\n",
       "  display: none;\n",
       "}\n",
       "\n",
       ".xr-section-item input + label {\n",
       "  color: var(--xr-disabled-color);\n",
       "}\n",
       "\n",
       ".xr-section-item input:enabled + label {\n",
       "  cursor: pointer;\n",
       "  color: var(--xr-font-color2);\n",
       "}\n",
       "\n",
       ".xr-section-item input:enabled + label:hover {\n",
       "  color: var(--xr-font-color0);\n",
       "}\n",
       "\n",
       ".xr-section-summary {\n",
       "  grid-column: 1;\n",
       "  color: var(--xr-font-color2);\n",
       "  font-weight: 500;\n",
       "}\n",
       "\n",
       ".xr-section-summary > span {\n",
       "  display: inline-block;\n",
       "  padding-left: 0.5em;\n",
       "}\n",
       "\n",
       ".xr-section-summary-in:disabled + label {\n",
       "  color: var(--xr-font-color2);\n",
       "}\n",
       "\n",
       ".xr-section-summary-in + label:before {\n",
       "  display: inline-block;\n",
       "  content: '►';\n",
       "  font-size: 11px;\n",
       "  width: 15px;\n",
       "  text-align: center;\n",
       "}\n",
       "\n",
       ".xr-section-summary-in:disabled + label:before {\n",
       "  color: var(--xr-disabled-color);\n",
       "}\n",
       "\n",
       ".xr-section-summary-in:checked + label:before {\n",
       "  content: '▼';\n",
       "}\n",
       "\n",
       ".xr-section-summary-in:checked + label > span {\n",
       "  display: none;\n",
       "}\n",
       "\n",
       ".xr-section-summary,\n",
       ".xr-section-inline-details {\n",
       "  padding-top: 4px;\n",
       "  padding-bottom: 4px;\n",
       "}\n",
       "\n",
       ".xr-section-inline-details {\n",
       "  grid-column: 2 / -1;\n",
       "}\n",
       "\n",
       ".xr-section-details {\n",
       "  display: none;\n",
       "  grid-column: 1 / -1;\n",
       "  margin-bottom: 5px;\n",
       "}\n",
       "\n",
       ".xr-section-summary-in:checked ~ .xr-section-details {\n",
       "  display: contents;\n",
       "}\n",
       "\n",
       ".xr-array-wrap {\n",
       "  grid-column: 1 / -1;\n",
       "  display: grid;\n",
       "  grid-template-columns: 20px auto;\n",
       "}\n",
       "\n",
       ".xr-array-wrap > label {\n",
       "  grid-column: 1;\n",
       "  vertical-align: top;\n",
       "}\n",
       "\n",
       ".xr-preview {\n",
       "  color: var(--xr-font-color3);\n",
       "}\n",
       "\n",
       ".xr-array-preview,\n",
       ".xr-array-data {\n",
       "  padding: 0 5px !important;\n",
       "  grid-column: 2;\n",
       "}\n",
       "\n",
       ".xr-array-data,\n",
       ".xr-array-in:checked ~ .xr-array-preview {\n",
       "  display: none;\n",
       "}\n",
       "\n",
       ".xr-array-in:checked ~ .xr-array-data,\n",
       ".xr-array-preview {\n",
       "  display: inline-block;\n",
       "}\n",
       "\n",
       ".xr-dim-list {\n",
       "  display: inline-block !important;\n",
       "  list-style: none;\n",
       "  padding: 0 !important;\n",
       "  margin: 0;\n",
       "}\n",
       "\n",
       ".xr-dim-list li {\n",
       "  display: inline-block;\n",
       "  padding: 0;\n",
       "  margin: 0;\n",
       "}\n",
       "\n",
       ".xr-dim-list:before {\n",
       "  content: '(';\n",
       "}\n",
       "\n",
       ".xr-dim-list:after {\n",
       "  content: ')';\n",
       "}\n",
       "\n",
       ".xr-dim-list li:not(:last-child):after {\n",
       "  content: ',';\n",
       "  padding-right: 5px;\n",
       "}\n",
       "\n",
       ".xr-has-index {\n",
       "  font-weight: bold;\n",
       "}\n",
       "\n",
       ".xr-var-list,\n",
       ".xr-var-item {\n",
       "  display: contents;\n",
       "}\n",
       "\n",
       ".xr-var-item > div,\n",
       ".xr-var-item label,\n",
       ".xr-var-item > .xr-var-name span {\n",
       "  background-color: var(--xr-background-color-row-even);\n",
       "  margin-bottom: 0;\n",
       "}\n",
       "\n",
       ".xr-var-item > .xr-var-name:hover span {\n",
       "  padding-right: 5px;\n",
       "}\n",
       "\n",
       ".xr-var-list > li:nth-child(odd) > div,\n",
       ".xr-var-list > li:nth-child(odd) > label,\n",
       ".xr-var-list > li:nth-child(odd) > .xr-var-name span {\n",
       "  background-color: var(--xr-background-color-row-odd);\n",
       "}\n",
       "\n",
       ".xr-var-name {\n",
       "  grid-column: 1;\n",
       "}\n",
       "\n",
       ".xr-var-dims {\n",
       "  grid-column: 2;\n",
       "}\n",
       "\n",
       ".xr-var-dtype {\n",
       "  grid-column: 3;\n",
       "  text-align: right;\n",
       "  color: var(--xr-font-color2);\n",
       "}\n",
       "\n",
       ".xr-var-preview {\n",
       "  grid-column: 4;\n",
       "}\n",
       "\n",
       ".xr-index-preview {\n",
       "  grid-column: 2 / 5;\n",
       "  color: var(--xr-font-color2);\n",
       "}\n",
       "\n",
       ".xr-var-name,\n",
       ".xr-var-dims,\n",
       ".xr-var-dtype,\n",
       ".xr-preview,\n",
       ".xr-attrs dt {\n",
       "  white-space: nowrap;\n",
       "  overflow: hidden;\n",
       "  text-overflow: ellipsis;\n",
       "  padding-right: 10px;\n",
       "}\n",
       "\n",
       ".xr-var-name:hover,\n",
       ".xr-var-dims:hover,\n",
       ".xr-var-dtype:hover,\n",
       ".xr-attrs dt:hover {\n",
       "  overflow: visible;\n",
       "  width: auto;\n",
       "  z-index: 1;\n",
       "}\n",
       "\n",
       ".xr-var-attrs,\n",
       ".xr-var-data,\n",
       ".xr-index-data {\n",
       "  display: none;\n",
       "  background-color: var(--xr-background-color) !important;\n",
       "  padding-bottom: 5px !important;\n",
       "}\n",
       "\n",
       ".xr-var-attrs-in:checked ~ .xr-var-attrs,\n",
       ".xr-var-data-in:checked ~ .xr-var-data,\n",
       ".xr-index-data-in:checked ~ .xr-index-data {\n",
       "  display: block;\n",
       "}\n",
       "\n",
       ".xr-var-data > table {\n",
       "  float: right;\n",
       "}\n",
       "\n",
       ".xr-var-name span,\n",
       ".xr-var-data,\n",
       ".xr-index-name div,\n",
       ".xr-index-data,\n",
       ".xr-attrs {\n",
       "  padding-left: 25px !important;\n",
       "}\n",
       "\n",
       ".xr-attrs,\n",
       ".xr-var-attrs,\n",
       ".xr-var-data,\n",
       ".xr-index-data {\n",
       "  grid-column: 1 / -1;\n",
       "}\n",
       "\n",
       "dl.xr-attrs {\n",
       "  padding: 0;\n",
       "  margin: 0;\n",
       "  display: grid;\n",
       "  grid-template-columns: 125px auto;\n",
       "}\n",
       "\n",
       ".xr-attrs dt,\n",
       ".xr-attrs dd {\n",
       "  padding: 0;\n",
       "  margin: 0;\n",
       "  float: left;\n",
       "  padding-right: 10px;\n",
       "  width: auto;\n",
       "}\n",
       "\n",
       ".xr-attrs dt {\n",
       "  font-weight: normal;\n",
       "  grid-column: 1;\n",
       "}\n",
       "\n",
       ".xr-attrs dt:hover span {\n",
       "  display: inline-block;\n",
       "  background: var(--xr-background-color);\n",
       "  padding-right: 10px;\n",
       "}\n",
       "\n",
       ".xr-attrs dd {\n",
       "  grid-column: 2;\n",
       "  white-space: pre-wrap;\n",
       "  word-break: break-all;\n",
       "}\n",
       "\n",
       ".xr-icon-database,\n",
       ".xr-icon-file-text2,\n",
       ".xr-no-icon {\n",
       "  display: inline-block;\n",
       "  vertical-align: middle;\n",
       "  width: 1em;\n",
       "  height: 1.5em !important;\n",
       "  stroke-width: 0;\n",
       "  stroke: currentColor;\n",
       "  fill: currentColor;\n",
       "}\n",
       "</style><pre class='xr-text-repr-fallback'>&lt;xarray.DataArray (time: 561, y: 132, x: 128)&gt;\n",
       "dask.array&lt;where, shape=(561, 132, 128), dtype=float32, chunksize=(561, 50, 50), chunktype=numpy.ndarray&gt;\n",
       "Coordinates:\n",
       "  * time         (time) datetime64[ns] 2010-01-06T14:25:03.486099 ... 2023-12...\n",
       "  * y            (y) float64 6.295e+06 6.295e+06 ... 6.291e+06 6.291e+06\n",
       "  * x            (x) float64 3.567e+05 3.568e+05 ... 3.605e+05 3.606e+05\n",
       "    spatial_ref  int64 0\n",
       "Attributes:\n",
       "    crs:           EPSG:32719\n",
       "    grid_mapping:  spatial_ref</pre><div class='xr-wrap' style='display:none'><div class='xr-header'><div class='xr-obj-type'>xarray.DataArray</div><div class='xr-array-name'></div><ul class='xr-dim-list'><li><span class='xr-has-index'>time</span>: 561</li><li><span class='xr-has-index'>y</span>: 132</li><li><span class='xr-has-index'>x</span>: 128</li></ul></div><ul class='xr-sections'><li class='xr-section-item'><div class='xr-array-wrap'><input id='section-6a6b0ef3-05dc-45bd-bee5-37cafe305e48' class='xr-array-in' type='checkbox' checked><label for='section-6a6b0ef3-05dc-45bd-bee5-37cafe305e48' title='Show/hide data repr'><svg class='icon xr-icon-database'><use xlink:href='#icon-database'></use></svg></label><div class='xr-array-preview xr-preview'><span>dask.array&lt;chunksize=(561, 49, 50), meta=np.ndarray&gt;</span></div><div class='xr-array-data'><table>\n",
       "    <tr>\n",
       "        <td>\n",
       "            <table style=\"border-collapse: collapse;\">\n",
       "                <thead>\n",
       "                    <tr>\n",
       "                        <td> </td>\n",
       "                        <th> Array </th>\n",
       "                        <th> Chunk </th>\n",
       "                    </tr>\n",
       "                </thead>\n",
       "                <tbody>\n",
       "                    \n",
       "                    <tr>\n",
       "                        <th> Bytes </th>\n",
       "                        <td> 36.16 MiB </td>\n",
       "                        <td> 5.35 MiB </td>\n",
       "                    </tr>\n",
       "                    \n",
       "                    <tr>\n",
       "                        <th> Shape </th>\n",
       "                        <td> (561, 132, 128) </td>\n",
       "                        <td> (561, 50, 50) </td>\n",
       "                    </tr>\n",
       "                    <tr>\n",
       "                        <th> Dask graph </th>\n",
       "                        <td colspan=\"2\"> 9 chunks in 1 graph layer </td>\n",
       "                    </tr>\n",
       "                    <tr>\n",
       "                        <th> Data type </th>\n",
       "                        <td colspan=\"2\"> float32 numpy.ndarray </td>\n",
       "                    </tr>\n",
       "                </tbody>\n",
       "            </table>\n",
       "        </td>\n",
       "        <td>\n",
       "        <svg width=\"173\" height=\"163\" style=\"stroke:rgb(0,0,0);stroke-width:1\" >\n",
       "\n",
       "  <!-- Horizontal lines -->\n",
       "  <line x1=\"10\" y1=\"0\" x2=\"80\" y2=\"70\" style=\"stroke-width:2\" />\n",
       "  <line x1=\"10\" y1=\"15\" x2=\"80\" y2=\"86\" />\n",
       "  <line x1=\"10\" y1=\"32\" x2=\"80\" y2=\"102\" />\n",
       "  <line x1=\"10\" y1=\"42\" x2=\"80\" y2=\"113\" style=\"stroke-width:2\" />\n",
       "\n",
       "  <!-- Vertical lines -->\n",
       "  <line x1=\"10\" y1=\"0\" x2=\"10\" y2=\"42\" style=\"stroke-width:2\" />\n",
       "  <line x1=\"80\" y1=\"70\" x2=\"80\" y2=\"113\" style=\"stroke-width:2\" />\n",
       "\n",
       "  <!-- Colored Rectangle -->\n",
       "  <polygon points=\"10.0,0.0 80.58823529411765,70.58823529411765 80.58823529411765,113.25626405433039 10.0,42.668028760212735\" style=\"fill:#ECB172A0;stroke-width:0\"/>\n",
       "\n",
       "  <!-- Horizontal lines -->\n",
       "  <line x1=\"10\" y1=\"0\" x2=\"52\" y2=\"0\" style=\"stroke-width:2\" />\n",
       "  <line x1=\"80\" y1=\"70\" x2=\"123\" y2=\"70\" style=\"stroke-width:2\" />\n",
       "\n",
       "  <!-- Vertical lines -->\n",
       "  <line x1=\"10\" y1=\"0\" x2=\"80\" y2=\"70\" style=\"stroke-width:2\" />\n",
       "  <line x1=\"26\" y1=\"0\" x2=\"97\" y2=\"70\" />\n",
       "  <line x1=\"43\" y1=\"0\" x2=\"113\" y2=\"70\" />\n",
       "  <line x1=\"52\" y1=\"0\" x2=\"123\" y2=\"70\" style=\"stroke-width:2\" />\n",
       "\n",
       "  <!-- Colored Rectangle -->\n",
       "  <polygon points=\"10.0,0.0 52.54783080601505,0.0 123.1360661001327,70.58823529411765 80.58823529411765,70.58823529411765\" style=\"fill:#ECB172A0;stroke-width:0\"/>\n",
       "\n",
       "  <!-- Horizontal lines -->\n",
       "  <line x1=\"80\" y1=\"70\" x2=\"123\" y2=\"70\" style=\"stroke-width:2\" />\n",
       "  <line x1=\"80\" y1=\"86\" x2=\"123\" y2=\"86\" />\n",
       "  <line x1=\"80\" y1=\"102\" x2=\"123\" y2=\"102\" />\n",
       "  <line x1=\"80\" y1=\"113\" x2=\"123\" y2=\"113\" style=\"stroke-width:2\" />\n",
       "\n",
       "  <!-- Vertical lines -->\n",
       "  <line x1=\"80\" y1=\"70\" x2=\"80\" y2=\"113\" style=\"stroke-width:2\" />\n",
       "  <line x1=\"97\" y1=\"70\" x2=\"97\" y2=\"113\" />\n",
       "  <line x1=\"113\" y1=\"70\" x2=\"113\" y2=\"113\" />\n",
       "  <line x1=\"123\" y1=\"70\" x2=\"123\" y2=\"113\" style=\"stroke-width:2\" />\n",
       "\n",
       "  <!-- Colored Rectangle -->\n",
       "  <polygon points=\"80.58823529411765,70.58823529411765 123.1360661001327,70.58823529411765 123.1360661001327,113.25626405433039 80.58823529411765,113.25626405433039\" style=\"fill:#ECB172A0;stroke-width:0\"/>\n",
       "\n",
       "  <!-- Text -->\n",
       "  <text x=\"101.862151\" y=\"133.256264\" font-size=\"1.0rem\" font-weight=\"100\" text-anchor=\"middle\" >128</text>\n",
       "  <text x=\"143.136066\" y=\"91.922250\" font-size=\"1.0rem\" font-weight=\"100\" text-anchor=\"middle\" transform=\"rotate(-90,143.136066,91.922250)\">132</text>\n",
       "  <text x=\"35.294118\" y=\"97.962146\" font-size=\"1.0rem\" font-weight=\"100\" text-anchor=\"middle\" transform=\"rotate(45,35.294118,97.962146)\">561</text>\n",
       "</svg>\n",
       "        </td>\n",
       "    </tr>\n",
       "</table></div></div></li><li class='xr-section-item'><input id='section-398554c7-f859-4882-8e10-8e1ad0f38d4d' class='xr-section-summary-in' type='checkbox'  checked><label for='section-398554c7-f859-4882-8e10-8e1ad0f38d4d' class='xr-section-summary' >Coordinates: <span>(4)</span></label><div class='xr-section-inline-details'></div><div class='xr-section-details'><ul class='xr-var-list'><li class='xr-var-item'><div class='xr-var-name'><span class='xr-has-index'>time</span></div><div class='xr-var-dims'>(time)</div><div class='xr-var-dtype'>datetime64[ns]</div><div class='xr-var-preview xr-preview'>2010-01-06T14:25:03.486099 ... 2...</div><input id='attrs-4777527c-fce9-45bb-b037-a885040af229' class='xr-var-attrs-in' type='checkbox' ><label for='attrs-4777527c-fce9-45bb-b037-a885040af229' title='Show/Hide attributes'><svg class='icon xr-icon-file-text2'><use xlink:href='#icon-file-text2'></use></svg></label><input id='data-a52e0dba-da1b-49a3-a91a-2b3b9641c1ae' class='xr-var-data-in' type='checkbox'><label for='data-a52e0dba-da1b-49a3-a91a-2b3b9641c1ae' title='Show/Hide data repr'><svg class='icon xr-icon-database'><use xlink:href='#icon-database'></use></svg></label><div class='xr-var-attrs'><dl class='xr-attrs'><dt><span>units :</span></dt><dd>seconds since 1970-01-01 00:00:00</dd></dl></div><div class='xr-var-data'><pre>array([&#x27;2010-01-06T14:25:03.486099000&#x27;, &#x27;2010-01-14T14:24:28.097025000&#x27;,\n",
       "       &#x27;2010-01-22T14:25:17.853047000&#x27;, ..., &#x27;2023-12-04T14:33:48.532362000&#x27;,\n",
       "       &#x27;2023-12-12T14:33:57.581636000&#x27;, &#x27;2023-12-28T14:34:00.071911000&#x27;],\n",
       "      dtype=&#x27;datetime64[ns]&#x27;)</pre></div></li><li class='xr-var-item'><div class='xr-var-name'><span class='xr-has-index'>y</span></div><div class='xr-var-dims'>(y)</div><div class='xr-var-dtype'>float64</div><div class='xr-var-preview xr-preview'>6.295e+06 6.295e+06 ... 6.291e+06</div><input id='attrs-1f1c5a7a-be86-4a54-8cba-a0b4643d31a2' class='xr-var-attrs-in' type='checkbox' ><label for='attrs-1f1c5a7a-be86-4a54-8cba-a0b4643d31a2' title='Show/Hide attributes'><svg class='icon xr-icon-file-text2'><use xlink:href='#icon-file-text2'></use></svg></label><input id='data-a167619f-cb3c-4f6a-9738-e7e49894125a' class='xr-var-data-in' type='checkbox'><label for='data-a167619f-cb3c-4f6a-9738-e7e49894125a' title='Show/Hide data repr'><svg class='icon xr-icon-database'><use xlink:href='#icon-database'></use></svg></label><div class='xr-var-attrs'><dl class='xr-attrs'><dt><span>units :</span></dt><dd>metre</dd><dt><span>resolution :</span></dt><dd>-30.0</dd><dt><span>crs :</span></dt><dd>EPSG:32719</dd><dt><span>axis :</span></dt><dd>Y</dd><dt><span>long_name :</span></dt><dd>y coordinate of projection</dd><dt><span>standard_name :</span></dt><dd>projection_y_coordinate</dd></dl></div><div class='xr-var-data'><pre>array([6295035., 6295005., 6294975., 6294945., 6294915., 6294885., 6294855.,\n",
       "       6294825., 6294795., 6294765., 6294735., 6294705., 6294675., 6294645.,\n",
       "       6294615., 6294585., 6294555., 6294525., 6294495., 6294465., 6294435.,\n",
       "       6294405., 6294375., 6294345., 6294315., 6294285., 6294255., 6294225.,\n",
       "       6294195., 6294165., 6294135., 6294105., 6294075., 6294045., 6294015.,\n",
       "       6293985., 6293955., 6293925., 6293895., 6293865., 6293835., 6293805.,\n",
       "       6293775., 6293745., 6293715., 6293685., 6293655., 6293625., 6293595.,\n",
       "       6293565., 6293535., 6293505., 6293475., 6293445., 6293415., 6293385.,\n",
       "       6293355., 6293325., 6293295., 6293265., 6293235., 6293205., 6293175.,\n",
       "       6293145., 6293115., 6293085., 6293055., 6293025., 6292995., 6292965.,\n",
       "       6292935., 6292905., 6292875., 6292845., 6292815., 6292785., 6292755.,\n",
       "       6292725., 6292695., 6292665., 6292635., 6292605., 6292575., 6292545.,\n",
       "       6292515., 6292485., 6292455., 6292425., 6292395., 6292365., 6292335.,\n",
       "       6292305., 6292275., 6292245., 6292215., 6292185., 6292155., 6292125.,\n",
       "       6292095., 6292065., 6292035., 6292005., 6291975., 6291945., 6291915.,\n",
       "       6291885., 6291855., 6291825., 6291795., 6291765., 6291735., 6291705.,\n",
       "       6291675., 6291645., 6291615., 6291585., 6291555., 6291525., 6291495.,\n",
       "       6291465., 6291435., 6291405., 6291375., 6291345., 6291315., 6291285.,\n",
       "       6291255., 6291225., 6291195., 6291165., 6291135., 6291105.])</pre></div></li><li class='xr-var-item'><div class='xr-var-name'><span class='xr-has-index'>x</span></div><div class='xr-var-dims'>(x)</div><div class='xr-var-dtype'>float64</div><div class='xr-var-preview xr-preview'>3.567e+05 3.568e+05 ... 3.606e+05</div><input id='attrs-8539234e-af6d-4d0c-9e42-f765df6294fd' class='xr-var-attrs-in' type='checkbox' ><label for='attrs-8539234e-af6d-4d0c-9e42-f765df6294fd' title='Show/Hide attributes'><svg class='icon xr-icon-file-text2'><use xlink:href='#icon-file-text2'></use></svg></label><input id='data-078ace63-2eb0-47c3-ba63-ef835d773ad3' class='xr-var-data-in' type='checkbox'><label for='data-078ace63-2eb0-47c3-ba63-ef835d773ad3' title='Show/Hide data repr'><svg class='icon xr-icon-database'><use xlink:href='#icon-database'></use></svg></label><div class='xr-var-attrs'><dl class='xr-attrs'><dt><span>units :</span></dt><dd>metre</dd><dt><span>resolution :</span></dt><dd>30.0</dd><dt><span>crs :</span></dt><dd>EPSG:32719</dd><dt><span>axis :</span></dt><dd>X</dd><dt><span>long_name :</span></dt><dd>x coordinate of projection</dd><dt><span>standard_name :</span></dt><dd>projection_x_coordinate</dd></dl></div><div class='xr-var-data'><pre>array([356745., 356775., 356805., 356835., 356865., 356895., 356925., 356955.,\n",
       "       356985., 357015., 357045., 357075., 357105., 357135., 357165., 357195.,\n",
       "       357225., 357255., 357285., 357315., 357345., 357375., 357405., 357435.,\n",
       "       357465., 357495., 357525., 357555., 357585., 357615., 357645., 357675.,\n",
       "       357705., 357735., 357765., 357795., 357825., 357855., 357885., 357915.,\n",
       "       357945., 357975., 358005., 358035., 358065., 358095., 358125., 358155.,\n",
       "       358185., 358215., 358245., 358275., 358305., 358335., 358365., 358395.,\n",
       "       358425., 358455., 358485., 358515., 358545., 358575., 358605., 358635.,\n",
       "       358665., 358695., 358725., 358755., 358785., 358815., 358845., 358875.,\n",
       "       358905., 358935., 358965., 358995., 359025., 359055., 359085., 359115.,\n",
       "       359145., 359175., 359205., 359235., 359265., 359295., 359325., 359355.,\n",
       "       359385., 359415., 359445., 359475., 359505., 359535., 359565., 359595.,\n",
       "       359625., 359655., 359685., 359715., 359745., 359775., 359805., 359835.,\n",
       "       359865., 359895., 359925., 359955., 359985., 360015., 360045., 360075.,\n",
       "       360105., 360135., 360165., 360195., 360225., 360255., 360285., 360315.,\n",
       "       360345., 360375., 360405., 360435., 360465., 360495., 360525., 360555.])</pre></div></li><li class='xr-var-item'><div class='xr-var-name'><span>spatial_ref</span></div><div class='xr-var-dims'>()</div><div class='xr-var-dtype'>int64</div><div class='xr-var-preview xr-preview'>0</div><input id='attrs-6bba1ff4-58ff-45d5-b2f5-70e14e3f9e0a' class='xr-var-attrs-in' type='checkbox' ><label for='attrs-6bba1ff4-58ff-45d5-b2f5-70e14e3f9e0a' title='Show/Hide attributes'><svg class='icon xr-icon-file-text2'><use xlink:href='#icon-file-text2'></use></svg></label><input id='data-9d5005de-5186-45ca-a15f-99fb1cf21062' class='xr-var-data-in' type='checkbox'><label for='data-9d5005de-5186-45ca-a15f-99fb1cf21062' title='Show/Hide data repr'><svg class='icon xr-icon-database'><use xlink:href='#icon-database'></use></svg></label><div class='xr-var-attrs'><dl class='xr-attrs'><dt><span>crs_wkt :</span></dt><dd>PROJCS[&quot;WGS 84 / UTM zone 19S&quot;,GEOGCS[&quot;WGS 84&quot;,DATUM[&quot;WGS_1984&quot;,SPHEROID[&quot;WGS 84&quot;,6378137,298.257223563,AUTHORITY[&quot;EPSG&quot;,&quot;7030&quot;]],AUTHORITY[&quot;EPSG&quot;,&quot;6326&quot;]],PRIMEM[&quot;Greenwich&quot;,0,AUTHORITY[&quot;EPSG&quot;,&quot;8901&quot;]],UNIT[&quot;degree&quot;,0.0174532925199433,AUTHORITY[&quot;EPSG&quot;,&quot;9122&quot;]],AUTHORITY[&quot;EPSG&quot;,&quot;4326&quot;]],PROJECTION[&quot;Transverse_Mercator&quot;],PARAMETER[&quot;latitude_of_origin&quot;,0],PARAMETER[&quot;central_meridian&quot;,-69],PARAMETER[&quot;scale_factor&quot;,0.9996],PARAMETER[&quot;false_easting&quot;,500000],PARAMETER[&quot;false_northing&quot;,10000000],UNIT[&quot;metre&quot;,1,AUTHORITY[&quot;EPSG&quot;,&quot;9001&quot;]],AXIS[&quot;Easting&quot;,EAST],AXIS[&quot;Northing&quot;,NORTH],AUTHORITY[&quot;EPSG&quot;,&quot;32719&quot;]]</dd><dt><span>semi_major_axis :</span></dt><dd>6378137.0</dd><dt><span>semi_minor_axis :</span></dt><dd>6356752.314245179</dd><dt><span>inverse_flattening :</span></dt><dd>298.257223563</dd><dt><span>reference_ellipsoid_name :</span></dt><dd>WGS 84</dd><dt><span>longitude_of_prime_meridian :</span></dt><dd>0.0</dd><dt><span>prime_meridian_name :</span></dt><dd>Greenwich</dd><dt><span>geographic_crs_name :</span></dt><dd>WGS 84</dd><dt><span>horizontal_datum_name :</span></dt><dd>World Geodetic System 1984</dd><dt><span>projected_crs_name :</span></dt><dd>WGS 84 / UTM zone 19S</dd><dt><span>grid_mapping_name :</span></dt><dd>transverse_mercator</dd><dt><span>latitude_of_projection_origin :</span></dt><dd>0.0</dd><dt><span>longitude_of_central_meridian :</span></dt><dd>-69.0</dd><dt><span>false_easting :</span></dt><dd>500000.0</dd><dt><span>false_northing :</span></dt><dd>10000000.0</dd><dt><span>scale_factor_at_central_meridian :</span></dt><dd>0.9996</dd><dt><span>spatial_ref :</span></dt><dd>PROJCS[&quot;WGS 84 / UTM zone 19S&quot;,GEOGCS[&quot;WGS 84&quot;,DATUM[&quot;WGS_1984&quot;,SPHEROID[&quot;WGS 84&quot;,6378137,298.257223563,AUTHORITY[&quot;EPSG&quot;,&quot;7030&quot;]],AUTHORITY[&quot;EPSG&quot;,&quot;6326&quot;]],PRIMEM[&quot;Greenwich&quot;,0,AUTHORITY[&quot;EPSG&quot;,&quot;8901&quot;]],UNIT[&quot;degree&quot;,0.0174532925199433,AUTHORITY[&quot;EPSG&quot;,&quot;9122&quot;]],AUTHORITY[&quot;EPSG&quot;,&quot;4326&quot;]],PROJECTION[&quot;Transverse_Mercator&quot;],PARAMETER[&quot;latitude_of_origin&quot;,0],PARAMETER[&quot;central_meridian&quot;,-69],PARAMETER[&quot;scale_factor&quot;,0.9996],PARAMETER[&quot;false_easting&quot;,500000],PARAMETER[&quot;false_northing&quot;,10000000],UNIT[&quot;metre&quot;,1,AUTHORITY[&quot;EPSG&quot;,&quot;9001&quot;]],AXIS[&quot;Easting&quot;,EAST],AXIS[&quot;Northing&quot;,NORTH],AUTHORITY[&quot;EPSG&quot;,&quot;32719&quot;]]</dd><dt><span>GeoTransform :</span></dt><dd>356730.0 30.0 0.0 6295050.0 0.0 -30.0</dd></dl></div><div class='xr-var-data'><pre>array(0)</pre></div></li></ul></div></li><li class='xr-section-item'><input id='section-f1bac728-656a-42e9-8191-584bee96b75e' class='xr-section-summary-in' type='checkbox'  ><label for='section-f1bac728-656a-42e9-8191-584bee96b75e' class='xr-section-summary' >Indexes: <span>(3)</span></label><div class='xr-section-inline-details'></div><div class='xr-section-details'><ul class='xr-var-list'><li class='xr-var-item'><div class='xr-index-name'><div>time</div></div><div class='xr-index-preview'>PandasIndex</div><div></div><input id='index-d9c83cde-5c3c-44ff-868b-3d498b9a8e7a' class='xr-index-data-in' type='checkbox'/><label for='index-d9c83cde-5c3c-44ff-868b-3d498b9a8e7a' title='Show/Hide index repr'><svg class='icon xr-icon-database'><use xlink:href='#icon-database'></use></svg></label><div class='xr-index-data'><pre>PandasIndex(DatetimeIndex([&#x27;2010-01-06 14:25:03.486099&#x27;, &#x27;2010-01-14 14:24:28.097025&#x27;,\n",
       "               &#x27;2010-01-22 14:25:17.853047&#x27;, &#x27;2010-01-30 14:24:31.984000&#x27;,\n",
       "               &#x27;2010-02-07 14:25:30.143176&#x27;, &#x27;2010-02-15 14:24:35.281050&#x27;,\n",
       "               &#x27;2010-02-23 14:25:39.989559&#x27;, &#x27;2010-03-11 14:25:47.166997&#x27;,\n",
       "               &#x27;2010-03-19 14:24:37.928019&#x27;, &#x27;2010-03-27 14:25:51.759185&#x27;,\n",
       "               ...\n",
       "               &#x27;2023-10-01 14:33:48.126171&#x27;, &#x27;2023-10-09 14:33:49.638217&#x27;,\n",
       "               &#x27;2023-10-25 14:33:54.261435&#x27;, &#x27;2023-11-02 14:33:53.253387&#x27;,\n",
       "               &#x27;2023-11-10 14:33:51.340268&#x27;, &#x27;2023-11-18 14:33:54.054821&#x27;,\n",
       "               &#x27;2023-11-26 14:33:59.213601&#x27;, &#x27;2023-12-04 14:33:48.532362&#x27;,\n",
       "               &#x27;2023-12-12 14:33:57.581636&#x27;, &#x27;2023-12-28 14:34:00.071911&#x27;],\n",
       "              dtype=&#x27;datetime64[ns]&#x27;, name=&#x27;time&#x27;, length=561, freq=None))</pre></div></li><li class='xr-var-item'><div class='xr-index-name'><div>y</div></div><div class='xr-index-preview'>PandasIndex</div><div></div><input id='index-03ea1e7c-faf7-4bdf-b7c9-f8fb7d7f8ab9' class='xr-index-data-in' type='checkbox'/><label for='index-03ea1e7c-faf7-4bdf-b7c9-f8fb7d7f8ab9' title='Show/Hide index repr'><svg class='icon xr-icon-database'><use xlink:href='#icon-database'></use></svg></label><div class='xr-index-data'><pre>PandasIndex(Index([6295035.0, 6295005.0, 6294975.0, 6294945.0, 6294915.0, 6294885.0,\n",
       "       6294855.0, 6294825.0, 6294795.0, 6294765.0,\n",
       "       ...\n",
       "       6291375.0, 6291345.0, 6291315.0, 6291285.0, 6291255.0, 6291225.0,\n",
       "       6291195.0, 6291165.0, 6291135.0, 6291105.0],\n",
       "      dtype=&#x27;float64&#x27;, name=&#x27;y&#x27;, length=132))</pre></div></li><li class='xr-var-item'><div class='xr-index-name'><div>x</div></div><div class='xr-index-preview'>PandasIndex</div><div></div><input id='index-340e42a4-3f7a-4831-a447-8b848f74479a' class='xr-index-data-in' type='checkbox'/><label for='index-340e42a4-3f7a-4831-a447-8b848f74479a' title='Show/Hide index repr'><svg class='icon xr-icon-database'><use xlink:href='#icon-database'></use></svg></label><div class='xr-index-data'><pre>PandasIndex(Index([356745.0, 356775.0, 356805.0, 356835.0, 356865.0, 356895.0, 356925.0,\n",
       "       356955.0, 356985.0, 357015.0,\n",
       "       ...\n",
       "       360285.0, 360315.0, 360345.0, 360375.0, 360405.0, 360435.0, 360465.0,\n",
       "       360495.0, 360525.0, 360555.0],\n",
       "      dtype=&#x27;float64&#x27;, name=&#x27;x&#x27;, length=128))</pre></div></li></ul></div></li><li class='xr-section-item'><input id='section-9abce8e2-c68c-4b43-8959-ede28796a743' class='xr-section-summary-in' type='checkbox'  checked><label for='section-9abce8e2-c68c-4b43-8959-ede28796a743' class='xr-section-summary' >Attributes: <span>(2)</span></label><div class='xr-section-inline-details'></div><div class='xr-section-details'><dl class='xr-attrs'><dt><span>crs :</span></dt><dd>EPSG:32719</dd><dt><span>grid_mapping :</span></dt><dd>spatial_ref</dd></dl></div></li></ul></div></div>"
      ],
      "text/plain": [
       "<xarray.DataArray (time: 561, y: 132, x: 128)>\n",
       "dask.array<where, shape=(561, 132, 128), dtype=float32, chunksize=(561, 50, 50), chunktype=numpy.ndarray>\n",
       "Coordinates:\n",
       "  * time         (time) datetime64[ns] 2010-01-06T14:25:03.486099 ... 2023-12...\n",
       "  * y            (y) float64 6.295e+06 6.295e+06 ... 6.291e+06 6.291e+06\n",
       "  * x            (x) float64 3.567e+05 3.568e+05 ... 3.605e+05 3.606e+05\n",
       "    spatial_ref  int64 0\n",
       "Attributes:\n",
       "    crs:           EPSG:32719\n",
       "    grid_mapping:  spatial_ref"
      ]
     },
     "execution_count": 12,
     "metadata": {},
     "output_type": "execute_result"
    }
   ],
   "source": [
    "ndvi"
   ]
  },
  {
   "cell_type": "markdown",
   "id": "096fbc2d-01fc-49cf-a66f-cf3810d0d61f",
   "metadata": {
    "tags": []
   },
   "source": [
    "<br />\n",
    "\n",
    "También observamos que `ndvi` fue \"cortado\" al buffer asociado al polígono de interés."
   ]
  },
  {
   "cell_type": "code",
   "execution_count": null,
   "id": "dd7d70e4-b579-497c-948f-25a82ba2cd5f",
   "metadata": {
    "tags": []
   },
   "outputs": [
    {
     "name": "stderr",
     "output_type": "stream",
     "text": [
      "/env/lib/python3.10/site-packages/rasterio/warp.py:344: NotGeoreferencedWarning: Dataset has no geotransform, gcps, or rpcs. The identity matrix will be returned.\n",
      "  _reproject(\n",
      "/env/lib/python3.10/site-packages/rasterio/warp.py:344: NotGeoreferencedWarning: Dataset has no geotransform, gcps, or rpcs. The identity matrix will be returned.\n",
      "  _reproject(\n",
      "/env/lib/python3.10/site-packages/rasterio/warp.py:344: NotGeoreferencedWarning: Dataset has no geotransform, gcps, or rpcs. The identity matrix will be returned.\n",
      "  _reproject(\n"
     ]
    }
   ],
   "source": [
    "ndvi.isel(time = 1).plot()"
   ]
  },
  {
   "cell_type": "markdown",
   "id": "8b397b7a-180e-4ab4-ac9d-3da869937a80",
   "metadata": {},
   "source": [
    "***\n",
    "## PELT - Detección de cambios a nivel de píxeles\n",
    "En esta sección utilizaremos una implementación del algoritmo \"Linearly penalized segmentation\" del paquete [rupture](https://centre-borelli.github.io/ruptures-docs/).\n",
    "Esta implementación detecta los cambios píxel a píxel en un objeto xarray.DataArray.\n",
    "\n",
    "Para cargar las funciones requeridas debemos ejecutar la siguiente celda:"
   ]
  },
  {
   "cell_type": "code",
   "execution_count": null,
   "id": "6300fff3-4aa4-4acf-9a73-e3f5fc47e9cd",
   "metadata": {
    "tags": []
   },
   "outputs": [],
   "source": [
    "import samsara.pelt as spelt"
   ]
  },
  {
   "cell_type": "markdown",
   "id": "15d21fd9-a074-4bb1-bae7-7f6599c50770",
   "metadata": {
    "tags": []
   },
   "source": [
    "Los parámetros que utilizaremos en PELT son:\n",
    "* min_size: 3  - Implica que deben existir al menos 3 elementos (`time`) entre un `bkp` y otro.\n",
    "* jump: 1      - Es la única opción para el modelo \"rbf\"\n",
    "\n",
    "Otros parámetros que utilizaremos son:\n",
    "* n_breaks: 5                 - Definimos un máximo de 5 `bkp`s, \n",
    "* start_date: \"2016-01-01\"    - Solo se guardan los `bkp`s que ocurran desde \"2016-01-01\" en adelante (pero se usa la serie completa para entrenar PELT)"
   ]
  },
  {
   "cell_type": "code",
   "execution_count": null,
   "id": "868eb6b9-4e5e-43ea-a4c5-2f5957ba1d62",
   "metadata": {
    "tags": []
   },
   "outputs": [],
   "source": [
    "# rupture parameters\n",
    "model = \"rbf\"\n",
    "min_size = 3\n",
    "jump = 1\n",
    "penalty = 30\n",
    "\n",
    "# samsara parameters\n",
    "n_breaks = 5\n",
    "start_date = \"2016-01-01\""
   ]
  },
  {
   "cell_type": "markdown",
   "id": "d47840ef-04f4-4b7d-895b-eb1d50891a91",
   "metadata": {},
   "source": [
    "<br />\n",
    "Para ejecutar PELT utilizamos la siguiente celda "
   ]
  },
  {
   "cell_type": "code",
   "execution_count": null,
   "id": "9b8f3169-98e0-43d2-bc63-384192a565e5",
   "metadata": {
    "tags": []
   },
   "outputs": [],
   "source": [
    "fpelt = spelt.pelt(\n",
    "    array = ndvi,\n",
    "    n_breaks=n_breaks, \n",
    "    penalty=penalty, \n",
    "    start_date=start_date,\n",
    "    model=model,\n",
    "    min_size=min_size,\n",
    "    jump = 5,\n",
    "    backend = 'xarray') #TODO: test with 'dask'"
   ]
  },
  {
   "cell_type": "markdown",
   "id": "218c6cd8-c184-4577-aa4a-4d4e4ff2b29b",
   "metadata": {},
   "source": [
    "<br />\n",
    "\n",
    "La ejecución anterior genera el objeto `fpelt` como `future`, es decir, aún no se ha ejecutado, pero nos da una idea de cómo es su estructura:"
   ]
  },
  {
   "cell_type": "code",
   "execution_count": null,
   "id": "17c32be9-6ea1-4551-9fd9-a8238d03739a",
   "metadata": {
    "tags": []
   },
   "outputs": [],
   "source": [
    "fpelt"
   ]
  },
  {
   "cell_type": "markdown",
   "id": "85dbfd82-97ca-4acc-ae98-7f4a9e840ddd",
   "metadata": {
    "tags": []
   },
   "source": [
    "* El objeto de salida es un `xarray.Dataset` con 2 variables `magnitude` y `date`.\n",
    "    * La variable `magnitude` corresponde al delta de `ndvi` después vs antes del `bkp`.\n",
    "    * La variable `date` corresponde a la fecha en la cual ocurre el `bkp` (`datetime64[s]` guardado como `float64`).\n",
    "* Tiene 3 dimensiones `y`, `x`, y `bkp`.\n",
    "    * Las dimensiones `y` y `x` corresponden a las mismas dimensiones `y` y `x` del objeto de entrada `ndvi`.\n",
    "    * La dimensión `bkp` tiene 5 elementos, debido al argumento `n_breaks`.\n",
    "\n",
    "Para ejecutar el objeto `fpelt` y guardar sus resultados en memoria debemos correr la siguiente línea, donde `%time` se agrega para conocer el tiempo que demora la ejecución."
   ]
  },
  {
   "cell_type": "code",
   "execution_count": null,
   "id": "3f710b1c-b5bb-44e2-be9d-1678bc783831",
   "metadata": {
    "tags": []
   },
   "outputs": [],
   "source": [
    "%time pelt_output = fpelt.compute()"
   ]
  },
  {
   "cell_type": "markdown",
   "id": "9e3dc533-1259-4ce3-bb55-5d680e08cf5f",
   "metadata": {
    "tags": []
   },
   "source": [
    "<br />\n",
    "\n",
    "Podemos graficar los resultados de `pelt_output`"
   ]
  },
  {
   "cell_type": "code",
   "execution_count": null,
   "id": "7b2dbffd-feb2-43ca-9d1d-b439b433d808",
   "metadata": {
    "tags": []
   },
   "outputs": [],
   "source": [
    "pelt_output.magnitude.isel(bkp = 0).plot()"
   ]
  },
  {
   "cell_type": "code",
   "execution_count": null,
   "id": "8657f0fe-18cc-4d6d-b71d-1282c1b0d3ac",
   "metadata": {
    "tags": []
   },
   "outputs": [],
   "source": [
    "pelt_output.date.isel(bkp = 0).plot()"
   ]
  },
  {
   "cell_type": "markdown",
   "id": "d9705f11-582d-4fba-a063-d69774b783e4",
   "metadata": {},
   "source": [
    "<br />\n",
    "\n",
    "No parece muy fácil de interpretar el gráfico anterior debido al rango de valores de `date`. Para corregir esto debemos utilizar la función `spelt.datetime_to_year_fraction` como en la siguiente celda"
   ]
  },
  {
   "cell_type": "code",
   "execution_count": null,
   "id": "d779fdda-6804-42b3-81b5-1456b8b10295",
   "metadata": {
    "tags": []
   },
   "outputs": [],
   "source": [
    "## Obtener dates in year.decimals\n",
    "pelt_output.date.data = spelt.datetime_to_year_fraction(pelt_output.date.data.astype('datetime64[s]'))"
   ]
  },
  {
   "cell_type": "code",
   "execution_count": null,
   "id": "0b5cfbcf-b381-4408-80f9-94ff5664c0ca",
   "metadata": {
    "tags": []
   },
   "outputs": [],
   "source": [
    "pelt_output.date.isel(bkp = 0).plot()"
   ]
  },
  {
   "cell_type": "markdown",
   "id": "fea01547-1346-4a4f-b3e8-74d9c161623b",
   "metadata": {
    "tags": []
   },
   "source": [
    "***\n",
    "## Neighborhood statistics - Estadísticas de vecindario\n",
    "\n",
    "Las estadísticas de vecindario corresponde a la ejecución de un filtro (convolución), en la cual se recorre una imagen píxel a píxel, se extrae un kernel o vecindario, se computan ciertas funciones y se asigna el resultado al píxel central del kernel.\n",
    "\n",
    "En esta sección obtendremos dos estadísticas de vecindario, la desviación estándar de las fechas y el conteo de píxeles con fechas. Esto con un kernel cuadrado de radio 50.\n",
    "\n",
    "Para cargar las funciones requeridas debemos ejecutar la siguiente celda:"
   ]
  },
  {
   "cell_type": "code",
   "execution_count": null,
   "id": "6a21b110-716e-4a65-ac80-92569c7d7a26",
   "metadata": {
    "tags": []
   },
   "outputs": [],
   "source": [
    "import samsara.filter as sfilter\n",
    "import samsara.stats.neighborhood as sns"
   ]
  },
  {
   "cell_type": "markdown",
   "id": "beb6ea41-0b7b-42ec-9f8f-e8c4c5220f1a",
   "metadata": {
    "tags": []
   },
   "source": [
    "<br />\n",
    "\n",
    "Debido a la naturaleza del proyecto, interesan los píxeles con deltas de `ndvi` negativos. Asimismo, interesan los píxeles con el último delta `ndvi` negativo detectado por PELT.\n",
    "\n",
    "Ejecutaremos la siguiente celda para obtener el último delta de `ndvi` negativo y su fecha:"
   ]
  },
  {
   "cell_type": "code",
   "execution_count": null,
   "id": "265fe08c-98fa-4ec2-99a8-6a8c36a80d11",
   "metadata": {
    "tags": []
   },
   "outputs": [],
   "source": [
    "pelt_filtered = sfilter.filter_by_variable(pelt_output, filter_type = 'last_negative', variable = 'magnitude').chunk({'x':75, 'y':75})\n",
    "pelt_filtered"
   ]
  },
  {
   "cell_type": "markdown",
   "id": "e58f6171-9b83-4809-b115-48a0bcf773e4",
   "metadata": {},
   "source": [
    "En el resultado de la celda anterior nos indica que se mantienen tanto las variables `magnitude` y `date`, asi como las dimensiones `y` y `x`. Sin embargo, ya no contamos con la dimensión `bkp`.\n",
    "\n",
    "Con el objeto `pelt_filtered` utilizamos las funciones `sns.stats` para obtener estadísticas de vecindario. El argumento `kernel` permite definir el vecindario, si se entrega un entero, el vecindario será un kernel cuadrado de radio igual al entero entregado.\n",
    "\n",
    "Podemos ejecutar la siguiente celda para generar los objetos requeridos:\n",
    "> Recordemos que `neighbor_radius` tiene un valor de 50."
   ]
  },
  {
   "cell_type": "code",
   "execution_count": null,
   "id": "6de34cf7-1d82-46ae-afcc-2f588bf1c6df",
   "metadata": {
    "tags": []
   },
   "outputs": [],
   "source": [
    "date_std = sns.stats(pelt_filtered, stat = \"std\", kernel = neighbor_radius, variable = 'date')\n",
    "date_cnt = sns.stats(pelt_filtered, stat = \"count\", kernel = neighbor_radius, variable = 'date')"
   ]
  },
  {
   "cell_type": "markdown",
   "id": "7c40e7d0-de31-4c99-834c-9c57b3ce1401",
   "metadata": {},
   "source": [
    "<br />\n",
    "\n",
    "Adicionalmente, vamos a guardar tres resultados en un `xarray.Dataset` llamado `inputImg`. \n",
    "\n",
    "Estos resultados son `pelt_filtered.magnitude`, `date_std` y `date_cnt`."
   ]
  },
  {
   "cell_type": "code",
   "execution_count": null,
   "id": "0dd205fc-4035-4db0-b132-b39a923e6e03",
   "metadata": {
    "tags": []
   },
   "outputs": [],
   "source": [
    "inputImg = pelt_filtered.magnitude.to_dataset(name = 'magnitude', promote_attrs = True)\n",
    "inputImg[['ngbh_stdev']] = date_std\n",
    "inputImg[['ngbh_count']] = date_cnt"
   ]
  },
  {
   "cell_type": "markdown",
   "id": "34f59d99-67c2-4a8d-a8b8-ac6da6cab589",
   "metadata": {
    "tags": []
   },
   "source": [
    "<br />\n",
    "Podemos observar estas variables de manera gráfica"
   ]
  },
  {
   "cell_type": "code",
   "execution_count": null,
   "id": "0a5f4d09-76b2-449e-9d3f-948cd1a742a5",
   "metadata": {
    "tags": []
   },
   "outputs": [],
   "source": [
    "fig, axes = plt.subplots(1, 3, figsize=(15, 4))\n",
    "\n",
    "for i, var in enumerate(inputImg.data_vars):\n",
    "    inputImg[var].plot(ax=axes[i])\n",
    "    axes[i].set_title(var)"
   ]
  },
  {
   "cell_type": "markdown",
   "id": "28ff60c0-be96-492e-af6c-2171cce208a5",
   "metadata": {
    "tags": []
   },
   "source": [
    "***\n",
    "## GLCM\n",
    "\n",
    "En esta sección calcularemos 7 métricas de texturas desde la matriz *Gray-Level Co-occurrence Matrix (GLCM)*. La librería [SAMSARA](https://github.com/Data-Observatory/lib-samsara) utiliza una implementación de GLCM de [scikit-image](https://scikit-image.org/docs/stable/auto_examples/features_detection/plot_glcm.html), pero aplicado un filtro con un `kernel` cuadrado de radio 7 y cuya función es calcular GLCM y sus texturas.\n",
    "\n",
    "Para cargar las funciones requeridas debemos ejecutar la siguiente celda:"
   ]
  },
  {
   "cell_type": "code",
   "execution_count": null,
   "id": "d73ee4dd-73f7-47f4-9619-d8e290344586",
   "metadata": {
    "tags": []
   },
   "outputs": [],
   "source": [
    "import samsara.kernel as skernel\n",
    "import samsara.stats.glcm as sglcm"
   ]
  },
  {
   "cell_type": "markdown",
   "id": "4d8cdcd5-38f6-4030-a76a-4c6303e04686",
   "metadata": {},
   "source": [
    "### Suavizamiento previo\n",
    "Previo a la obtención de las texturas se adoptó un proceso de suavizado de las magnitudes negativas de `NDVI`. Este suavizado consiste en la ejecución de un filtro circular de media de radio 15. Luego, para cada pixel, si el valor absoluto de la sustracción entre el `NDVI` y el resultado filtrado es mayor que 0.2, se utiliza el resultado filtrado, en caso contrario se mantiene el valor original de `NDVI`.\n",
    "\n",
    "Primero, generamos el kernel circular de radio 15 ejecutando la siguiente celda:"
   ]
  },
  {
   "cell_type": "code",
   "execution_count": null,
   "id": "837a62f3-8044-4434-909f-b5637bdc16fb",
   "metadata": {
    "tags": []
   },
   "outputs": [],
   "source": [
    "r15_circle_kernel = skernel.circle(smooth_radius)"
   ]
  },
  {
   "cell_type": "markdown",
   "id": "ce55788d-08e3-4ec0-9cbe-195cd21d0408",
   "metadata": {},
   "source": [
    "<br />\n",
    "Podemos explorar la forma del kernel ejecutando la siguiente celda:"
   ]
  },
  {
   "cell_type": "code",
   "execution_count": null,
   "id": "8eb53b0b-9af9-4a97-aa92-ea843ac99521",
   "metadata": {
    "tags": []
   },
   "outputs": [],
   "source": [
    "plt.imshow(r15_circle_kernel.data, interpolation='none')\n",
    "plt.show()"
   ]
  },
  {
   "cell_type": "markdown",
   "id": "9e3f1683-fe2a-4160-8dc5-362d670fea08",
   "metadata": {},
   "source": [
    "<br />\n",
    "\n",
    "Similar a lo revisado en estadísticas de vecindarios, utilizamos `sns.stats` para obtener el filtro de media para el kernel circular."
   ]
  },
  {
   "cell_type": "code",
   "execution_count": null,
   "id": "79ddb28e-0454-4add-aaac-87253fa71e67",
   "metadata": {
    "tags": []
   },
   "outputs": [],
   "source": [
    "focal =  sns.stats(inputImg, stat = \"mean\", kernel = r15_circle_kernel, variable = 'magnitude')"
   ]
  },
  {
   "cell_type": "markdown",
   "id": "a603b36f-22b6-42ed-bc3c-dd242ec51c92",
   "metadata": {
    "tags": []
   },
   "source": [
    "<br />\n",
    "Posteriormente aplicamos el suavizado ejecutando la siguiente celda:"
   ]
  },
  {
   "cell_type": "code",
   "execution_count": null,
   "id": "7166d443-7c28-473f-81a4-90faee1a1ec5",
   "metadata": {
    "tags": []
   },
   "outputs": [],
   "source": [
    "pelt_filtered_magnitude_smooth = focal.where(abs(inputImg.magnitude - focal) > 0.2, other=inputImg.magnitude)"
   ]
  },
  {
   "cell_type": "markdown",
   "id": "58da7130-3482-436b-96ca-b117a70d5278",
   "metadata": {
    "tags": []
   },
   "source": [
    "<br />\n",
    "\n",
    "Podemos observar el resultado de la suavización de manera gráfica:"
   ]
  },
  {
   "cell_type": "code",
   "execution_count": null,
   "id": "c8c6b9be-f410-484c-b644-2b717bb0e592",
   "metadata": {
    "tags": []
   },
   "outputs": [],
   "source": [
    "pelt_filtered_magnitude_smooth.plot()"
   ]
  },
  {
   "cell_type": "markdown",
   "id": "6a56b307-356d-4a28-b239-e2a300dd8a37",
   "metadata": {},
   "source": [
    "### Transformación de valores\n",
    "\n",
    "Ahora, debemos transformar el objeto anterior a valores enteros para que sean utilizados en GLCM. \n",
    "Para esto utilizamos la función `xr_transform` definida en la siguiente celda, y definimos 8 niveles distintos. Si el archivo tiene `nan`s serán 9 niveles, reservando un nivel para los `nan`s y luego excluyendolos de la matrix de co-ocurrencia de valores grises a través del argumento `nan_supression = 3`."
   ]
  },
  {
   "cell_type": "code",
   "execution_count": null,
   "id": "928d3d70-cc9b-4cc8-86c6-c0e6a8829220",
   "metadata": {},
   "outputs": [],
   "source": [
    "def xr_transform(xarray, levels, dtype = None):\n",
    "    # Esta función reduce la resolución radiométrica de la imagen\n",
    "    xr = xarray.copy()\n",
    "    if dtype is None:\n",
    "        dtype = xarray.dtype\n",
    "    min = np.nanmin(xr.data)\n",
    "    max = np.nanmax(xr.data)\n",
    "    zi = (xr - min) / (max - min)\n",
    "    li = (zi*(levels - 1))\n",
    "    if xr.isnull().any().data == True:\n",
    "         li = np.nan_to_num(li + 1)\n",
    "    xr.data = li.round().astype(dtype)\n",
    "    return(xr)"
   ]
  },
  {
   "cell_type": "code",
   "execution_count": null,
   "id": "e9936050-94fc-4208-ac7b-72f644a6612c",
   "metadata": {
    "tags": []
   },
   "outputs": [],
   "source": [
    "levels = 2**3\n",
    "if (pelt_filtered_magnitude_smooth.isnull().any().data):\n",
    "    new_levels = int(levels + 1)\n",
    "else:\n",
    "    new_levels = int(levels)\n",
    "        \n",
    "data3 = xr_transform(pelt_filtered_magnitude_smooth, levels = levels, dtype = 'uint8')"
   ]
  },
  {
   "cell_type": "markdown",
   "id": "f27c918f-ab4f-4432-9884-5cdf24bb54da",
   "metadata": {
    "tags": []
   },
   "source": [
    "<br />\n",
    "\n",
    "Podemos observar el resultado de la transformación de manera gráfica:"
   ]
  },
  {
   "cell_type": "code",
   "execution_count": null,
   "id": "e772cd45-a111-45b0-9675-8f33e24cd93d",
   "metadata": {
    "tags": []
   },
   "outputs": [],
   "source": [
    "data3.plot()"
   ]
  },
  {
   "cell_type": "markdown",
   "id": "a80a40d8-de73-4032-96ba-d239adbc15af",
   "metadata": {
    "tags": []
   },
   "source": [
    "### Aplicación de GLCM\n",
    "\n",
    "Ya hemos generado el archivo de entrada para obtener las texturas de GLCM, ahora debemos definir:\n",
    "* radio del kernel - debe ser mayor o igual a la mayor distancia. Fue previamente definido en `glcm_radius`\n",
    "* distancias - número de píxeles desde el centro del kernel que se utilizarán para calcular la matriz de co-ocurrencia de valores grises para cada ángulo.\n",
    "* ángulos - hacia dónde se calcularán los GLCM para cada distancia. Los ángulos se entregan en radianes, con valor cero hacia el Este y aumentando en sentido anti-horario."
   ]
  },
  {
   "cell_type": "code",
   "execution_count": null,
   "id": "332d0ddf-a742-4dc6-9706-83a08712dbde",
   "metadata": {
    "tags": []
   },
   "outputs": [],
   "source": [
    "distances = [1, 4, 7]\n",
    "angles = [0*(math.pi/4), 1*(math.pi/4), 2*(math.pi/4), 3*(math.pi/4)]"
   ]
  },
  {
   "cell_type": "markdown",
   "id": "52352736-5a41-47c2-ab21-5f7130f51610",
   "metadata": {},
   "source": [
    "<br />\n",
    "\n",
    "Además, definiremos otros parámetros para el calculo de GLCM y texturas:\n",
    "* symmetric: True - Parámetro interno de [GLCM de skimage](https://scikit-image.org/docs/stable/api/skimage.feature.html#skimage.feature.graycomatrix). Si `symmetric` es True, se ignora el orden de los pares de valores, siendo el píxel (i, j) y (j, i) contados cuando se pide (i, j). Esto ayuda a disminuir la intensidad de cómputo y por esto no se calculan las co-ocurrencias todas las direcciones.\n",
    "* normed: True - Parámetro interno de [GLCM de skimage](https://scikit-image.org/docs/stable/api/skimage.feature.html#skimage.feature.graycomatrix). Si `normed` es True, cada matriz P[:, :, d, theta] es dividida por el número acumulado de co-ocurrencias, resultando en una matriz que suma 1.\n",
    "\n",
    "* skip_nan: True - Parámetro de samsara. Si `skip_nan` es True, y el pixel central de un kernel tiene valor cero, asigna `nan` al resultado de las texturas.\n",
    "* nan_supression: 3 - Parámetro de samsara. \n",
    "    * Si `nan_supression` es 0, mantiene los valores de la matriz de co-ocurrencias.\n",
    "    * Si `nan_supression` es 1, reasigna el valor del primer elemento de la matriz de co-ocurrencias a 0. El primer elemento corresponde a la intersección de la primera fila y la primera columna.\n",
    "    * Si `nan_supression` es 2, reasigna el valor de la primera fila y la primera columna de la matriz de co-ocurrencias a 0.\n",
    "    * Si `nan_supression` es 3, elimina la primera fila y columna de la matriz de co-ocurrencias. Recomendado si se reserva un nivel para `nan`s \n",
    "* rescale_normed: True - Parámetro de samsara. Si `normed` es True, re-escala los valores de cada matrix de co-ocurrencia luego de utilizar `nan_supression` para que vuelva a resultar en una matriz que suma 1.\n",
    "\n",
    "Estos parámetros se guardaran en un diccionario llamado `mb_kwargs`, al ejecutar la siguiente celda:"
   ]
  },
  {
   "cell_type": "code",
   "execution_count": null,
   "id": "fac8da73-d265-426a-ac8c-bbe35e67c2a9",
   "metadata": {
    "tags": []
   },
   "outputs": [],
   "source": [
    "mb_kwargs = {\n",
    "    'distances' : distances,\n",
    "    'angles' : angles,\n",
    "    'levels' : new_levels,\n",
    "    'symmetric' : True,\n",
    "    'normed' : True,\n",
    "    'skip_nan' : True,\n",
    "    'nan_supression' : 3,\n",
    "    'rescale_normed' : True,\n",
    "}"
   ]
  },
  {
   "cell_type": "markdown",
   "id": "f74514b0-15be-4cfd-b474-bb2e1b6118b5",
   "metadata": {
    "tags": []
   },
   "source": [
    "<br />\n",
    "\n",
    "Luego, se calculan las texturas al ejecutar la siguiente celda:"
   ]
  },
  {
   "cell_type": "code",
   "execution_count": null,
   "id": "55d93f86-4ed8-4f04-8947-4f39e9b8e33b",
   "metadata": {
    "tags": []
   },
   "outputs": [],
   "source": [
    "glcm = sglcm.glcm_textures(data3, radius = glcm_radius, n_feats = 7, **mb_kwargs)"
   ]
  },
  {
   "cell_type": "markdown",
   "id": "61700ab5-2703-4129-8bfc-074fe45ad1c2",
   "metadata": {
    "tags": []
   },
   "source": [
    "<br />\n",
    "\n",
    "Observamos que `glcm`, tiene 3 dimensiones, `prop`, `y`, y `x`.\n",
    "Los elementos de `prop` son:\n",
    "* `asm` o segundo momento angular: Representa la uniformidad de distribución de niveles grises en la imagen (kernel), varía desde el inverso del cuadrado del total de niveles de grises hasta 1, donde 1 representa una imagen constante.\n",
    "* `contrast` o contraste: Es una medida de variación local presente en una imagen (kernel) y varía desde 0 hasta el número total de niveles de grises menos uno al cuadrado, donde un contraste alto representa una alta variación.\n",
    "* `corr` o correlación: Es una medida de la dependencia linear de valores grises con respecto a píxeles vecinos.\n",
    "* `var` o varianza: Medida de heterogeneidad de niveles grises en la imagen.\n",
    "* `idm` o  momento diferencial inverso: Mide la homogeneidad local de una imagen (kernel), valores altos representan mayor homogeneidad.\n",
    "* `savg` o suma promedio: Es la media de las sumas de pixeles que co-ocurren en la imagen (kernel).\n",
    "* `entropy` o entropía: Es una medición estadística de aleatoridad y varía desde 0 hasta infinito."
   ]
  },
  {
   "cell_type": "code",
   "execution_count": null,
   "id": "edaca6c7-838c-4cea-80db-15d17b934f7c",
   "metadata": {
    "tags": []
   },
   "outputs": [],
   "source": [
    "glcm"
   ]
  },
  {
   "cell_type": "markdown",
   "id": "415db3f9-4160-4a04-9a65-3039f860b300",
   "metadata": {
    "tags": []
   },
   "source": [
    "<br />\n",
    "\n",
    "Podemos visualizar los resultados a través del código de la siguiente celda, donde el primer elemento corresponde a los niveles de grises que entraron a la función de GLCM y, el resto de los elementos son las textura calculadas."
   ]
  },
  {
   "cell_type": "code",
   "execution_count": null,
   "id": "fd6c9822-b346-42cd-b0bc-6cb895970f28",
   "metadata": {
    "tags": []
   },
   "outputs": [],
   "source": [
    "f, axs = plt.subplots(2, 4, sharey=False, figsize=(20, 8))\n",
    "data3.plot(ax = axs[0,0])\n",
    "for count, elem in enumerate(glcm):\n",
    "    elem.plot(ax = axs[(count+1)//4, (count+1)%4])"
   ]
  },
  {
   "cell_type": "markdown",
   "id": "64c2197d-97e3-46db-b4ea-54c6c575d719",
   "metadata": {},
   "source": [
    "<br />\n",
    "\n",
    "Al igual que en la sección anterior, vamos a guardar estos resultados en el `xarray.Dataset` llamado `inputImg`."
   ]
  },
  {
   "cell_type": "code",
   "execution_count": null,
   "id": "59dc9e9e-498b-4eec-9eec-c89516003d11",
   "metadata": {
    "tags": []
   },
   "outputs": [],
   "source": [
    "inputImg = xr.merge([inputImg, glcm.to_dataset(dim=\"prop\", promote_attrs=True)])"
   ]
  },
  {
   "cell_type": "markdown",
   "id": "f0d68af1-a591-4a84-aa2b-19535044b9af",
   "metadata": {},
   "source": [
    "***\n",
    "## Aplicación del modelo Random Forest\n",
    "\n",
    "Se utilizó el paquete de sklearn para entrenar un modelo de [clasificación de Random Forest](https://scikit-learn.org/stable/modules/generated/sklearn.ensemble.RandomForestClassifier.html).\n",
    "\n",
    "El modelo ya fue entrenado, y podemos cargarlo usando la siguiente celda:"
   ]
  },
  {
   "cell_type": "code",
   "execution_count": null,
   "id": "50dc10d9-28d7-4d68-8e17-af64eec249d4",
   "metadata": {},
   "outputs": [],
   "source": [
    "rf_model = \"RF_v03_all-trained_negative_of_first.joblib\"\n",
    "nname = rf_model.split(\".\")[0]\n",
    "classifier = joblib.load(rf_model)"
   ]
  },
  {
   "cell_type": "markdown",
   "id": "62f27d23-8810-411f-8fac-b847a12d764b",
   "metadata": {
    "tags": []
   },
   "source": [
    "<br />\n",
    "\n",
    "El paquete sklearn no funciona directamente con xarray. Afortunadamente la función `predict_xr` disponible en `dea_tools` permite ejecutar el modelo en un `xarray.Dataset` que contenga los nuevos datos."
   ]
  },
  {
   "cell_type": "code",
   "execution_count": null,
   "id": "ae9dc5c6-e1ab-4538-ac91-fc8d5c9da8c5",
   "metadata": {},
   "outputs": [],
   "source": [
    "inputImgf = inputImg.chunk({\"x\": 100, \"y\": 100}) #TODO: idealmente eliminar el cambio de nombre en las variables\n",
    "classified = predict_xr(model = classifier, \n",
    "                        input_xr = inputImgf, \n",
    "                        clean=True).rename(name_dict = {\"Predictions\": \"y_predict\"}).compute()\n",
    "classified.attrs = inputImg.attrs"
   ]
  },
  {
   "cell_type": "markdown",
   "id": "20a9a5ca-d532-413c-b174-b9d83ead0567",
   "metadata": {},
   "source": [
    "<br />\n",
    "\n",
    "Podemos explorar los resultados de `classified`, que entrega un `xarray.Dataset` con `y_predict` como variable"
   ]
  },
  {
   "cell_type": "code",
   "execution_count": null,
   "id": "1bcdafe6-54ce-4fab-9d2d-106d50226e61",
   "metadata": {
    "tags": []
   },
   "outputs": [],
   "source": [
    "classified"
   ]
  },
  {
   "cell_type": "markdown",
   "id": "2efdb3fa-4c3d-4d09-945a-0292f29e4e45",
   "metadata": {},
   "source": [
    "<br />\n",
    "\n",
    "Podemos visualizar este resultado de manera espacial ejecutando la siguiente celda"
   ]
  },
  {
   "cell_type": "code",
   "execution_count": null,
   "id": "2c3f1a0f-2451-4fb2-870e-83c579e4e1f7",
   "metadata": {
    "tags": []
   },
   "outputs": [],
   "source": [
    "classified.y_predict.plot()"
   ]
  },
  {
   "cell_type": "markdown",
   "id": "13117827-a139-4de0-9756-ea5585151cc6",
   "metadata": {},
   "source": [
    "***\n",
    "## Máscara por LandCover\n",
    "\n",
    "Utilizaremos un LandCover para excluir aquellas áreas que no sean de interés, es decir, que no sean ni matorrales ni bosque.\n",
    "\n",
    "Con la siguiente celda podemos cargar un tif con el LandCover con valores 1 en áreas de interés y valores 0 en áreas a excluir.\n",
    "\n",
    "La función `reproject` se encarga de cambiar el sistema de referencia de coordenadas, alinear los raster, remuestrearlos, y recortarlos a la extensión de los datos objetivos."
   ]
  },
  {
   "cell_type": "code",
   "execution_count": null,
   "id": "5821fcc9-3662-43bf-a59e-ebaadb122446",
   "metadata": {
    "tags": []
   },
   "outputs": [],
   "source": [
    "# máscara por landcover especial y alinear a classified\n",
    "# lc_ = xr.load_dataset(\"LC_mix_matybosquenat2013-2014_cog.tif\", engine=\"rasterio\").band_data.squeeze()\n",
    "lc_ = xr.load_dataset(\"LC_union_4y7_cog.tif\", engine=\"rasterio\").band_data.squeeze()\n",
    "lc = lc_.rio.reproject(inputImg.rio.crs,\n",
    "                            transform=inputImg.rio.transform(),\n",
    "                            shape=inputImg.rio.shape,\n",
    "                            resampling = Resampling.nearest)"
   ]
  },
  {
   "cell_type": "markdown",
   "id": "256cca90-cccf-4ad2-9130-48bfce24bc9c",
   "metadata": {
    "tags": []
   },
   "source": [
    "<br />\n",
    "\n",
    "El landcover que se utilizará de máscara se puede visualizar en la siguiente celda:"
   ]
  },
  {
   "cell_type": "code",
   "execution_count": null,
   "id": "8ace8c7e-32b6-4357-b1d5-c1ef7cfe1bd3",
   "metadata": {
    "tags": []
   },
   "outputs": [],
   "source": [
    "lc.plot()"
   ]
  },
  {
   "cell_type": "markdown",
   "id": "20d69492-b93c-4750-9f72-8771792fd5ad",
   "metadata": {},
   "source": [
    "<br />\n",
    "\n",
    "La siguiente celda ejecuta la máscara y entrega 3 objetos:\n",
    "* sam_bool: es el booleano de sí hay cambio (1), y no hay cambio (0).\n",
    "* sam_mgs: es el delta ndvi del último negativo registrado.\n",
    "* sam_dates: es la fecha en la cual se registro el último delta ndvi negativo."
   ]
  },
  {
   "cell_type": "code",
   "execution_count": null,
   "id": "02facac7-75d9-4502-aecf-d5ff8642256a",
   "metadata": {},
   "outputs": [],
   "source": [
    "## Lugares con cambios\n",
    "sam_bool = xr.where((inputImg.magnitude.notnull()) & (lc.astype(bool)), classified.y_predict, 255).astype(dtype = \"uint8\").rio.write_crs(\"epsg:32719\", inplace=True).compute()\n",
    "\n",
    "## Magnitudes con cambios\n",
    "sam_mgs = xr.where((classified.y_predict == 1) & (lc.astype(bool)), inputImg.magnitude, np.nan).astype(dtype = \"float32\").rio.write_crs(\"epsg:32719\", inplace=True).compute()\n",
    "\n",
    "## Fechas con cambios\n",
    "sam_dates = xr.where((classified.y_predict == 1) & (lc.astype(bool)) & (inputImg.magnitude.notnull()), pelt_filtered.date, np.nan).astype(dtype = \"float32\").rio.write_crs(\"epsg:32719\", inplace=True).compute()"
   ]
  },
  {
   "cell_type": "markdown",
   "id": "56e415ef-2b93-47b0-b4e2-bdfac3a6e858",
   "metadata": {
    "tags": []
   },
   "source": [
    "<br />\n",
    "\n",
    "Se pueden observar los resultados de la máscara en la siguiente línea:"
   ]
  },
  {
   "cell_type": "code",
   "execution_count": null,
   "id": "4d41f270-ed1c-4102-8f06-7d8124466186",
   "metadata": {},
   "outputs": [],
   "source": [
    "sam_bool.where(sam_bool != 255).plot()"
   ]
  },
  {
   "cell_type": "code",
   "execution_count": null,
   "id": "d015e92b-b55a-4e4f-8be2-fe81104813cf",
   "metadata": {},
   "outputs": [],
   "source": [
    "sam_mgs.plot()"
   ]
  },
  {
   "cell_type": "code",
   "execution_count": null,
   "id": "0c559ea1-7d38-4fb2-afcd-9b1189de0538",
   "metadata": {},
   "outputs": [],
   "source": [
    "sam_dates.plot()"
   ]
  },
  {
   "cell_type": "markdown",
   "id": "ae1a057a-10a2-4ed3-a4e6-3d4fa0049445",
   "metadata": {},
   "source": [
    "<br />\n",
    "\n",
    "También podemos ejecutar la siguiente celda para visualizar el polígono de entrada."
   ]
  },
  {
   "cell_type": "code",
   "execution_count": null,
   "id": "f678d5fa-cc5b-4935-b580-e881ea828b3d",
   "metadata": {
    "tags": []
   },
   "outputs": [],
   "source": [
    "fig, ax = plt.subplots(figsize=(8, 5))\n",
    "sam_bool.where(sam_bool != 255).plot.pcolormesh(x='x', y='y', ax=ax)\n",
    "poly.plot(ax=ax, edgecolor='red', color='none')"
   ]
  },
  {
   "cell_type": "markdown",
   "id": "47be3fcd-9356-4967-9016-488f19871377",
   "metadata": {
    "tags": []
   },
   "source": [
    "<br />\n",
    "\n",
    "Y hacer zoom al polígono."
   ]
  },
  {
   "cell_type": "code",
   "execution_count": null,
   "id": "a12c1a00-4cb5-4b00-b606-e65362b604ac",
   "metadata": {
    "tags": []
   },
   "outputs": [],
   "source": [
    "plot_xmin, plot_ymin, plot_xmax, plot_ymax = poly.buffer(distance = 200).total_bounds\n",
    "\n",
    "fig, ax = plt.subplots(figsize=(8, 5))\n",
    "sam_bool.where(sam_bool != 255).plot.pcolormesh(x='x', y='y', ax=ax)\n",
    "poly.plot(ax=ax, edgecolor='red', color='none')\n",
    "\n",
    "ax.set_xlim(plot_xmin, plot_xmax)\n",
    "ax.set_ylim(plot_ymin, plot_ymax)"
   ]
  },
  {
   "cell_type": "markdown",
   "id": "1fcd343f-bb42-41c5-bff6-6e62438754d2",
   "metadata": {},
   "source": [
    "***\n",
    "## Exportar imágenes"
   ]
  },
  {
   "cell_type": "markdown",
   "id": "38cb2877-5fc3-4641-82db-e1559c49755d",
   "metadata": {
    "tags": []
   },
   "source": [
    "Finalmente, si queremos exportar los resultados anteriormente observados, debemos ejecutar la siguiente celda. Con ello, obtendremos 3 archivos cog (cloud optimized geotiff).\n",
    "\n",
    "[COG](https://www.cogeo.org/) es un tipo especial de archivo de imagen raster (GeoTIFF) optimizada para operaciones en la nube."
   ]
  },
  {
   "cell_type": "code",
   "execution_count": null,
   "id": "2edfb682-3f75-441c-8841-9fedec561d46",
   "metadata": {},
   "outputs": [],
   "source": [
    "out_folder = Path('outputs')\n",
    "out_folder.mkdir(parents=True, exist_ok=True)\n",
    "\n",
    "datacube.utils.cog.write_cog(\n",
    "    geo_im = sam_bool,\n",
    "    fname = out_folder / \"sam_bool.tif\",\n",
    "    overwrite = True,\n",
    "    nodata = 255,\n",
    "    compress='LZW'\n",
    ")\n",
    "\n",
    "datacube.utils.cog.write_cog(\n",
    "    geo_im = sam_mgs,\n",
    "    fname = out_folder / \"sam_mgs.tif\",\n",
    "    overwrite = True,\n",
    "    nodata = np.nan,\n",
    "    compress='LZW'\n",
    ")\n",
    "\n",
    "datacube.utils.cog.write_cog(\n",
    "    geo_im = sam_dates,\n",
    "    fname = out_folder / \"sam_dates.tif\",\n",
    "    overwrite = True,\n",
    "    nodata = np.nan,\n",
    "    compress='LZW'\n",
    ")"
   ]
  },
  {
   "cell_type": "markdown",
   "id": "510790ef-8fd7-47bd-affc-ca1353fe8778",
   "metadata": {
    "tags": []
   },
   "source": [
    "***\n",
    "## Cerrar Data Cube Chile\n",
    "\n",
    "Como buena práctica, recordemos ejecutaremos la siguiente celda para cerrar la conexión con Data Cube Chile antes de hacer \"log out\"."
   ]
  },
  {
   "cell_type": "code",
   "execution_count": null,
   "id": "6b1d0102-805c-4205-961b-3af89d49e012",
   "metadata": {
    "tags": []
   },
   "outputs": [],
   "source": [
    "client.close()\n",
    "cluster.close()"
   ]
  }
 ],
 "metadata": {
  "kernelspec": {
   "display_name": "Python 3 (ipykernel)",
   "language": "python",
   "name": "python3"
  },
  "language_info": {
   "codemirror_mode": {
    "name": "ipython",
    "version": 3
   },
   "file_extension": ".py",
   "mimetype": "text/x-python",
   "name": "python",
   "nbconvert_exporter": "python",
   "pygments_lexer": "ipython3",
   "version": "3.10.12"
  },
  "toc-autonumbering": true,
  "toc-showmarkdowntxt": false
 },
 "nbformat": 4,
 "nbformat_minor": 5
}
