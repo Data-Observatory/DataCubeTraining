{
 "cells": [
  {
   "cell_type": "markdown",
   "id": "74e21314-24d5-49c1-a43b-3dacc2e3e02d",
   "metadata": {
    "tags": []
   },
   "source": [
    "# Utilización de imágenes de diferentes sensores/plataformas no indexadas en Data Cube Chile (DCC)"
   ]
  },
  {
   "cell_type": "markdown",
   "id": "834fd07a-f840-493b-9d27-117a8cd91d60",
   "metadata": {
    "tags": []
   },
   "source": [
    "Durante este notebook exploraremos dos temáticas principales:\n",
    "\n",
    "* Leer imágenes directamente desde los buckets de s3 para imágenes no indexadas en DCC.\n",
    "* Manejar imágenes de diferentes extensiones, resoluciones, y alineaciones espaciales. Esto es sólo necesario para imágenes que no están indexadas al catálogo, como las que se describen a continuación. Si un producto está indexado en DCC, al hacer la consulta la alineación se realiza de manera automática y recomendamos hacerlo de esa manera.\n",
    "\n",
    "\n",
    "## Leer imágenes desde buckets de s3\n",
    "\n",
    "Para este ejemplo, utilizaremos imágenes desde s3 que estén vinculadas al Glaciar Grey.\n",
    "\n",
    "Para esto necesitamos conocer las rutas específicas de cada imágen en el bucket.\n",
    "\n",
    "Leamos el csv a continuación para conocer las rutas de cada imagen."
   ]
  },
  {
   "cell_type": "code",
   "execution_count": null,
   "id": "11255565-5083-4c53-8218-b5255f48f25e",
   "metadata": {
    "tags": []
   },
   "outputs": [],
   "source": [
    "import pandas as pd\n",
    "s3_images = pd.read_csv('s3_imagenes_disponibles.csv')"
   ]
  },
  {
   "cell_type": "code",
   "execution_count": null,
   "id": "2f4efc52-16da-4308-9f6f-46bd1d7ad486",
   "metadata": {
    "tags": []
   },
   "outputs": [],
   "source": [
    "s3_images"
   ]
  },
  {
   "cell_type": "markdown",
   "id": "f8c9fb5e-39e7-4ba6-a863-e967f6e54b58",
   "metadata": {
    "tags": []
   },
   "source": [
    "La columna `full_path` tiene la información que requerimos para obtener las imagenes desde s3.\n",
    "Sin embargo, aprovecharemos de filtrar el DataFrame para quedarnos con el sector, producto y tipo de nuestro interés."
   ]
  },
  {
   "cell_type": "code",
   "execution_count": null,
   "id": "621daf6a-2703-43ac-a373-4a8a299bd855",
   "metadata": {
    "tags": []
   },
   "outputs": [],
   "source": [
    "s3_images.loc[(s3_images['sector'] == 'Glaciar Grey')]"
   ]
  },
  {
   "cell_type": "markdown",
   "id": "17b5023d-9c88-46db-a74d-80dbb6e2aa25",
   "metadata": {},
   "source": [
    "Podemos observar que, en el bucket `s3://easido-prod-dc-data-projects/saf/` disponemos de imágenes `aerial` y `planet_scope` para el glaciar grey."
   ]
  },
  {
   "cell_type": "code",
   "execution_count": null,
   "id": "757524ec-c3a0-4b22-ab08-109f41b11dbc",
   "metadata": {
    "tags": []
   },
   "outputs": [],
   "source": [
    "s3_images.loc[(s3_images['sector'] == 'Glaciar Grey') & (s3_images['product'] == 'planet_scope') & (s3_images['type'] == 'mss')]"
   ]
  },
  {
   "cell_type": "markdown",
   "id": "d089b213-ca4e-4bdd-a177-2be4f5ac202d",
   "metadata": {},
   "source": [
    "De la misma forma, para `planet_scope` de tipo `mss` existen 4 escenas distintas con múltiples bandas espectrales.\n",
    "\n",
    "Carguemos una escena con todas sus bandas."
   ]
  },
  {
   "cell_type": "code",
   "execution_count": null,
   "id": "64dc871f-27be-4e34-92ce-d32ee158e7f2",
   "metadata": {
    "tags": []
   },
   "outputs": [],
   "source": [
    "from dask.distributed import Client, LocalCluster\n",
    "cluster = LocalCluster()\n",
    "client = Client(cluster)"
   ]
  },
  {
   "cell_type": "code",
   "execution_count": null,
   "id": "eba7d7e6-e9ea-48c7-8eaf-c8c6d80b6430",
   "metadata": {
    "tags": []
   },
   "outputs": [],
   "source": [
    "import datacube\n",
    "import xarray as xr\n",
    "import numpy as np\n",
    "import pandas as pd\n",
    "import matplotlib.pyplot as plt\n",
    "\n",
    "from odc.ui import DcViewer\n",
    "from datacube.utils import masking\n",
    "from datacube.utils.rio import configure_s3_access\n",
    "\n",
    "configure_s3_access(aws_unsigned=False, requester_pays=True, client=client)"
   ]
  },
  {
   "cell_type": "code",
   "execution_count": null,
   "id": "66f12c0d-891d-46eb-8290-d39a30f7c268",
   "metadata": {
    "tags": []
   },
   "outputs": [],
   "source": [
    "import rioxarray\n",
    "from rasterio.enums import Resampling"
   ]
  },
  {
   "cell_type": "code",
   "execution_count": null,
   "id": "d1177d9b-9736-4c42-a9b8-72394deea5ea",
   "metadata": {
    "tags": []
   },
   "outputs": [],
   "source": [
    "dc = datacube.Datacube(app='MSS and Multiplatform') "
   ]
  },
  {
   "cell_type": "code",
   "execution_count": null,
   "id": "25f7cb7e-ca78-4c9e-9482-abae7037c6b5",
   "metadata": {
    "tags": []
   },
   "outputs": [],
   "source": [
    "idx = (s3_images['sector'] == 'Glaciar Grey') & (s3_images['product'] == 'planet_scope') & (s3_images['type'] == 'mss') & (s3_images['scene'] == 'REQ_6794')\n",
    "bands_name = s3_images.loc[idx]['full_path'].values\n",
    "\n",
    "# Las bandas para que esten ordenadas de forma asendente según su longitud de onda deben tener el siguiente orden:\n",
    "band_order = [\"coastal\", \"blue\", \"green1\", \"green\", \"yellow\", \"red\", \"redegde\", \"nir\"]"
   ]
  },
  {
   "cell_type": "code",
   "execution_count": null,
   "id": "73a28460-0d1a-47d8-ad36-0ccc0a11a3a0",
   "metadata": {
    "tags": []
   },
   "outputs": [],
   "source": [
    "bandsi = [rioxarray.open_rasterio(f, chunks={'x':2048, 'y':2048}).squeeze(drop=True) for f in bands_name]\n",
    "\n",
    "# extraemos el nombre de cada banda usando los últimos caracteres, después de \"_\", de la lista\n",
    "for i, im in enumerate(bandsi):\n",
    "  bandsi[i].name = bands_name[i].split(\"_\")[-1].split('.')[0]\n",
    "\n",
    "# Filtramos según el orden y las bandas que definimos anteriormente:\n",
    "bandsif = [f for b in band_order for f in bandsi if b == f.name]\n",
    "\n",
    "ds = xr.merge(bandsif)"
   ]
  },
  {
   "cell_type": "code",
   "execution_count": null,
   "id": "5b92a237-bfcd-48e1-b7e9-1ca5eb8ba805",
   "metadata": {
    "tags": []
   },
   "outputs": [],
   "source": [
    "ds"
   ]
  },
  {
   "cell_type": "markdown",
   "id": "457d019e-952d-40db-97da-81e0a29905f1",
   "metadata": {},
   "source": [
    "> Alternativamente, podemos cargar la imagen de manera lazy con Dask, como lo hace DCC pasando como argumento ´chunks´ de la misma forma que las consultas habituales que se hacen al catálogo indexado: `bandsi = [rioxarray.open_rasterio(f, chunks={'x':2048, 'y':2048}).squeeze(drop=True) for f in bands_name]`. De esta forma, podemos sacar mayor provecho a la capacida de cómputo.\n",
    "\n",
    "Podemos añadir también la fecha de la escena siguiendo el siguiente código:"
   ]
  },
  {
   "cell_type": "code",
   "execution_count": null,
   "id": "8e17c091-ff51-48f1-94fc-a4b453c67c86",
   "metadata": {
    "tags": []
   },
   "outputs": [],
   "source": [
    "date = s3_images.loc[idx]['date'].max()\n",
    "ds = ds.expand_dims(time=pd.to_datetime([date], format = \"%Y%m%d\"))"
   ]
  },
  {
   "cell_type": "code",
   "execution_count": null,
   "id": "9c2ccbce-ce16-4cb1-87e9-134ba1bf077b",
   "metadata": {
    "tags": []
   },
   "outputs": [],
   "source": [
    "ds"
   ]
  },
  {
   "cell_type": "code",
   "execution_count": null,
   "id": "257649bf-eaf2-4a18-9c75-ae4863d4d57a",
   "metadata": {
    "tags": []
   },
   "outputs": [],
   "source": [
    "ds[[\"red\", \"green\", \"blue\"]].squeeze().to_array().plot.imshow(robust=True, figsize=(12, 10), vmin=500)"
   ]
  },
  {
   "cell_type": "markdown",
   "id": "6511331b-1d6c-4397-90f0-1dc7723e163f",
   "metadata": {},
   "source": [
    "¿Qué resolución tenemos?"
   ]
  },
  {
   "cell_type": "code",
   "execution_count": null,
   "id": "99995477-b85f-453c-8f6d-ec0bdf79d67b",
   "metadata": {
    "tags": []
   },
   "outputs": [],
   "source": [
    "ds.rio.resolution()"
   ]
  },
  {
   "cell_type": "markdown",
   "id": "e5802b99-5686-4347-9592-ac515da7c3e3",
   "metadata": {},
   "source": [
    "¿Qué sistema de referencia de coordenadas tenemos?"
   ]
  },
  {
   "cell_type": "code",
   "execution_count": null,
   "id": "53179830-e95e-40b2-a6f2-b0ba73d88931",
   "metadata": {
    "tags": []
   },
   "outputs": [],
   "source": [
    "ds.rio.crs"
   ]
  },
  {
   "cell_type": "markdown",
   "id": "072e0668-cc7f-449d-a397-cb2c29bde48f",
   "metadata": {
    "tags": []
   },
   "source": [
    "Genial!\n",
    "\n",
    "Ya es posible utilizar esta escena `planet_scope`.\n",
    "\n",
    "***\n",
    "\n",
    "Pero, ¿Cómo genero un cubo con otras imágenes?"
   ]
  },
  {
   "cell_type": "code",
   "execution_count": null,
   "id": "46dbb2a8-e0b9-4af3-8a4b-ee2619faf4ff",
   "metadata": {},
   "outputs": [],
   "source": [
    "query = {\n",
    "    \"product\": \"s2_l2a\",\n",
    "    #\"measurements\": \"\",\n",
    "    \"y\": (-51.05, -50.95), \n",
    "    \"x\": (-73.35, -73.15),\n",
    "    \"time\": (\"2023-12-25\", \"2024-01-05\"),\n",
    "    \"output_crs\": \"EPSG:32718\",\n",
    "    \"resolution\": (-10, 10),\n",
    "    \"dask_chunks\": {\"time\": 1, 'x':2048, 'y':2048},\n",
    "    \"group_by\": \"solar_day\"\n",
    "}"
   ]
  },
  {
   "cell_type": "code",
   "execution_count": null,
   "id": "2395cdc9-cc35-49e2-bce3-b9a0b1da6250",
   "metadata": {
    "tags": []
   },
   "outputs": [],
   "source": [
    "s2_ds = dc.load(**query)"
   ]
  },
  {
   "cell_type": "code",
   "execution_count": null,
   "id": "2e16ac93-8a85-4793-8b74-a85b0c3ef833",
   "metadata": {
    "tags": []
   },
   "outputs": [],
   "source": [
    "s2_ds"
   ]
  },
  {
   "cell_type": "code",
   "execution_count": null,
   "id": "4d25d1c2-e944-4bca-aaf1-7b2a72b470b4",
   "metadata": {
    "tags": []
   },
   "outputs": [],
   "source": [
    "s2_ds[['red', 'green', 'blue']].to_array().plot.imshow(vmin = 100, vmax = 5000, col = 'time', col_wrap = 5)"
   ]
  },
  {
   "cell_type": "markdown",
   "id": "89b58202-6844-4e80-a65d-3ba77ec4ba56",
   "metadata": {
    "tags": []
   },
   "source": [
    "Vamos a elegir algunas bandas espectrales que se comparten en ambas imágenes"
   ]
  },
  {
   "cell_type": "code",
   "execution_count": null,
   "id": "7ebc0036-30c4-4fe8-8b01-b8c0c36b2be5",
   "metadata": {
    "tags": []
   },
   "outputs": [],
   "source": [
    "ds = ds[['coastal', 'blue', 'green', 'red', 'nir']]\n",
    "s2_ds = s2_ds[['coastal', 'blue', 'green', 'red', 'nir']]"
   ]
  },
  {
   "cell_type": "markdown",
   "id": "0db062db-b44f-49b3-9bb8-a5eff3797fb1",
   "metadata": {},
   "source": [
    "Luego vamos a reproyectar `planet_scope` debido a que queremos combinarlo con `sentinel 2`. Siendo `sentinel 2` quien tiene una menor resolución espacial.\n",
    "\n",
    "Este código ajusta la imagen de `planet_scope` al sistema de referencia de coordenada, extensión, resolución y alineación de `sentinel 2` usando el método de remuestreo `nearest`."
   ]
  },
  {
   "cell_type": "code",
   "execution_count": null,
   "id": "7cc8e2a1-7d04-45e9-a36f-519d6eca738d",
   "metadata": {
    "tags": []
   },
   "outputs": [],
   "source": [
    "ps_ds = ds.rio.reproject(\n",
    "    s2_ds.rio.crs,\n",
    "    transform=s2_ds.rio.transform(),\n",
    "    shape=s2_ds.rio.shape,\n",
    "    resampling = Resampling.nearest\n",
    ")"
   ]
  },
  {
   "cell_type": "markdown",
   "id": "99f77402-d86c-4dfa-a660-5aac6c2046d0",
   "metadata": {
    "tags": []
   },
   "source": [
    "Reasignamos el atributo `spatial_ref` para que tenga el valor de EPSG."
   ]
  },
  {
   "cell_type": "code",
   "execution_count": null,
   "id": "04922097-691f-45da-a9ac-03e593b6c5bd",
   "metadata": {
    "tags": []
   },
   "outputs": [],
   "source": [
    "ps_ds.spatial_ref.values = np.array([ps_ds.rio.crs.to_epsg()]).reshape(())"
   ]
  },
  {
   "cell_type": "markdown",
   "id": "4cb3ff66-345e-46ef-8f3e-0abfcfe530cc",
   "metadata": {
    "tags": []
   },
   "source": [
    "Y unimos ambos imagenes"
   ]
  },
  {
   "cell_type": "code",
   "execution_count": null,
   "id": "0f00c5f4-a551-40aa-843f-d4126ea43652",
   "metadata": {
    "tags": []
   },
   "outputs": [],
   "source": [
    "join_ds = xr.merge([s2_ds, ps_ds])\n",
    "join_ds"
   ]
  },
  {
   "cell_type": "markdown",
   "id": "245f9463-357f-472a-b422-cfc819a6f762",
   "metadata": {},
   "source": [
    "Listo, ¡ya tenemos ambos productos unidos!\n",
    "\n",
    "¿Veamos los resultados?"
   ]
  },
  {
   "cell_type": "code",
   "execution_count": null,
   "id": "ff9eb869-d1f6-4034-9365-a62d36cf2475",
   "metadata": {
    "tags": []
   },
   "outputs": [],
   "source": [
    "join_ds[[\"red\", \"green\", \"blue\"]].isel(time = [0, 2]).to_array().plot.imshow(vmin = 100, vmax = 5000, col = 'time', figsize = (20,10))"
   ]
  },
  {
   "cell_type": "code",
   "execution_count": null,
   "id": "6698809d-9f32-4daa-9189-707f49980c6e",
   "metadata": {
    "tags": []
   },
   "outputs": [],
   "source": [
    "client.close()\n",
    "\n",
    "cluster.close()"
   ]
  }
 ],
 "metadata": {
  "kernelspec": {
   "display_name": "Python 3 (ipykernel)",
   "language": "python",
   "name": "python3"
  },
  "language_info": {
   "codemirror_mode": {
    "name": "ipython",
    "version": 3
   },
   "file_extension": ".py",
   "mimetype": "text/x-python",
   "name": "python",
   "nbconvert_exporter": "python",
   "pygments_lexer": "ipython3",
   "version": "3.10.12"
  }
 },
 "nbformat": 4,
 "nbformat_minor": 5
}
