{
 "cells": [
  {
   "cell_type": "markdown",
   "metadata": {},
   "source": [
    "<img align=\"center\" src=\"../extra/logos/logos.png\" width='800px'>"
   ]
  },
  {
   "cell_type": "markdown",
   "metadata": {},
   "source": [
    "# Actividad final\n",
    "\n",
    "El curso termina con la aplicación de un flujo de trabajo en una zona de interés- Para ello, contarán con el tiempo restante del tercer día y 3 días adicionales. Posteriormente, la cuenta será deshabilitada.\n",
    "\n",
    "El jupyter notebook con el resultado final deberá ser entregado vía correo electrónico a alvaro.paredes@dataobservatory.net (con el asunto: datacube training proyecto final).\n",
    "\n",
    "\n",
    "## Requisitos sugeridos\n",
    "\n",
    "1. Selección de productos y visualización zona de estudio\n",
    "1. Generación de Visualizaciones:\n",
    "    1. Gráfico en 2D (líneas, scatter, barras, etc)\n",
    "    1. Visualización raster (matplotlib por ejemplo)\n",
    "1. Incluir un paso para resumir/agregar información\n",
    "1. Exportar información (producto final, idealmente una imagen).\n",
    "\n",
    "## *Siguientes pasos*\n",
    "\n",
    "Para continuar el entrenamiento, un listado con los notebooks de esta sesión\n",
    "\n",
    "1. [Acceso y configuración](00_Acceso_configuración.ipynb)\n",
    "2. [Cargar datos](01_Carga_datos.ipynb)\n",
    "3. [Análisis básico](02_Análisis_básico.ipynb)\n",
    "4. [Estudio de caso](03_Actividad_final.ipynb)\n",
    "5. **Trabajo final**"
   ]
  }
 ],
 "metadata": {
  "kernelspec": {
   "display_name": "Python 3",
   "language": "python",
   "name": "python3"
  },
  "language_info": {
   "codemirror_mode": {
    "name": "ipython",
    "version": 3
   },
   "file_extension": ".py",
   "mimetype": "text/x-python",
   "name": "python",
   "nbconvert_exporter": "python",
   "pygments_lexer": "ipython3",
   "version": "3.6.9"
  }
 },
 "nbformat": 4,
 "nbformat_minor": 4
}
