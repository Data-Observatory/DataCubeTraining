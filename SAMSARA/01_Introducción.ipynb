{
 "cells": [
  {
   "cell_type": "markdown",
   "id": "16b06301-ad66-4112-9890-6f9ee4b20c98",
   "metadata": {},
   "source": [
    "<img align=\"center\" src=\"../extra/logos/logos.png\" width='1200px'>"
   ]
  },
  {
   "cell_type": "markdown",
   "id": "f430824f-cda2-41ac-a1a1-c9d753acd24a",
   "metadata": {},
   "source": [
    "# Tipos de celdas\n",
    "\n",
    "## Código\n",
    "\n",
    "## Markdown"
   ]
  },
  {
   "cell_type": "markdown",
   "id": "6baf0d94-a3d5-4bd0-810b-ca29c3172afa",
   "metadata": {},
   "source": [
    "# Carga de datos\n",
    "\n",
    "1. Descripción de productos\n",
    "1. Descripción de mediciones\n",
    "1. Ventana espacial\n",
    "1. Ventana temporal\n",
    "1. Proyección y resolución de salida\n",
    "\n",
    "## Explorador\n",
    "\n",
    "Explorador permite ...... [link](https://explorer.datacubechile.cl)\n",
    "\n",
    "## DataCube"
   ]
  },
  {
   "cell_type": "markdown",
   "id": "c57674d5-6c20-4138-8446-3b3ba1ba1b12",
   "metadata": {},
   "source": [
    "# Explorando resultado: Xarray\n",
    "\n",
    "1. Dimensiones\n",
    "1. Coordenadas\n",
    "1. Variables\n",
    "1. Atributos"
   ]
  },
  {
   "cell_type": "markdown",
   "id": "8fcc9f5e-230e-4823-bbef-5a7d0a64af85",
   "metadata": {},
   "source": [
    "# Visualizaciones"
   ]
  },
  {
   "cell_type": "markdown",
   "id": "14cd287c-4009-4959-8fa3-21389240ab24",
   "metadata": {},
   "source": [
    "# Depurar información: enmascarar valores no válidos"
   ]
  },
  {
   "cell_type": "markdown",
   "id": "d68f135d-9e52-42a9-a01c-8096872224a2",
   "metadata": {},
   "source": [
    "# Índices espectrales"
   ]
  },
  {
   "cell_type": "markdown",
   "id": "77d39083-8d0e-4717-bd1d-ff575db70f01",
   "metadata": {},
   "source": [
    "# Compuestos"
   ]
  },
  {
   "cell_type": "markdown",
   "id": "19bb76a0-b46c-4400-a405-b10c2b53a15e",
   "metadata": {},
   "source": [
    "# Exportar información"
   ]
  },
  {
   "cell_type": "code",
   "execution_count": null,
   "id": "13271fcf-f312-48b9-a6b6-9b12f903b504",
   "metadata": {},
   "outputs": [],
   "source": []
  }
 ],
 "metadata": {
  "kernelspec": {
   "display_name": "Python 3 (ipykernel)",
   "language": "python",
   "name": "python3"
  },
  "language_info": {
   "codemirror_mode": {
    "name": "ipython",
    "version": 3
   },
   "file_extension": ".py",
   "mimetype": "text/x-python",
   "name": "python",
   "nbconvert_exporter": "python",
   "pygments_lexer": "ipython3",
   "version": "3.8.10"
  }
 },
 "nbformat": 4,
 "nbformat_minor": 5
}
